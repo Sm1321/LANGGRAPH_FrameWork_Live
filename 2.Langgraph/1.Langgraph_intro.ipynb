{
 "cells": [
  {
   "cell_type": "markdown",
   "id": "40e966ae",
   "metadata": {},
   "source": [
    "### Langgraph Into"
   ]
  },
  {
   "cell_type": "markdown",
   "id": "4c2fa74e",
   "metadata": {
    "vscode": {
     "languageId": "plaintext"
    }
   },
   "source": [
    "#### Langgraph\n",
    "- Nodes\n",
    "- Edges\n",
    "- Function\n",
    "- Stategraph \n",
    "- State\n",
    "- invoke\n"
   ]
  },
  {
   "cell_type": "code",
   "execution_count": 33,
   "id": "2d2f10fd",
   "metadata": {},
   "outputs": [],
   "source": [
    "import os\n"
   ]
  },
  {
   "cell_type": "code",
   "execution_count": 49,
   "id": "a8e23f13",
   "metadata": {},
   "outputs": [],
   "source": [
    "\n",
    "def function1(input1):\n",
    "    return input1 + \" This is from the Function 1,\""
   ]
  },
  {
   "cell_type": "code",
   "execution_count": 50,
   "id": "9a0016d9",
   "metadata": {},
   "outputs": [],
   "source": [
    "def function2(input2):\n",
    "    return input2 + \" This is from Function 2\""
   ]
  },
  {
   "cell_type": "code",
   "execution_count": 51,
   "id": "6fc61a40",
   "metadata": {},
   "outputs": [],
   "source": [
    "def function3(input3):\n",
    "    pass"
   ]
  },
  {
   "cell_type": "code",
   "execution_count": 52,
   "id": "bd2879da",
   "metadata": {},
   "outputs": [
    {
     "name": "stdout",
     "output_type": "stream",
     "text": [
      "hi, This is from the Function 1,\n",
      "hello, This is from Function 2\n"
     ]
    }
   ],
   "source": [
    "print(function1(\"hi,\"))\n",
    "print(function2(\"hello,\"))"
   ]
  },
  {
   "cell_type": "markdown",
   "id": "57f5e9d4",
   "metadata": {},
   "source": [
    "### Graph"
   ]
  },
  {
   "cell_type": "code",
   "execution_count": 53,
   "id": "5eacfe0b",
   "metadata": {},
   "outputs": [],
   "source": [
    "from langgraph.graph import Graph"
   ]
  },
  {
   "cell_type": "code",
   "execution_count": 54,
   "id": "549be528",
   "metadata": {},
   "outputs": [],
   "source": [
    "workflow1 = Graph()"
   ]
  },
  {
   "cell_type": "code",
   "execution_count": 55,
   "id": "882e3e94",
   "metadata": {},
   "outputs": [
    {
     "data": {
      "text/plain": [
       "<langgraph.graph.graph.Graph at 0x1ed29f6ca40>"
      ]
     },
     "execution_count": 55,
     "metadata": {},
     "output_type": "execute_result"
    }
   ],
   "source": [
    "workflow1"
   ]
  },
  {
   "cell_type": "code",
   "execution_count": 56,
   "id": "9c045e00",
   "metadata": {},
   "outputs": [
    {
     "data": {
      "text/plain": [
       "<langgraph.graph.graph.Graph at 0x1ed29f6ca40>"
      ]
     },
     "execution_count": 56,
     "metadata": {},
     "output_type": "execute_result"
    }
   ],
   "source": [
    "#Add the Nodes and Edges\n",
    "workflow1.add_node(\"func1\",function1)\n",
    "workflow1.add_node(\"func2\",function2)\n",
    "# workflow1.add_node(\"func3\",function3)\n",
    "\n",
    "#Create the Edges\n",
    "workflow1.add_edge(\"func1\",\"func2\")\n",
    "\n",
    "## START and END\n",
    "workflow1.set_entry_point(\"func1\")\n",
    "workflow1.set_finish_point(\"func2\")\n"
   ]
  },
  {
   "cell_type": "code",
   "execution_count": 57,
   "id": "42a04469",
   "metadata": {},
   "outputs": [],
   "source": [
    "app = workflow1.compile()"
   ]
  },
  {
   "cell_type": "code",
   "execution_count": 58,
   "id": "29a8c588",
   "metadata": {},
   "outputs": [
    {
     "data": {
      "text/plain": [
       "Graph(nodes={'func1': Node(id='func1', name='func1', data=func1(tags=None, recurse=True, explode_args=False, func_accepts_config=False, func_accepts={}), metadata=None), 'func2': Node(id='func2', name='func2', data=func2(tags=None, recurse=True, explode_args=False, func_accepts_config=False, func_accepts={}), metadata=None), '__start__': Node(id='__start__', name='__start__', data=None, metadata=None), '__end__': Node(id='__end__', name='__end__', data=None, metadata=None)}, edges=[Edge(source='__start__', target='func1', data=None, conditional=False), Edge(source='func1', target='func2', data=None, conditional=False), Edge(source='func2', target='__end__', data=None, conditional=False)])"
      ]
     },
     "execution_count": 58,
     "metadata": {},
     "output_type": "execute_result"
    }
   ],
   "source": [
    "app.get_graph()  #we will get the flow"
   ]
  },
  {
   "cell_type": "code",
   "execution_count": 59,
   "id": "7caeca37",
   "metadata": {},
   "outputs": [],
   "source": [
    "from IPython.display import Image,display"
   ]
  },
  {
   "cell_type": "code",
   "execution_count": 60,
   "id": "cce05fc7",
   "metadata": {},
   "outputs": [
    {
     "data": {
      "image/png": "[encoded data removed]",
      "text/plain": [
       "<IPython.core.display.Image object>"
      ]
     },
     "metadata": {},
     "output_type": "display_data"
    }
   ],
   "source": [
    "display(Image(app.get_graph().draw_mermaid_png()))"
   ]
  },
  {
   "cell_type": "code",
   "execution_count": 61,
   "id": "73d8c3bd",
   "metadata": {},
   "outputs": [
    {
     "data": {
      "text/plain": [
       "'I am Mohan, This is from the Function 1, This is from Function 2'"
      ]
     },
     "execution_count": 61,
     "metadata": {},
     "output_type": "execute_result"
    }
   ],
   "source": [
    "app.invoke(\"I am Mohan,\")"
   ]
  },
  {
   "cell_type": "code",
   "execution_count": null,
   "id": "c10e5591",
   "metadata": {},
   "outputs": [],
   "source": []
  },
  {
   "cell_type": "code",
   "execution_count": null,
   "id": "e1e930ef",
   "metadata": {},
   "outputs": [],
   "source": []
  },
  {
   "cell_type": "code",
   "execution_count": null,
   "id": "0ee47c30",
   "metadata": {},
   "outputs": [],
   "source": []
  }
 ],
 "metadata": {
  "kernelspec": {
   "display_name": "Python 3",
   "language": "python",
   "name": "python3"
  },
  "language_info": {
   "codemirror_mode": {
    "name": "ipython",
    "version": 3
   },
   "file_extension": ".py",
   "mimetype": "text/x-python",
   "name": "python",
   "nbconvert_exporter": "python",
   "pygments_lexer": "ipython3",
   "version": "3.12.11"
  }
 },
 "nbformat": 4,
 "nbformat_minor": 5
}
