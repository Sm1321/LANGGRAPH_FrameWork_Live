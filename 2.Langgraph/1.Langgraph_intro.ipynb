{
 "cells": [
  {
   "cell_type": "markdown",
   "id": "40e966ae",
   "metadata": {},
   "source": [
    "### Langgraph Into"
   ]
  },
  {
   "cell_type": "markdown",
   "id": "4c2fa74e",
   "metadata": {
    "vscode": {
     "languageId": "plaintext"
    }
   },
   "source": [
    "#### Langgraph\n",
    "- Nodes\n",
    "- Edges\n",
    "- Function\n",
    "- Stategraph \n",
    "- State\n",
    "- invoke\n"
   ]
  },
  {
   "cell_type": "code",
   "execution_count": 33,
   "id": "2d2f10fd",
   "metadata": {},
   "outputs": [],
   "source": [
    "import os\n"
   ]
  },
  {
   "cell_type": "code",
   "execution_count": 49,
   "id": "a8e23f13",
   "metadata": {},
   "outputs": [],
   "source": [
    "\n",
    "def function1(input1):\n",
    "    return input1 + \" This is from the Function 1,\""
   ]
  },
  {
   "cell_type": "code",
   "execution_count": 50,
   "id": "9a0016d9",
   "metadata": {},
   "outputs": [],
   "source": [
    "def function2(input2):\n",
    "    return input2 + \" This is from Function 2\""
   ]
  },
  {
   "cell_type": "code",
   "execution_count": 51,
   "id": "6fc61a40",
   "metadata": {},
   "outputs": [],
   "source": [
    "def function3(input3):\n",
    "    pass"
   ]
  },
  {
   "cell_type": "code",
   "execution_count": 52,
   "id": "bd2879da",
   "metadata": {},
   "outputs": [
    {
     "name": "stdout",
     "output_type": "stream",
     "text": [
      "hi, This is from the Function 1,\n",
      "hello, This is from Function 2\n"
     ]
    }
   ],
   "source": [
    "print(function1(\"hi,\"))\n",
    "print(function2(\"hello,\"))"
   ]
  },
  {
   "cell_type": "markdown",
   "id": "57f5e9d4",
   "metadata": {},
   "source": [
    "### Graph"
   ]
  },
  {
   "cell_type": "code",
   "execution_count": 53,
   "id": "5eacfe0b",
   "metadata": {},
   "outputs": [],
   "source": [
    "from langgraph.graph import Graph"
   ]
  },
  {
   "cell_type": "code",
   "execution_count": 54,
   "id": "549be528",
   "metadata": {},
   "outputs": [],
   "source": [
    "workflow1 = Graph()"
   ]
  },
  {
   "cell_type": "code",
   "execution_count": 55,
   "id": "882e3e94",
   "metadata": {},
   "outputs": [
    {
     "data": {
      "text/plain": [
       "<langgraph.graph.graph.Graph at 0x1ed29f6ca40>"
      ]
     },
     "execution_count": 55,
     "metadata": {},
     "output_type": "execute_result"
    }
   ],
   "source": [
    "workflow1"
   ]
  },
  {
   "cell_type": "code",
   "execution_count": 56,
   "id": "9c045e00",
   "metadata": {},
   "outputs": [
    {
     "data": {
      "text/plain": [
       "<langgraph.graph.graph.Graph at 0x1ed29f6ca40>"
      ]
     },
     "execution_count": 56,
     "metadata": {},
     "output_type": "execute_result"
    }
   ],
   "source": [
    "#Add the Nodes and Edges\n",
    "workflow1.add_node(\"func1\",function1)\n",
    "workflow1.add_node(\"func2\",function2)\n",
    "# workflow1.add_node(\"func3\",function3)\n",
    "\n",
    "#Create the Edges\n",
    "workflow1.add_edge(\"func1\",\"func2\")\n",
    "\n",
    "## START and END\n",
    "workflow1.set_entry_point(\"func1\")\n",
    "workflow1.set_finish_point(\"func2\")\n"
   ]
  },
  {
   "cell_type": "code",
   "execution_count": 57,
   "id": "42a04469",
   "metadata": {},
   "outputs": [],
   "source": [
    "app = workflow1.compile()"
   ]
  },
  {
   "cell_type": "code",
   "execution_count": 58,
   "id": "29a8c588",
   "metadata": {},
   "outputs": [
    {
     "data": {
      "text/plain": [
       "Graph(nodes={'func1': Node(id='func1', name='func1', data=func1(tags=None, recurse=True, explode_args=False, func_accepts_config=False, func_accepts={}), metadata=None), 'func2': Node(id='func2', name='func2', data=func2(tags=None, recurse=True, explode_args=False, func_accepts_config=False, func_accepts={}), metadata=None), '__start__': Node(id='__start__', name='__start__', data=None, metadata=None), '__end__': Node(id='__end__', name='__end__', data=None, metadata=None)}, edges=[Edge(source='__start__', target='func1', data=None, conditional=False), Edge(source='func1', target='func2', data=None, conditional=False), Edge(source='func2', target='__end__', data=None, conditional=False)])"
      ]
     },
     "execution_count": 58,
     "metadata": {},
     "output_type": "execute_result"
    }
   ],
   "source": [
    "app.get_graph()  #we will get the flow"
   ]
  },
  {
   "cell_type": "code",
   "execution_count": 59,
   "id": "7caeca37",
   "metadata": {},
   "outputs": [],
   "source": [
    "from IPython.display import Image,display"
   ]
  },
  {
   "cell_type": "code",
   "execution_count": 60,
   "id": "cce05fc7",
   "metadata": {},
   "outputs": [
    {
     "data": {
      "image/png": "[encoded data removed]",
      "text/plain": [
       "<IPython.core.display.Image object>"
      ]
     },
     "metadata": {},
     "output_type": "display_data"
    }
   ],
   "source": [
    "display(Image(app.get_graph().draw_mermaid_png()))"
   ]
  },
  {
   "cell_type": "code",
   "execution_count": 61,
   "id": "73d8c3bd",
   "metadata": {},
   "outputs": [
    {
     "data": {
      "text/plain": [
       "'I am Mohan, This is from the Function 1, This is from Function 2'"
      ]
     },
     "execution_count": 61,
     "metadata": {},
     "output_type": "execute_result"
    }
   ],
   "source": [
    "app.invoke(\"I am Mohan,\")"
   ]
  },
  {
   "cell_type": "code",
   "execution_count": 63,
   "id": "c10e5591",
   "metadata": {},
   "outputs": [
    {
     "name": "stdout",
     "output_type": "stream",
     "text": [
      "here is the output from func1\n",
      "----------------------------------------------------------------------------------------------------\n",
      "I am Mohan, This is from the Function 1,\n",
      "\n",
      "\n",
      "here is the output from func2\n",
      "----------------------------------------------------------------------------------------------------\n",
      "I am Mohan, This is from the Function 1, This is from Function 2\n",
      "\n",
      "\n"
     ]
    }
   ],
   "source": [
    "for output in app.stream(\"I am Mohan,\"):\n",
    "    for key,value in output.items():\n",
    "        print(f\"here is the output from {key}\")\n",
    "        print(\"--\"*50)\n",
    "        print(value)\n",
    "        print(\"\\n\")\n"
   ]
  },
  {
   "cell_type": "markdown",
   "id": "e1e930ef",
   "metadata": {},
   "source": [
    "### Ex:-2"
   ]
  },
  {
   "cell_type": "code",
   "execution_count": 97,
   "id": "b4b98818",
   "metadata": {},
   "outputs": [],
   "source": [
    "import os\n",
    "os.environ['GROQ_API_KEY'] = os.getenv('GROQ_API_KEY')\n",
    "from langchain_groq import ChatGroq"
   ]
  },
  {
   "cell_type": "code",
   "execution_count": null,
   "id": "9065bcc5",
   "metadata": {},
   "outputs": [
    {
     "data": {
      "text/plain": [
       "'How can I assist you today?'"
      ]
     },
     "execution_count": 134,
     "metadata": {},
     "output_type": "execute_result"
    }
   ],
   "source": [
    "#Groq Model \n",
    "model = ChatGroq(model = \"llama-3.1-8b-instant\")\n",
    "output = model.invoke(\"hi\")\n",
    "output.content"
   ]
  },
  {
   "cell_type": "code",
   "execution_count": null,
   "id": "0ee47c30",
   "metadata": {},
   "outputs": [],
   "source": [
    "def llm(input):\n",
    "    model = ChatGroq(model = \"llama-3.1-8b-instant\")\n",
    "    output = model.invoke(input)\n",
    "    return output.content\n",
    "    \n",
    "\n",
    "def token_counter(input):\n",
    "    token = input.split()\n",
    "    token_number = len(token)\n",
    "    return f\"Total Length  of the Token is:-{token_number}\"\n",
    "\n"
   ]
  },
  {
   "cell_type": "code",
   "execution_count": 119,
   "id": "ae405986",
   "metadata": {},
   "outputs": [],
   "source": [
    "workflow2 = Graph() #Graph "
   ]
  },
  {
   "cell_type": "code",
   "execution_count": 120,
   "id": "8c20a641",
   "metadata": {},
   "outputs": [
    {
     "data": {
      "text/plain": [
       "<langgraph.graph.graph.Graph at 0x1ed32e5f650>"
      ]
     },
     "execution_count": 120,
     "metadata": {},
     "output_type": "execute_result"
    }
   ],
   "source": [
    "#Add the Nodes\n",
    "workflow2.add_node(\"MY_LLM\",llm)\n",
    "workflow2.add_node(\"LLM_Output_Token_Counter\",token_counter) "
   ]
  },
  {
   "cell_type": "code",
   "execution_count": 121,
   "id": "7d793575",
   "metadata": {},
   "outputs": [
    {
     "data": {
      "text/plain": [
       "<langgraph.graph.graph.Graph at 0x1ed32e5f650>"
      ]
     },
     "execution_count": 121,
     "metadata": {},
     "output_type": "execute_result"
    }
   ],
   "source": [
    "### Add the Edges\n",
    "workflow2.add_edge(\"MY_LLM\",\"LLM_Output_Token_Counter\")"
   ]
  },
  {
   "cell_type": "code",
   "execution_count": 122,
   "id": "68435f6e",
   "metadata": {},
   "outputs": [
    {
     "data": {
      "text/plain": [
       "<langgraph.graph.graph.Graph at 0x1ed32e5f650>"
      ]
     },
     "execution_count": 122,
     "metadata": {},
     "output_type": "execute_result"
    }
   ],
   "source": [
    "##Add the Start and End Points\n",
    "workflow2.set_entry_point(\"MY_LLM\")\n",
    "workflow2.set_finish_point(\"LLM_Output_Token_Counter\")"
   ]
  },
  {
   "cell_type": "code",
   "execution_count": 123,
   "id": "f92e17f5",
   "metadata": {},
   "outputs": [
    {
     "data": {
      "text/plain": [
       "<langgraph.graph.graph.Graph at 0x1ed32e5f650>"
      ]
     },
     "execution_count": 123,
     "metadata": {},
     "output_type": "execute_result"
    }
   ],
   "source": [
    "workflow2"
   ]
  },
  {
   "cell_type": "code",
   "execution_count": 124,
   "id": "1a55a074",
   "metadata": {},
   "outputs": [],
   "source": [
    "app2 = workflow2.compile()"
   ]
  },
  {
   "cell_type": "markdown",
   "id": "705f1261",
   "metadata": {},
   "source": [
    "- This will give the flow `get_graph`"
   ]
  },
  {
   "cell_type": "code",
   "execution_count": 125,
   "id": "135dc68d",
   "metadata": {},
   "outputs": [
    {
     "data": {
      "text/plain": [
       "Graph(nodes={'MY_LLM': Node(id='MY_LLM', name='MY_LLM', data=MY_LLM(tags=None, recurse=True, explode_args=False, func_accepts_config=False, func_accepts={}), metadata=None), 'LLM_Output_Token_Counter': Node(id='LLM_Output_Token_Counter', name='LLM_Output_Token_Counter', data=LLM_Output_Token_Counter(tags=None, recurse=True, explode_args=False, func_accepts_config=False, func_accepts={}), metadata=None), '__start__': Node(id='__start__', name='__start__', data=None, metadata=None), '__end__': Node(id='__end__', name='__end__', data=None, metadata=None)}, edges=[Edge(source='__start__', target='MY_LLM', data=None, conditional=False), Edge(source='MY_LLM', target='LLM_Output_Token_Counter', data=None, conditional=False), Edge(source='LLM_Output_Token_Counter', target='__end__', data=None, conditional=False)])"
      ]
     },
     "execution_count": 125,
     "metadata": {},
     "output_type": "execute_result"
    }
   ],
   "source": [
    "app2.get_graph()"
   ]
  },
  {
   "cell_type": "code",
   "execution_count": 126,
   "id": "fea781d2",
   "metadata": {},
   "outputs": [
    {
     "data": {
      "image/png": "[encoded data removed]",
      "text/plain": [
       "<IPython.core.display.Image object>"
      ]
     },
     "metadata": {},
     "output_type": "display_data"
    }
   ],
   "source": [
    "display(Image(app2.get_graph().draw_mermaid_png()))"
   ]
  },
  {
   "cell_type": "code",
   "execution_count": 127,
   "id": "8453378b",
   "metadata": {},
   "outputs": [
    {
     "data": {
      "text/plain": [
       "'Total Length  of the Token is:-25'"
      ]
     },
     "execution_count": 127,
     "metadata": {},
     "output_type": "execute_result"
    }
   ],
   "source": [
    "app2.invoke(\"what is this length?\")"
   ]
  },
  {
   "cell_type": "code",
   "execution_count": 128,
   "id": "e7f53810",
   "metadata": {},
   "outputs": [
    {
     "data": {
      "text/plain": [
       "'Total Length  of the Token is:-315'"
      ]
     },
     "execution_count": 128,
     "metadata": {},
     "output_type": "execute_result"
    }
   ],
   "source": [
    "app2.invoke(\"Tell me about the Maruthi Suziki Car models?\")"
   ]
  },
  {
   "cell_type": "code",
   "execution_count": 130,
   "id": "dd8e32a6",
   "metadata": {},
   "outputs": [
    {
     "name": "stdout",
     "output_type": "stream",
     "text": [
      "here is output from MY_LLM\n",
      "----------------------------------------\n",
      "Maruti Suzuki is a Japanese multinational automotive manufacturer that has a significant presence in India, where it is a joint venture between Suzuki Motor Corporation and the Indian government's holding company, Maruti Udyog Limited. Here are some popular Maruti Suzuki car models:\n",
      "\n",
      "**Hatchbacks:**\n",
      "\n",
      "1. **Maruti Alto**: A compact hatchback, available in various trim levels, with a fuel-efficient engine option.\n",
      "2. **Maruti Wagon R**: Known for its spacious interior and fuel efficiency, it is a popular choice in the Indian market.\n",
      "3. **Maruti Swift**: A compact hatchback, known for its sporty design and strong performance.\n",
      "4. **Maruti Baleno**: A premium hatchback, known for its stylish design, spacious interior, and feature-packed infotainment system.\n",
      "5. **Maruti Ignis**: A compact crossover hatchback, known for its unique design and feature-packed infotainment system.\n",
      "\n",
      "**Sedans:**\n",
      "\n",
      "1. **Maruti Dzire**: A compact sedan, known for its fuel efficiency, spacious interior, and affordable price.\n",
      "2. **Maruti Ciaz**: A mid-size sedan, known for its comfortable ride, feature-packed infotainment system, and strong performance.\n",
      "3. **Maruti Eeco**: A compact sedan, known for its fuel efficiency and spacious interior.\n",
      "\n",
      "**SUVs and Crossovers:**\n",
      "\n",
      "1. **Maruti Vitara Brezza**: A compact SUV, known for its stylish design, spacious interior, and feature-packed infotainment system.\n",
      "2. **Maruti S-Cross**: A mid-size SUV, known for its comfortable ride, feature-packed infotainment system, and strong performance.\n",
      "3. **Maruti Jimny**: A compact off-road capable SUV, known for its rugged design and strong performance.\n",
      "\n",
      "**Electric and Hybrid Vehicles:**\n",
      "\n",
      "1. **Maruti Wagon R Electric**: An electric version of the popular Wagon R hatchback.\n",
      "2. **Maruti S-Cross Hybrid**: A hybrid version of the S-Cross SUV, which combines a petrol engine with an electric motor.\n",
      "\n",
      "**Other Models:**\n",
      "\n",
      "1. **Maruti Ertiga**: A compact MPV, known for its spacious interior and affordable price.\n",
      "2. **Maruti XL6**: A premium MPV, known for its feature-packed infotainment system, spacious interior, and comfortable ride.\n",
      "\n",
      "Note that this list may not be exhaustive, and Maruti Suzuki may have introduced new models or discontinued some of these models since my knowledge cutoff date.\n",
      "\n",
      "\n",
      "here is output from LLM_Output_Token_Counter\n",
      "----------------------------------------\n",
      "Total Length  of the Token is:-327\n",
      "\n",
      "\n"
     ]
    }
   ],
   "source": [
    "for output in app2.stream(\"Tell me about the Maruthi Suziki Car models?\"):\n",
    "    for key,value in output.items():\n",
    "        print(f\"here is output from {key}\")\n",
    "        print(\"----\"*10)\n",
    "        # print(key,\"\\n\")\n",
    "        print(value)\n",
    "        print(\"\\n\")"
   ]
  },
  {
   "cell_type": "code",
   "execution_count": 133,
   "id": "326b20e9",
   "metadata": {},
   "outputs": [
    {
     "name": "stdout",
     "output_type": "stream",
     "text": [
      "here is output from MY_LLM\n",
      "----------------------------------------\n",
      "MY_LLM <----here is key \n",
      "\n",
      "I think you meant to say Maruti Suzuki, not Maruthi Suzuki. Maruti Suzuki is a well-known Indian multinational automobile manufacturer. Here are some popular car models from Maruti Suzuki:\n",
      "\n",
      "**Hatchbacks:**\n",
      "\n",
      "1. **Maruti Suzuki Alto**: A popular entry-level hatchback, known for its affordability and fuel efficiency.\n",
      "2. **Maruti Suzuki Wagon R**: A spacious and feature-packed hatchback with a large boot space.\n",
      "3. **Maruti Suzuki Swift**: A compact and stylish hatchback, popular for its performance and handling.\n",
      "4. **Maruti Suzuki Celerio**: A modern and feature-rich hatchback with a spacious interior.\n",
      "5. **Maruti Suzuki Ignis**: A compact and stylish hatchback with a bold design.\n",
      "\n",
      "**Sedans:**\n",
      "\n",
      "1. **Maruti Suzuki Dzire**: A compact sedan with a spacious interior and a fuel-efficient engine.\n",
      "2. **Maruti Suzuki Baleno**: A premium sedan with a feature-rich interior and a comfortable ride.\n",
      "3. **Maruti Suzuki Ciaz**: A mid-size sedan with a spacious interior and a powerful engine.\n",
      "\n",
      "**SUVs:**\n",
      "\n",
      "1. **Maruti Suzuki Vitara Brezza**: A compact SUV with a spacious interior and a powerful engine.\n",
      "2. **Maruti Suzuki S-Presso**: A compact SUV with a fuel-efficient engine and a feature-rich interior.\n",
      "3. **Maruti Suzuki Jimny**: A rugged and off-road-capable SUV with a bold design.\n",
      "\n",
      "**Electric Vehicles (EVs):**\n",
      "\n",
      "1. **Maruti Suzuki e-Suzuki**: A compact electric vehicle with a range of up to 320 km.\n",
      "2. **Maruti Suzuki Fronx e-SUV**: A compact electric SUV with a range of up to 550 km.\n",
      "\n",
      "**Other models:**\n",
      "\n",
      "1. **Maruti Suzuki S-presso AMT**: A compact car with an automated manual transmission.\n",
      "2. **Maruti Suzuki XL6**: A premium MPV with a spacious interior and a feature-rich interior.\n",
      "\n",
      "Note that this list may not be exhaustive, and Maruti Suzuki may have introduced new models or discontinued some of these models since my knowledge cutoff date.\n",
      "\n",
      "\n",
      "here is output from LLM_Output_Token_Counter\n",
      "----------------------------------------\n",
      "LLM_Output_Token_Counter <----here is key \n",
      "\n",
      "Total Length  of the Token is:-285\n",
      "\n",
      "\n"
     ]
    }
   ],
   "source": [
    "for output in app2.stream(\"Tell me about the Maruthi Suziki Car models?\"):\n",
    "    for key,value in output.items():\n",
    "        print(f\"here is output from {key}\")\n",
    "        print(\"----\"*10)\n",
    "        print(key,\"<----here is key \\n\")\n",
    "        print(value)\n",
    "        print(\"\\n\")"
   ]
  },
  {
   "cell_type": "code",
   "execution_count": null,
   "id": "38ed77a3",
   "metadata": {},
   "outputs": [],
   "source": []
  }
 ],
 "metadata": {
  "kernelspec": {
   "display_name": "Python 3",
   "language": "python",
   "name": "python3"
  },
  "language_info": {
   "codemirror_mode": {
    "name": "ipython",
    "version": 3
   },
   "file_extension": ".py",
   "mimetype": "text/x-python",
   "name": "python",
   "nbconvert_exporter": "python",
   "pygments_lexer": "ipython3",
   "version": "3.12.11"
  }
 },
 "nbformat": 4,
 "nbformat_minor": 5
}
