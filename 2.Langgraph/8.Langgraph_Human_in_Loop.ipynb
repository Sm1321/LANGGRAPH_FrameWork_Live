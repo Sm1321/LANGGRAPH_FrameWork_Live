{
 "cells": [
  {
   "cell_type": "code",
   "execution_count": 77,
   "id": "4261e439",
   "metadata": {},
   "outputs": [],
   "source": [
    "import os"
   ]
  },
  {
   "cell_type": "code",
   "execution_count": 78,
   "id": "a424a6e4",
   "metadata": {},
   "outputs": [
    {
     "data": {
      "text/plain": [
       "True"
      ]
     },
     "execution_count": 78,
     "metadata": {},
     "output_type": "execute_result"
    }
   ],
   "source": [
    "from dotenv import load_dotenv\n",
    "load_dotenv()"
   ]
  },
  {
   "cell_type": "code",
   "execution_count": 79,
   "id": "018ed1ba",
   "metadata": {},
   "outputs": [
    {
     "data": {
      "text/plain": [
       "AIMessage(content='<think>\\n\\n</think>\\n\\nThe capital of France is Paris.', additional_kwargs={}, response_metadata={'token_usage': {'completion_tokens': 12, 'prompt_tokens': 10, 'total_tokens': 22, 'completion_time': 0.050847559, 'prompt_time': 0.000216727, 'queue_time': 0.053760473, 'total_time': 0.051064286}, 'model_name': 'deepseek-r1-distill-llama-70b', 'system_fingerprint': 'fp_1bbe7845ec', 'finish_reason': 'stop', 'logprobs': None}, id='run--2239fa0f-4152-4402-9073-663822b99b96-0', usage_metadata={'input_tokens': 10, 'output_tokens': 12, 'total_tokens': 22})"
      ]
     },
     "execution_count": 79,
     "metadata": {},
     "output_type": "execute_result"
    }
   ],
   "source": [
    "from langchain_groq import ChatGroq\n",
    "llm = ChatGroq(model_name=\"deepseek-r1-distill-llama-70b\")\n",
    "llm.invoke(\"What is the capital of France?\")"
   ]
  },
  {
   "cell_type": "code",
   "execution_count": 80,
   "id": "bcf53b85",
   "metadata": {},
   "outputs": [],
   "source": [
    "from langchain_core.tools import tool\n",
    "from langchain_community.tools.tavily_search import TavilySearchResults\n"
   ]
  },
  {
   "cell_type": "code",
   "execution_count": 81,
   "id": "1dcaf845",
   "metadata": {},
   "outputs": [],
   "source": [
    "@tool\n",
    "def multiply(x: int, y: int) -> int:\n",
    "    \"\"\"Multiplies two numbers.\"\"\"\n",
    "    return x * y"
   ]
  },
  {
   "cell_type": "code",
   "execution_count": 82,
   "id": "5d3cb53d",
   "metadata": {},
   "outputs": [
    {
     "data": {
      "text/plain": [
       "6"
      ]
     },
     "execution_count": 82,
     "metadata": {},
     "output_type": "execute_result"
    }
   ],
   "source": [
    "multiply({\"x\":2, \"y\":3})"
   ]
  },
  {
   "cell_type": "code",
   "execution_count": 83,
   "id": "0dbe8135",
   "metadata": {},
   "outputs": [],
   "source": [
    "@tool\n",
    "def search(query: str):\n",
    "    \"\"\"search the web for a query and return the results\"\"\"\n",
    "    tavily=TavilySearchResults()\n",
    "    result=tavily.invoke(query)\n",
    "    return f\"Result for {query} is: \\n{result}\"\n",
    "    "
   ]
  },
  {
   "cell_type": "code",
   "execution_count": 84,
   "id": "c5d1b959",
   "metadata": {},
   "outputs": [
    {
     "name": "stdout",
     "output_type": "stream",
     "text": [
      "Result for What is the capital of France? is: \n",
      "[{'title': 'Paris facts: the capital of France in history', 'url': 'https://home.adelphi.edu/~ca19535/page%204.html', 'content': 'page 4\\n\\n===============\\n\\nHomeSpainSydneySan FranciscoParisLas VegasMaui\\n\\n Paris, France\\n\\nImage 1\\n\\nParis facts: Paris, the capital of France\\n---------------------------------------------\\n\\nParis is the capital of France, the largest country of Europe with 550 000 km2 (65 millions inhabitants).\\n\\nParis has 2.234 million inhabitants end 2011. She is the core of Ile de France region (12 million people). [...] Before Paris, the capital of France was Lyon (under the Romans). Paris first became the capital of France in 508 under King Clovis. After centuries with no unique capital of France, Paris retrieved its status of capital of France under King Philippe Auguste, who reigned between 1180 and 1223. You can see remains of the Philippe August Paris walls in the passageway between the Louvre parking and Louvre Museum [...] Paris remained the capital of France until today, with one four year interruption. During German occupation (WW2 , 1940-1944), the capital of France was Vichy.\\n\\ngo to top\\n\\nReference:', 'score': 0.89166987}, {'title': 'Paris - Wikipedia', 'url': 'https://en.wikipedia.org/wiki/Paris', 'content': 'As the capital of France, Paris is the seat of France\\'s national government. For the executive, the two chief officers each have their own official residences, which also serve as their offices. The President of the French Republic resides at the Élysée Palace.( The Prime Minister\\'s seat is at the Hôtel Matignon.( Government ministries are located in various parts of the city, many near the Hôtel Matignon.( [...] Appearance\\n\\nmove to sidebar hide\\n\\nCoordinates: 48°51′24″N 2°21′8″E / 48.85667°N 2.35222°E / 48.85667; 2.35222_region:FR-75C)\\n\\nImage 4: This is a good article. Click here for more information.\\n\\nImage 5: Page semi-protected\\n\\nFrom Wikipedia, the free encyclopedia\\n\\nCapital and largest city of France\\n\\nThis article is about the capital city of France. For other uses, see Paris (disambiguation) \"Paris (disambiguation)\"). [...] Paris (French pronunciation:( \"Help:IPA/French\")ⓘ) is the capital and largest city of France. With an estimated population of 2,048,472 residents in January 2025( in an area of more than 105 km 2 (41 sq mi),( Paris is the fourth-most populous city in the European Union and the 30th most densely populated city in the world in 2022.( Since the 17th century, Paris has been one of the world\\'s major centres of finance, diplomacy, commerce, culture, fashion, and gastronomy. Because of its leading', 'score': 0.8815438}, {'title': 'France - Wikipedia', 'url': 'https://en.wikipedia.org/wiki/France', 'content': 'and its capital, largest city and main cultural and economic centre is Paris. [...] | France on the globe centred on Europe  Metropolitan France (European part of France) in Europe  France and its neighbors  Show France, its overseas territories and its exclusive economic zones  Location of France (blue or dark green) – in Europe (green & dark grey) – in the European Union (green) | |\\n| Capital and largest city | Paris 48°51′N 2°21′E\\ufeff / \\ufeff48.850°N 2.350°E\\ufeff / 48.850; 2.350_region:FR-75C) |\\n| Official language and national language | French | [...] France is a highly urbanised country, with its largest cities \"List of cities in France over 20,000 population (1999 census)\") (in terms of metropolitan area \"Functional area (France)\") population in 2021) being Paris (13,171,056 inh.), Lyon (2,308,818), Marseille (1,888,788), Lille (1,521,660), Toulouse (1,490,640), Bordeaux (1,393,764), Nantes (1,031,953), Strasbourg (864,993), Montpellier (823,120), and Rennes (771,320). (Note: since its 2020 revision of metropolitan area borders, INSEE', 'score': 0.7915799}, {'title': 'Paris | Definition, Map, Population, Facts, & History - Britannica', 'url': 'https://www.britannica.com/place/Paris', 'content': 'Paris occupies a depression hollowed out by the Seine. The surrounding heights have elevations that vary from 430 feet (130 meters), at the butte of Montmartre in the north, to 85 feet (26 meters), in the Grenelle area in the southwest. The city is surrounded by great forests of beech and oak, called the “lungs of Paris,” as they help purify the air in the region.\\n\\n### Paris is the capital of what country?\\n\\nParis is the national capital of France.\\n\\n## News • [...] Paris, city and capital of France, situated in the north-central part of the country. People were living on the site of the present-day city, located along the Seine River some 233 miles (375 km) upstream from the river’s mouth on the English Channel (La Manche), by about 7600 bce. The modern city has spread from the island (the Île de la Cité) and far beyond both banks of the Seine.\\n\\nParis\\n\\nParis(more) [...] Paris; Eiffel Tower\\n\\nParis; Eiffel Tower\\nView of the Paris skyline from Montparnasse.\\n\\n(more)\\n\\n# Paris\\n\\nnational capital, France\\n\\nAsk the Chatbot a Question\\n\\nMore Actions\\n\\nPrint\\n\\nCite\\n\\nShare\\n\\nFeedback\\n\\nExternal Websites\\n\\nAlso known as: Lutetia\\n\\nWritten by\\n\\nBlake Ehrlich\\n\\nAuthor of Paris on the Seine; London on the Thames.\\n\\nBlake Ehrlich\\n,\\n\\nKimberly Daul', 'score': 0.78194773}]\n"
     ]
    }
   ],
   "source": [
    "print(search.invoke({\"query\":\"What is the capital of France?\"}))"
   ]
  },
  {
   "cell_type": "code",
   "execution_count": 85,
   "id": "eb4a105c",
   "metadata": {},
   "outputs": [],
   "source": [
    "tools = [multiply, search]"
   ]
  },
  {
   "cell_type": "code",
   "execution_count": 86,
   "id": "87784610",
   "metadata": {},
   "outputs": [
    {
     "data": {
      "text/plain": [
       "[StructuredTool(name='multiply', description='Multiplies two numbers.', args_schema=<class 'langchain_core.utils.pydantic.multiply'>, func=<function multiply at 0x000001D3FE02B560>),\n",
       " StructuredTool(name='search', description='search the web for a query and return the results', args_schema=<class 'langchain_core.utils.pydantic.search'>, func=<function search at 0x000001D3FE06EC00>)]"
      ]
     },
     "execution_count": 86,
     "metadata": {},
     "output_type": "execute_result"
    }
   ],
   "source": [
    "tools"
   ]
  },
  {
   "cell_type": "code",
   "execution_count": 87,
   "id": "f868273c",
   "metadata": {},
   "outputs": [],
   "source": [
    "llm_with_tools = llm.bind_tools(tools)"
   ]
  },
  {
   "cell_type": "code",
   "execution_count": 88,
   "id": "eba20d04",
   "metadata": {},
   "outputs": [],
   "source": [
    "result = llm_with_tools.invoke(\"what is current gdp of india?\")"
   ]
  },
  {
   "cell_type": "code",
   "execution_count": 89,
   "id": "6bfee433",
   "metadata": {},
   "outputs": [
    {
     "data": {
      "text/plain": [
       "''"
      ]
     },
     "execution_count": 89,
     "metadata": {},
     "output_type": "execute_result"
    }
   ],
   "source": [
    "result.content"
   ]
  },
  {
   "cell_type": "code",
   "execution_count": 90,
   "id": "59dd2422",
   "metadata": {},
   "outputs": [
    {
     "data": {
      "text/plain": [
       "[{'name': 'search',\n",
       "  'args': {'query': 'current GDP of India'},\n",
       "  'id': 'g47jvt6q7',\n",
       "  'type': 'tool_call'}]"
      ]
     },
     "execution_count": 90,
     "metadata": {},
     "output_type": "execute_result"
    }
   ],
   "source": [
    "result.tool_calls"
   ]
  },
  {
   "cell_type": "code",
   "execution_count": 91,
   "id": "6099948e",
   "metadata": {},
   "outputs": [
    {
     "data": {
      "text/plain": [
       "'search'"
      ]
     },
     "execution_count": 91,
     "metadata": {},
     "output_type": "execute_result"
    }
   ],
   "source": [
    "result.tool_calls[0][\"name\"]"
   ]
  },
  {
   "cell_type": "code",
   "execution_count": 92,
   "id": "835edf2c",
   "metadata": {},
   "outputs": [
    {
     "data": {
      "text/plain": [
       "{'query': 'current GDP of India'}"
      ]
     },
     "execution_count": 92,
     "metadata": {},
     "output_type": "execute_result"
    }
   ],
   "source": [
    "result.tool_calls[0][\"args\"]"
   ]
  },
  {
   "cell_type": "code",
   "execution_count": 93,
   "id": "c76c4822",
   "metadata": {},
   "outputs": [
    {
     "data": {
      "text/plain": [
       "dict"
      ]
     },
     "execution_count": 93,
     "metadata": {},
     "output_type": "execute_result"
    }
   ],
   "source": [
    "type(result.tool_calls[0][\"args\"])"
   ]
  },
  {
   "cell_type": "code",
   "execution_count": 94,
   "id": "8bbb8bb2",
   "metadata": {},
   "outputs": [],
   "source": [
    "tool_mapping = {tool.name: tool for tool in tools}"
   ]
  },
  {
   "cell_type": "code",
   "execution_count": 95,
   "id": "edd32201",
   "metadata": {},
   "outputs": [
    {
     "data": {
      "text/plain": [
       "{'multiply': StructuredTool(name='multiply', description='Multiplies two numbers.', args_schema=<class 'langchain_core.utils.pydantic.multiply'>, func=<function multiply at 0x000001D3FE02B560>),\n",
       " 'search': StructuredTool(name='search', description='search the web for a query and return the results', args_schema=<class 'langchain_core.utils.pydantic.search'>, func=<function search at 0x000001D3FE06EC00>)}"
      ]
     },
     "execution_count": 95,
     "metadata": {},
     "output_type": "execute_result"
    }
   ],
   "source": [
    "tool_mapping"
   ]
  },
  {
   "cell_type": "code",
   "execution_count": 96,
   "id": "208687c1",
   "metadata": {},
   "outputs": [
    {
     "data": {
      "text/plain": [
       "StructuredTool(name='search', description='search the web for a query and return the results', args_schema=<class 'langchain_core.utils.pydantic.search'>, func=<function search at 0x000001D3FE06EC00>)"
      ]
     },
     "execution_count": 96,
     "metadata": {},
     "output_type": "execute_result"
    }
   ],
   "source": [
    "tool_mapping[\"search\"]"
   ]
  },
  {
   "cell_type": "code",
   "execution_count": 97,
   "id": "57f1f266",
   "metadata": {},
   "outputs": [
    {
     "data": {
      "text/plain": [
       "'Result for What is the Captial of India? is: \\n[{\\'title\\': \\'What is the capital of India? States and union territories explained.\\', \\'url\\': \\'https://www.usatoday.com/story/news/world/2023/05/24/what-is-the-capital-of-india/70195720007/\\', \\'content\\': \\'The capital of India is New Delhi, located in the north-central part of the country to the west of the Yamuna River. Calcutta (now Kolkata, the\\', \\'score\\': 0.8455478}, {\\'title\\': \\'What is the capital of India with details? - Quora\\', \\'url\\': \\'https://www.quora.com/What-is-the-capital-of-India-with-details\\', \\'content\\': \"Originally Answered: What is the capital of India? · \\\\n\\\\n   Delhi is India\\'s capital and one of the world\\'s oldest city.\\\\n   It has a rich history, with many monuments and sites, including the Mughal Empire and the British Raj.\\\\n   The city is famous for its cultural history, street cuisine, and vibrant marketplaces(Delhi Chor Bazaar).\\\\n   It is also a key transportation hub as well as a political and administrative centre of India.\\\\n\\\\nImage 3\\\\n\\\\nContinue Reading [...] I think every one would have studied in their geography lessons about capital of countries. Anyways, New Delhi is the capital of India. Delhi became capital of India in 1911. Before 1911, Calcutta was the capital of East India Company. The prime location of Delhi in the centre of the subcontinent was the main reason for shifting the capital from Calcutta. [...] What is the capital of India with details? - Quora\\\\n\\\\n===============\\\\n\\\\nSomething went wrong. Wait a moment and try again.\\\\n\\\\nTry again\\\\n\\\\nSkip to content\\\\n\\\\nSkip to search\\\\n\\\\n\\\\n\\\\nSort\\\\n\\\\nRecommended\\\\n\\\\nImage 1: Profile photo for Assistant\\\\n\\\\nAssistant\\\\n\\\\nBot\\\\n\\\\n·\\\\n\\\\n10mo\\\\n\\\\nThe capital of India is New Delhi. Here are some key details about New Delhi:\\\\n\\\\nLocation\\\\n\\\\n   Geography: New Delhi is located in the northern part of India and is part of the larger National Capital Territory (NCT) of Delhi.\\\\n\\\\nHistory\", \\'score\\': 0.82728493}, {\\'title\\': \\'New Delhi - Wikipedia\\', \\'url\\': \\'https://en.wikipedia.org/wiki/New_Delhi\\', \\'content\\': \\'Appearance\\\\n\\\\nmove to sidebar hide\\\\n\\\\nCoordinates: 28°36′50″N 77°12′32″E / 28.61389°N 77.20889°E / 28.61389; 77.20889\\\\n\\\\nImage 4: Page semi-protected\\\\n\\\\nFrom Wikipedia, the free encyclopedia\\\\n\\\\nCapital city of India\\\\n\\\\nThis article is about the capital of India, within the union territory of Delhi. For other uses, see New Delhi (disambiguation) \"New Delhi (disambiguation)\"). [...] New Delhi (/ˈ nj uː ˈ d ɛ.l i/ⓘ;( _\\\\\\\\_\\\\\\\\\\\\\\\\_Naī Dillī\\\\\\\\\\\\\\\\_\\\\\\\\__, pronounced( \"Help:IPA/Hindi and Urdu\")) is the capital of India and a part of the National Capital Territory of Delhi (NCT). New Delhi is the seat of all three branches of the Government of India, hosting the Rashtrapati Bhavan, Sansad Bhavan, and the Supreme Court. New Delhi is a municipality within the NCT, administered by the New Delhi Municipal Council (NDMC), which covers mostly Lutyens\\\\\\' Delhi and a few adjacent areas. The municipal\\', \\'score\\': 0.7732339}, {\\'title\\': \\'New Delhi, India | EBSCO Research Starters\\', \\'url\\': \\'https://www.ebsco.com/research-starters/geography-and-cartography/new-delhi-india\\', \\'content\\': \"New Delhi is the capital of India. It forms, together with Old Delhi, a sprawling megalopolis that is one of the world\\'s most densely populated urban areas. Since ancient times, Delhi has dominated India\\'s cultural, economic, and political affairs. New Delhi is not only the subcontinent\\'s industrial, commercial, and transportation hub but also home to much of India\\'s intellectual and financial infrastructure. The capital is grappling, however, with enormous challenges. Many of New Delhi\\'s [...] New Delhi, the capital of India, is a vibrant and bustling metropolis that, along with Old Delhi, forms one of the world’s most densely populated urban areas. Serving as the political, economic, and cultural hub of the country, New Delhi has a rich historical backdrop, tracing its roots back to ancient civilizations. The city was established as the capital during British colonial rule in the early 20th century, designed to be an architectural showcase with wide avenues and significant [...] New Delhi, the capital of India, is a vibrant and bustling metropolis that, along with Old Delhi, forms one of the world’s most densely populated urban areas. Serving as the political, economic, and cultural hub of the country, New Delhi has a rich historical backdrop, tracing its roots back to ancient civilizations. The city was established as the capital during British colonial rule in the early 20th century, designed to be an architectural showcase with wide avenues and significant\", \\'score\\': 0.7077487}]'"
      ]
     },
     "execution_count": 97,
     "metadata": {},
     "output_type": "execute_result"
    }
   ],
   "source": [
    "tool_mapping[\"search\"].invoke({\"query\":\"What is the Captial of India?\"})"
   ]
  },
  {
   "cell_type": "code",
   "execution_count": 98,
   "id": "bffd5964",
   "metadata": {},
   "outputs": [
    {
     "data": {
      "text/plain": [
       "StructuredTool(name='multiply', description='Multiplies two numbers.', args_schema=<class 'langchain_core.utils.pydantic.multiply'>, func=<function multiply at 0x000001D3FE02B560>)"
      ]
     },
     "execution_count": 98,
     "metadata": {},
     "output_type": "execute_result"
    }
   ],
   "source": [
    "tool_mapping['multiply']"
   ]
  },
  {
   "cell_type": "code",
   "execution_count": 99,
   "id": "762a525a",
   "metadata": {},
   "outputs": [
    {
     "data": {
      "text/plain": [
       "'Result for current GDP of India is: \\n[{\\'title\\': \\'India Becoming An Economic Powerhouse - PIB\\', \\'url\\': \\'https://www.pib.gov.in/PressNoteDetails.aspx?NoteId=154660\\', \\'content\\': \\'India’s GDP has witnessed a remarkable transformation over the past decade. At current prices, GDP has increased from ₹106.57 lakh crore in 2014–15 to an estimated ₹331.03 lakh crore in 2024–25, an approximate threefold rise in just ten years. In 2024–25 alone, nominal GDP grew by 9.9% over the previous year, while real GDP (at constant prices) increased by 6.5%, reflecting sustained economic momentum. This steep growth reflects the country’s expanding economic base and rising income levels. [...] India, the world’s fourth-largest economy, has emerged as the fastest-growing major economy and is on track to become the world’s third-largest economy with a projected GDP of $7.3 trillion by 2030. India is projected to be world’s fastest growing major economy (6.3% to 6.8% in 2025-26). This transformation is the result of a decade of decisive governance, visionary reforms, and global engagement under Prime Minister Narendra Modi. Driven by robust domestic demand, a dynamic demographic\\', \\'score\\': 0.8834878}, {\\'title\\': \\'World GDP Ranking 2025 List - ClearTax\\', \\'url\\': \\'https://cleartax.in/s/world-gdp-ranking-list\\', \\'content\\': \"India is currently ranked as the 4th largest economy globally in 2025, surpassing Japan to secure the 4th position among the world\\'s top 10 largest economies, with a nominal GDP of $4.19 trillion in 2025. Moreover, the IMF forecasts that by 2027, India will overtake Germany to become the 3rd largest economy worldwide [...] With an estimated real GDP of Rs. 187.95 lakh crore in 2024-25, against the real GDP of Rs. 176.51 in 2023-24 generated by a population of over 1 billion, India is among the highest population-based economies in the world. Additionally, as per IMF projections, India\\'s GDP grow is at 6.2% in 2024-25 and 2025-26.This means India\\'s economic growth next fiscal year will be the fastest among major economies. Therefore, in the upcoming years, rising consumption and investments, both domestic and [...] ## India GDP Per Capita 2025 / India Per Capita Income 2025\\\\n\\\\nThough India\\'s rank in the World GDP Ranking 2025 list is fifth, the per capita income is substantially low. India\\'s per capita income of the population for 2025 is $2,880 (Approx Rs.2.4 lakh). Multiple factors have led to low per capita income in India compared to the top GDP countries.\", \\'score\\': 0.850382}, {\\'title\\': \\'India GDP - Trading Economics\\', \\'url\\': \\'https://tradingeconomics.com/india/gdp\\', \\'content\\': \\'##### Members\\\\n\\\\n##### \\\\n\\\\n# India GDP\\\\n\\\\n## The Gross Domestic Product (GDP) in India was worth 3912.69 billion US dollars in 2024, according to official data from the World Bank. The GDP value of India represents 3.69 percent of the world economy. source: World Bank [...] ## GDP in India averaged 834.50 USD Billion from 1960 until 2024, reaching an all time high of 3912.69 USD Billion in 2024 and a record low of 37.03 USD Billion in 1960. This page provides the latest reported value for - India GDP - plus previous releases, historical high and low, short-term forecast and long-term prediction, economic calendar, survey consensus and news. India GDP - values, historical data and charts - was last updated on July of 2025. [...] | Related | Last | Previous | Unit | Reference |\\\\n| --- | --- | --- | --- | --- |\\\\n| Fiscal Year GDP Growth | 6.50 | 9.20 | percent | Mar 2025 |\\\\n| GDP | 3912.69 | 3638.49 | USD Billion | Dec 2024 |\\\\n| GDP Growth Rate YoY | 7.40 | 6.40 | percent | Mar 2025 |\\\\n| GDP Growth Rate | 2.00 | 1.90 | percent | Mar 2025 |\\\\n| GDP per Capita | 2396.71 | 2270.91 | USD | Dec 2024 |\\\\n| GDP per Capita PPP | 9817.07 | 9301.76 | USD | Dec 2024 |\\', \\'score\\': 0.8455478}, {\\'title\\': \\'India Real GDP 2024 Estimate and 2025 Projection\\', \\'url\\': \\'https://www.worldeconomics.com/GrossDomesticProduct/Real-GDP/India.aspx\\', \\'content\\': \\'India GDP Forecast: $3.425 Trillion in 2024, $3.648 Trillion projected for 2025 (Constant 2015 Prices). GDP in India is estimated to be $3.425 Trillion US\\', \\'score\\': 0.82288796}, {\\'title\\': \\'India Fiscal Year GDP Growth - Trading Economics\\', \\'url\\': \\'https://tradingeconomics.com/india/full-year-gdp-growth\\', \\'content\\': \\'| Related | Last | Previous | Unit | Reference |\\\\n| --- | --- | --- | --- | --- |\\\\n| Fiscal Year GDP Growth | 6.50 | 9.20 | percent | Mar 2025 |\\\\n| GDP | 3912.69 | 3638.49 | USD Billion | Dec 2024 |\\\\n| GDP Growth Rate YoY | 7.40 | 6.40 | percent | Mar 2025 |\\\\n| GDP Constant Prices | 51351.63 | 47265.42 | INR Billion | Mar 2025 |\\\\n| GDP from Agriculture | 6773.89 | 7757.32 | INR Billion | Mar 2025 |\\\\n| GDP from Construction | 4636.41 | 3899.90 | INR Billion | Mar 2025 | [...] | GDP from Manufacturing | 8299.55 | 6960.49 | INR Billion | Mar 2025 |\\\\n| GDP from Mining | 1013.49 | 824.88 | INR Billion | Mar 2025 |\\\\n| GDP from Public Administration | 5623.82 | 5544.70 | INR Billion | Mar 2025 |\\\\n| GDP from Utilities | 1000.44 | 963.01 | INR Billion | Mar 2025 |\\\\n| GDP Growth Rate | 2.00 | 1.90 | percent | Mar 2025 |\\\\n| Gross Fixed Capital Formation | 17411.50 | 14991.34 | INR Billion | Mar 2025 | [...] ## Full Year GDP Growth in India decreased to 6.50 percent in 2025 from 9.20 percent in 2024. Full Year GDP Growth in India averaged 6.42 percent from 2006 until 2025, reaching an all time high of 9.70 percent in 2022 and a record low of -5.80 percent in 2021. This page includes a chart with historical data for India Full Year GDP Growth. India Fiscal Year GDP Growth - data, historical chart, forecasts and calendar of releases - was last updated on July of 2025.\\', \\'score\\': 0.79901963}]'"
      ]
     },
     "execution_count": 99,
     "metadata": {},
     "output_type": "execute_result"
    }
   ],
   "source": [
    "\n",
    "tool_mapping[result.tool_calls[0][\"name\"]].invoke(result.tool_calls[0][\"args\"])"
   ]
  },
  {
   "cell_type": "code",
   "execution_count": 100,
   "id": "4d8d69e5",
   "metadata": {},
   "outputs": [],
   "source": [
    "from typing import TypedDict, Sequence, Annotated\n",
    "import operator\n",
    "from langchain_core.messages import BaseMessage\n"
   ]
  },
  {
   "cell_type": "code",
   "execution_count": 101,
   "id": "e4dc486f",
   "metadata": {},
   "outputs": [],
   "source": [
    "class AgentState(TypedDict):\n",
    "    \"\"\"State for the agent.\"\"\"\n",
    "    messages: Annotated[Sequence[BaseMessage],operator.add]"
   ]
  },
  {
   "cell_type": "code",
   "execution_count": 102,
   "id": "1fe5e5d0",
   "metadata": {},
   "outputs": [],
   "source": [
    "# state={\"messages\":[\"hi\",\"hello\",\"how are you?\"]}"
   ]
  },
  {
   "cell_type": "code",
   "execution_count": 103,
   "id": "c1fc0694",
   "metadata": {},
   "outputs": [],
   "source": [
    "def invoke_model(state:AgentState):\n",
    "    messages = state[\"messages\"]\n",
    "    question  = messages[-1]\n",
    "    response = llm_with_tools.invoke(question)\n",
    "    return {\"messages\":[response]}\n",
    "    "
   ]
  },
  {
   "cell_type": "code",
   "execution_count": 104,
   "id": "f98b1e41",
   "metadata": {},
   "outputs": [],
   "source": [
    "def router(state):\n",
    "    pass"
   ]
  },
  {
   "cell_type": "code",
   "execution_count": 105,
   "id": "77141b01",
   "metadata": {},
   "outputs": [],
   "source": [
    "def invoke_tool(state:AgentState):\n",
    "    pass"
   ]
  },
  {
   "cell_type": "code",
   "execution_count": 106,
   "id": "343e5f5e",
   "metadata": {},
   "outputs": [
    {
     "data": {
      "text/plain": [
       "<langgraph.graph.state.StateGraph at 0x1d3fdaf66f0>"
      ]
     },
     "execution_count": 106,
     "metadata": {},
     "output_type": "execute_result"
    }
   ],
   "source": [
    "from langgraph.graph import StateGraph,START,END\n",
    "##WorkFlow\n",
    "graph = StateGraph(AgentState)\n",
    "#Add the Node\n",
    "graph.add_node(\"ai_assistant\", invoke_model)\n",
    "graph.add_node(\"tool\", invoke_tool)"
   ]
  },
  {
   "cell_type": "code",
   "execution_count": 107,
   "id": "455956bd",
   "metadata": {},
   "outputs": [],
   "source": [
    "##### eariler we were using the tool node from list of tool\n",
    "##### but now we have crate tool invoke(custom funtion)\n",
    "##### why we are doing it: as a user if we want to take a authority to which i need to give permission for execution "
   ]
  },
  {
   "cell_type": "code",
   "execution_count": 108,
   "id": "926ea1b4",
   "metadata": {},
   "outputs": [],
   "source": [
    "###Conditional Edge\n",
    "graph.add_conditional_edges(\n",
    "    \"ai_assistant\",   # The current node\n",
    "    router,           # A function that returns a routing key (e.g., \"tool\" or \"end\")\n",
    "    {\n",
    "        \"tool\": \"tool\",  # If router returns \"tool\" → go to \"tool\" node\n",
    "        \"end\": END       # If router returns \"end\" → go to END\n",
    "    }\n",
    ")\n",
    "\n",
    "\n",
    "##ENd Edge\n",
    "graph.add_edge(\"tool\", END)\n",
    "###Add the Entry Edge\n",
    "graph.set_entry_point(\"ai_assistant\")\n",
    "###Compile \n",
    "app = graph.compile()"
   ]
  },
  {
   "cell_type": "code",
   "execution_count": 109,
   "id": "d5202c84",
   "metadata": {},
   "outputs": [
    {
     "data": {
      "image/png": "[encoded data removed]",
      "text/plain": [
       "<IPython.core.display.Image object>"
      ]
     },
     "metadata": {},
     "output_type": "display_data"
    }
   ],
   "source": [
    "\n",
    "from IPython.display import Image, display\n",
    "display(Image(app.get_graph().draw_mermaid_png()))"
   ]
  },
  {
   "cell_type": "code",
   "execution_count": null,
   "id": "fe1dd89d",
   "metadata": {},
   "outputs": [],
   "source": []
  },
  {
   "cell_type": "code",
   "execution_count": null,
   "id": "40b84109",
   "metadata": {},
   "outputs": [],
   "source": []
  },
  {
   "cell_type": "code",
   "execution_count": null,
   "id": "6691f04c",
   "metadata": {},
   "outputs": [],
   "source": []
  },
  {
   "cell_type": "code",
   "execution_count": null,
   "id": "26646077",
   "metadata": {},
   "outputs": [],
   "source": []
  },
  {
   "cell_type": "code",
   "execution_count": null,
   "id": "7bcccf6e",
   "metadata": {},
   "outputs": [],
   "source": []
  }
 ],
 "metadata": {
  "kernelspec": {
   "display_name": "Python 3",
   "language": "python",
   "name": "python3"
  },
  "language_info": {
   "codemirror_mode": {
    "name": "ipython",
    "version": 3
   },
   "file_extension": ".py",
   "mimetype": "text/x-python",
   "name": "python",
   "nbconvert_exporter": "python",
   "pygments_lexer": "ipython3",
   "version": "3.12.11"
  }
 },
 "nbformat": 4,
 "nbformat_minor": 5
}
