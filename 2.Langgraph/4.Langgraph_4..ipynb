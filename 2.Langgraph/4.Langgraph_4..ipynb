{
 "cells": [
  {
   "cell_type": "markdown",
   "id": "f51a7971",
   "metadata": {},
   "source": [
    "###"
   ]
  },
  {
   "cell_type": "code",
   "execution_count": 1,
   "id": "6f19cde5",
   "metadata": {},
   "outputs": [],
   "source": [
    "import os"
   ]
  },
  {
   "cell_type": "code",
   "execution_count": 3,
   "id": "8033c0aa",
   "metadata": {},
   "outputs": [
    {
     "data": {
      "text/plain": [
       "True"
      ]
     },
     "execution_count": 3,
     "metadata": {},
     "output_type": "execute_result"
    }
   ],
   "source": [
    "from dotenv import load_dotenv\n",
    "load_dotenv()"
   ]
  },
  {
   "cell_type": "code",
   "execution_count": 1,
   "id": "dcf9fc50",
   "metadata": {},
   "outputs": [],
   "source": [
    "from langchain_groq import ChatGroq\n",
    "\n",
    "llm = ChatGroq(\n",
    "    model_name = \"deepseek-r1-distill-llama-70b\",\n",
    "    temperature = 0\n",
    ")\n",
    "\n",
    "response = llm.invoke(\"What is the Length of the Wall of China?\")"
   ]
  },
  {
   "cell_type": "code",
   "execution_count": null,
   "id": "cc0505b7",
   "metadata": {},
   "outputs": [
    {
     "data": {
      "text/plain": [
       "\"<think>\\nOkay, so I need to figure out the length of the Great Wall of China. I remember hearing that it's really long, but I'm not exactly sure how long. I think it's measured in thousands of kilometers, but I'm not certain about the exact number. Let me try to break this down.\\n\\nFirst, I know the Great Wall is an ancient series of fortifications built across several Chinese dynasties. It was constructed to protect the borders of China from invasions. So, it's not just one continuous wall but a collection of different sections built over time. That might explain why measuring its exact length is tricky.\\n\\nI've heard different numbers before. Some people say it's around 13,000 miles, others say it's longer, maybe 21,000 kilometers. Wait, that's a big difference. I should check why there's such a variation. Maybe it's because some measurements include all the branches and sections, while others just take the main parts.\\n\\nI think the discrepancy comes from how one defines the wall. If you include all the watchtowers, beacon towers, and all the sections, including the ones that are now in ruins or not as prominent, the length adds up. But if you only measure the main, continuous structures, it might be shorter. So, the longer estimates probably include all the smaller walls and fortifications that were part of the overall defense system.\\n\\nI remember reading that in 2012, the National Cultural Heritage Administration of China did a survey. They used more precise methods, maybe GPS or satellite imaging, to measure the wall. That survey found the wall to be about 13,170 miles long, which is roughly 21,196 kilometers. That seems to be the most accurate figure because it's an official measurement.\\n\\nBut wait, I also recall that some sources still quote the 13,000-mile figure. Maybe that's an older estimate before they had more precise tools. So, the more recent and accurate measurement is around 21,000 kilometers. That makes sense because technology has improved, allowing for more thorough surveys.\\n\\nI should also consider that the wall isn't just in one straight line. It snakes through mountains, so the actual distance is longer than the straight-line distance between the start and end points. This meandering path would add to the total length.\\n\\nAnother thing to think about is that parts of the wall have been destroyed or eroded over time. Some sections are well-preserved and touristy, like the parts near Beijing, while others are in remote areas and might be less known or measured. So, the total length includes both the well-known and the obscure sections.\\n\\nI wonder if the measurement includes only the wall built during a specific dynasty or all the walls built across different periods. I think it's the latter because the Great Wall was constructed over many centuries, with different dynasties adding their own sections. So, the total length would encompass all these contributions.\\n\\nAlso, the wall's width varies. Some parts are wider and more fortified, while others are narrower. But when measuring length, width isn't a factor, so that doesn't affect the total distance.\\n\\nIn summary, the length of the Great Wall of China is approximately 13,170 miles or 21,196 kilometers when all sections, including branches and ruins, are considered. This figure comes from a more recent and comprehensive survey, making it the most accurate estimate available.\\n</think>\\n\\nThe Great Wall of China's length is approximately 13,170 miles (21,196 kilometers). This measurement, confirmed by a 2012 survey using advanced techniques like GPS and satellite imaging, includes all sections, branches, and ruins, providing a comprehensive and accurate figure.\""
      ]
     },
     "execution_count": 2,
     "metadata": {},
     "output_type": "execute_result"
    }
   ],
   "source": [
    "response.content"
   ]
  },
  {
   "cell_type": "code",
   "execution_count": null,
   "id": "474727cf",
   "metadata": {},
   "outputs": [],
   "source": []
  },
  {
   "cell_type": "code",
   "execution_count": null,
   "id": "226f8e2f",
   "metadata": {},
   "outputs": [],
   "source": []
  },
  {
   "cell_type": "code",
   "execution_count": null,
   "id": "c7cc0243",
   "metadata": {},
   "outputs": [],
   "source": []
  },
  {
   "cell_type": "code",
   "execution_count": null,
   "id": "dad7a6d6",
   "metadata": {},
   "outputs": [],
   "source": []
  },
  {
   "cell_type": "code",
   "execution_count": null,
   "id": "3b5856ef",
   "metadata": {},
   "outputs": [],
   "source": []
  },
  {
   "cell_type": "code",
   "execution_count": null,
   "id": "64971b72",
   "metadata": {},
   "outputs": [],
   "source": []
  },
  {
   "cell_type": "code",
   "execution_count": null,
   "id": "3a25e588",
   "metadata": {},
   "outputs": [],
   "source": []
  }
 ],
 "metadata": {
  "kernelspec": {
   "display_name": "Python 3",
   "language": "python",
   "name": "python3"
  },
  "language_info": {
   "codemirror_mode": {
    "name": "ipython",
    "version": 3
   },
   "file_extension": ".py",
   "mimetype": "text/x-python",
   "name": "python",
   "nbconvert_exporter": "python",
   "pygments_lexer": "ipython3",
   "version": "3.12.11"
  }
 },
 "nbformat": 4,
 "nbformat_minor": 5
}
