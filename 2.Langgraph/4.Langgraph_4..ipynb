{
 "cells": [
  {
   "cell_type": "markdown",
   "id": "f51a7971",
   "metadata": {},
   "source": [
    "###"
   ]
  },
  {
   "cell_type": "code",
   "execution_count": 1,
   "id": "6f19cde5",
   "metadata": {},
   "outputs": [],
   "source": [
    "import os"
   ]
  },
  {
   "cell_type": "code",
   "execution_count": 3,
   "id": "8033c0aa",
   "metadata": {},
   "outputs": [
    {
     "data": {
      "text/plain": [
       "True"
      ]
     },
     "execution_count": 3,
     "metadata": {},
     "output_type": "execute_result"
    }
   ],
   "source": [
    "from dotenv import load_dotenv\n",
    "load_dotenv()"
   ]
  },
  {
   "cell_type": "code",
   "execution_count": 5,
   "id": "d41edff9",
   "metadata": {},
   "outputs": [],
   "source": [
    "model = \"deepseek-r1-distill-llama-70b\""
   ]
  },
  {
   "cell_type": "code",
   "execution_count": 6,
   "id": "dcf9fc50",
   "metadata": {},
   "outputs": [],
   "source": [
    "from langchain_groq import ChatGroq\n",
    "\n",
    "llm = ChatGroq(\n",
    "    model_name = model,\n",
    "    temperature = 0\n",
    ")\n",
    "\n",
    "response = llm.invoke(\"What is the Length of the Wall of China?\")"
   ]
  },
  {
   "cell_type": "code",
   "execution_count": 7,
   "id": "cc0505b7",
   "metadata": {},
   "outputs": [
    {
     "data": {
      "text/plain": [
       "\"<think>\\nOkay, so I need to figure out the length of the Great Wall of China. I remember hearing that it's really long, but I'm not exactly sure how long. I think it's measured in thousands of kilometers, but I'm not certain about the exact number. Let me try to break this down.\\n\\nFirst, I know the Great Wall is a series of fortifications built across several Chinese dynasties. It wasn't built all at once, so maybe that's why the length can vary. I've heard different numbers before, like 13,000 miles or something like that, but I'm not sure if that's accurate.\\n\\nI think the wall was constructed to protect the Chinese Empire from invasions, so it must have been built in segments over time. Each dynasty probably added their own sections, which might not all be connected. That could explain why measuring the total length is tricky.\\n\\nI remember reading somewhere that the exact length isn't known because some parts are in ruins or have disappeared. So, maybe the numbers I've heard are estimates. I should consider whether the measurements are in miles or kilometers because that can make a big difference. For example, 13,000 miles is way longer than 13,000 kilometers.\\n\\nI also wonder if the length includes all the branches and spurs or just the main wall. If they include every little section, the total length would be longer. But if they only count the main structure, it might be shorter. I think the longer estimates probably include all the smaller sections and watchtowers.\\n\\nI should check if there's an official measurement. Maybe the Chinese government or a historical society has done a survey. I recall hearing about a recent survey that used modern technology like GPS and found a longer length than previously thought. That might be where the 13,171-mile figure comes from.\\n\\nWait, but I also remember that some sources say it's around 4,000 to 5,000 kilometers. That's a big difference. Maybe the discrepancy comes from whether they're measuring in a straight line or following the wall's path. If you follow every twist and turn, the distance would be longer than a straight-line measurement.\\n\\nAnother thing to consider is the condition of the wall. Some parts are well-preserved, while others are in ruins or even gone. So, when measuring, do they count the parts that are no longer there? Probably not, so the length would be based on what's still standing or traceable.\\n\\nI also think about how the wall was built over different terrains. It goes through mountains, deserts, and plains, which might affect how it's measured. In mountainous areas, the wall might be more zigzagged, adding to the total length.\\n\\nI should also consider the units. If someone says 21,196 kilometers, that's about 13,171 miles. So, maybe the answer is presented in both units. That makes sense because different countries use different measurement systems.\\n\\nIn summary, the length of the Great Wall of China isn't straightforward because it's made up of multiple sections built over centuries, some of which are no longer intact. The most recent and accurate measurements using modern technology probably give a total length of around 13,171 miles or 21,196 kilometers, including all the branches and spurs.\\n</think>\\n\\nThe Great Wall of China's length is approximately 13,171 miles (21,196 kilometers). This measurement includes all the branches, spurs, and sections, and was determined using modern surveying techniques like GPS. The wall's length can vary depending on whether it's measured in a straight line or along its actual path, and whether all segments, including those in ruins, are included. The most accurate recent surveys account for these factors, leading to the figure of around 13,171 miles or 21,196 kilometers.\""
      ]
     },
     "execution_count": 7,
     "metadata": {},
     "output_type": "execute_result"
    }
   ],
   "source": [
    "response.content"
   ]
  },
  {
   "cell_type": "code",
   "execution_count": 8,
   "id": "474727cf",
   "metadata": {},
   "outputs": [],
   "source": [
    "from langchain_groq import ChatGroq"
   ]
  },
  {
   "cell_type": "code",
   "execution_count": 9,
   "id": "226f8e2f",
   "metadata": {},
   "outputs": [],
   "source": [
    "from langchain.tools import tool"
   ]
  },
  {
   "cell_type": "code",
   "execution_count": 16,
   "id": "c7cc0243",
   "metadata": {},
   "outputs": [],
   "source": [
    "from langchain.tools import tool\n",
    "\n",
    "@tool\n",
    "def multiply(a: int, b: int) -> int:\n",
    "    \"\"\"\n",
    "    Multiply two integers.\n",
    "\n",
    "    Args:\n",
    "        a (int): The first integer.\n",
    "        b (int): The second integer.\n",
    "\n",
    "    Returns:\n",
    "        int: The product of a and b.\n",
    "    \"\"\"\n",
    "    return a * b\n",
    "\n",
    "@tool\n",
    "def add(a: int, b: int) -> int:\n",
    "    \"\"\"\n",
    "    Add two integers.\n",
    "\n",
    "    Args:\n",
    "        a (int): The first integer.\n",
    "        b (int): The second integer.\n",
    "\n",
    "    Returns:\n",
    "        int: The sum of a and b.\n",
    "    \"\"\"\n",
    "    return a + b\n",
    "\n",
    "@tool\n",
    "def divide(a: int, b: int) -> float:\n",
    "    \"\"\"\n",
    "    Divide two integers.\n",
    "\n",
    "    Args:\n",
    "        a (int): The numerator.\n",
    "        b (int): The denominator (must not be 0).\n",
    "\n",
    "    Returns:\n",
    "        float: The result of division.\n",
    "    \"\"\"\n",
    "    if b == 0:\n",
    "        raise ValueError(\"Denominator cannot be zero.\")\n",
    "    return a / b"
   ]
  },
  {
   "cell_type": "markdown",
   "id": "dad7a6d6",
   "metadata": {},
   "source": [
    "#### Importing the inbuit Tool"
   ]
  },
  {
   "cell_type": "code",
   "execution_count": 12,
   "id": "01a261d6",
   "metadata": {},
   "outputs": [],
   "source": [
    "from langchain_community.tools import DuckDuckGoSearchRun\n",
    "search = DuckDuckGoSearchRun()  #duck Duck Go  will give summmary "
   ]
  },
  {
   "cell_type": "code",
   "execution_count": 14,
   "id": "dc2aa87c",
   "metadata": {},
   "outputs": [
    {
     "data": {
      "text/plain": [
       "'In April, Majin Bu reported that the iPhone 17 Pro models will come in a new and \"irresistible\" sky blue color. That would be the second product with that color, following the M4 MacBook Air. Today: an iPhone-centric roundup of iPhone 17, 18, and Fold rumors, plus the latest M5 iPad Pro update. Here are this week\\'s Apple rumors. All the latest iPhone 17 updates Planned for September 2025, the iPhone 17 models could feature larger display sizes, ProMotion across the lineup, Wi-Fi 7, and more. We\\'re still a few months away from the debut of the iPhone 17 ... New iPhone 17 colors. Rumors of a new color for the iPhone started in April, when Twitter user and leaker Majin Bu (not the Dragon Ball Z character) posted that the iPhone 17 Pro and Pro Max could ... The iPhone 17 series is shaping up to be an evolutionary update, focusing on refining existing features rather than introducing innovative changes. Recent leaks indicate that Apple is prioritizing ...'"
      ]
     },
     "execution_count": 14,
     "metadata": {},
     "output_type": "execute_result"
    }
   ],
   "source": [
    "search.invoke(\"What is the Latest Update on the Iphone17 Release?\")"
   ]
  },
  {
   "cell_type": "code",
   "execution_count": null,
   "id": "4fe6aafc",
   "metadata": {},
   "outputs": [],
   "source": [
    "tools = [multiply,add,divide,search] #4 Tools"
   ]
  },
  {
   "cell_type": "code",
   "execution_count": 18,
   "id": "3a66f26f",
   "metadata": {},
   "outputs": [],
   "source": [
    "#Binding the Tools with LLM\n",
    "llm_with_tools = llm.bind_tools(tools)"
   ]
  },
  {
   "cell_type": "code",
   "execution_count": 19,
   "id": "34e91c2f",
   "metadata": {},
   "outputs": [
    {
     "data": {
      "text/plain": [
       "RunnableBinding(bound=ChatGroq(client=<groq.resources.chat.completions.Completions object at 0x00000292D8471910>, async_client=<groq.resources.chat.completions.AsyncCompletions object at 0x00000292D87269C0>, model_name='deepseek-r1-distill-llama-70b', temperature=1e-08, model_kwargs={}, groq_api_key=SecretStr('**********')), kwargs={'tools': [{'type': 'function', 'function': {'name': 'multiply', 'description': 'Multiply two integers.\\n\\nArgs:\\n    a (int): The first integer.\\n    b (int): The second integer.\\n\\nReturns:\\n    int: The product of a and b.', 'parameters': {'properties': {'a': {'type': 'integer'}, 'b': {'type': 'integer'}}, 'required': ['a', 'b'], 'type': 'object'}}}, {'type': 'function', 'function': {'name': 'add', 'description': 'Add two integers.\\n\\nArgs:\\n    a (int): The first integer.\\n    b (int): The second integer.\\n\\nReturns:\\n    int: The sum of a and b.', 'parameters': {'properties': {'a': {'type': 'integer'}, 'b': {'type': 'integer'}}, 'required': ['a', 'b'], 'type': 'object'}}}, {'type': 'function', 'function': {'name': 'divide', 'description': 'Divide two integers.\\n\\nArgs:\\n    a (int): The numerator.\\n    b (int): The denominator (must not be 0).\\n\\nReturns:\\n    float: The result of division.', 'parameters': {'properties': {'a': {'type': 'integer'}, 'b': {'type': 'integer'}}, 'required': ['a', 'b'], 'type': 'object'}}}, {'type': 'function', 'function': {'name': 'duckduckgo_search', 'description': 'A wrapper around DuckDuckGo Search. Useful for when you need to answer questions about current events. Input should be a search query.', 'parameters': {'properties': {'query': {'description': 'search query to look up', 'type': 'string'}}, 'required': ['query'], 'type': 'object'}}}]}, config={}, config_factories=[])"
      ]
     },
     "execution_count": 19,
     "metadata": {},
     "output_type": "execute_result"
    }
   ],
   "source": [
    "llm_with_tools"
   ]
  },
  {
   "cell_type": "code",
   "execution_count": 26,
   "id": "15aed38a",
   "metadata": {},
   "outputs": [],
   "source": [
    "response = llm_with_tools.invoke(\"hi\")"
   ]
  },
  {
   "cell_type": "code",
   "execution_count": 28,
   "id": "64d64a70",
   "metadata": {},
   "outputs": [
    {
     "data": {
      "text/plain": [
       "'Hello! How can I assist you today?'"
      ]
     },
     "execution_count": 28,
     "metadata": {},
     "output_type": "execute_result"
    }
   ],
   "source": [
    "response.content"
   ]
  },
  {
   "cell_type": "code",
   "execution_count": 30,
   "id": "950b3860",
   "metadata": {},
   "outputs": [
    {
     "data": {
      "text/plain": [
       "[]"
      ]
     },
     "execution_count": 30,
     "metadata": {},
     "output_type": "execute_result"
    }
   ],
   "source": [
    "response.tool_calls #tool call is empty, bcz it is not calling any tool"
   ]
  },
  {
   "cell_type": "code",
   "execution_count": 32,
   "id": "24858ce1",
   "metadata": {},
   "outputs": [
    {
     "data": {
      "text/plain": [
       "''"
      ]
     },
     "execution_count": 32,
     "metadata": {},
     "output_type": "execute_result"
    }
   ],
   "source": [
    "res_1 = llm_with_tools.invoke(\"What is 2 + 2 ?\")\n",
    "res_1.content"
   ]
  },
  {
   "cell_type": "code",
   "execution_count": 33,
   "id": "3b5856ef",
   "metadata": {},
   "outputs": [
    {
     "data": {
      "text/plain": [
       "[{'name': 'add',\n",
       "  'args': {'a': 2, 'b': 2},\n",
       "  'id': 'cnhvy5j41',\n",
       "  'type': 'tool_call'}]"
      ]
     },
     "execution_count": 33,
     "metadata": {},
     "output_type": "execute_result"
    }
   ],
   "source": [
    "res_1.tool_calls"
   ]
  },
  {
   "cell_type": "code",
   "execution_count": 38,
   "id": "64971b72",
   "metadata": {},
   "outputs": [
    {
     "data": {
      "text/plain": [
       "''"
      ]
     },
     "execution_count": 38,
     "metadata": {},
     "output_type": "execute_result"
    }
   ],
   "source": [
    "res_2 = llm_with_tools.invoke(\"What is 2 / 20\")\n",
    "res_2.content"
   ]
  },
  {
   "cell_type": "code",
   "execution_count": 39,
   "id": "3a25e588",
   "metadata": {},
   "outputs": [
    {
     "data": {
      "text/plain": [
       "[{'name': 'divide',\n",
       "  'args': {'a': 2, 'b': 20},\n",
       "  'id': 'hftwgz3e2',\n",
       "  'type': 'tool_call'}]"
      ]
     },
     "execution_count": 39,
     "metadata": {},
     "output_type": "execute_result"
    }
   ],
   "source": [
    "res_2.tool_calls"
   ]
  },
  {
   "cell_type": "code",
   "execution_count": 40,
   "id": "37bf0d7c",
   "metadata": {},
   "outputs": [],
   "source": [
    "response = llm_with_tools.invoke(\"What is Groq vs GroK?\")"
   ]
  },
  {
   "cell_type": "code",
   "execution_count": 41,
   "id": "8938c8d5",
   "metadata": {},
   "outputs": [
    {
     "data": {
      "text/plain": [
       "AIMessage(content='Groq is a company known for its high-performance computing solutions, particularly in the field of artificial intelligence and machine learning. They develop hardware and software solutions designed to accelerate machine learning models, making them faster and more efficient.\\n\\nGroK, on the other hand, appears to be a product or service related to Groq. It could be a specific software tool, a development environment, or a feature within Groq\\'s ecosystem. The name suggests a connection to the term \"grok,\" which implies deep understanding, possibly indicating a tool that enhances integration or understanding within Groq\\'s technology. However, without more specific information, the exact nature of GroK remains unclear, but it is likely part of Groq\\'s offerings.', additional_kwargs={'reasoning_content': 'Okay, so I\\'m trying to figure out the difference between Groq and GroK. I\\'ve heard both terms before, but I\\'m not entirely sure what each one refers to. Let me start by breaking down the names. \\n\\nGroq sounds familiar, maybe it\\'s a company or a product. I think I\\'ve heard it in the context of technology or computing. On the other hand, GroK seems similar but with a \\'K\\' at the end. I wonder if it\\'s related to the same field or something entirely different.\\n\\nI\\'ll start by thinking about Groq. I believe Groq is a company that specializes in artificial intelligence and machine learning. They might produce hardware or software solutions for AI. I\\'m not entirely sure, but I think they\\'re known for their high-performance computing solutions. Maybe they make chips or accelerators for AI workloads.\\n\\nNow, GroK. The name is very similar to Groq, just with a \\'K\\' instead of a \\'q\\'. I\\'m not sure if it\\'s a competitor, a product line, or something else entirely. It could be a typo or a variation of the same brand. Alternatively, it might be a different company or a specific tool within the same company.\\n\\nI should consider the possibility that GroK is a specific product or service offered by Groq. Maybe it\\'s a software platform or a development kit. Or perhaps it\\'s a different company that\\'s sometimes confused with Groq because of the similar name.\\n\\nTo get a clearer picture, I should look up both terms. I\\'ll start with Groq. A quick search tells me that Groq is indeed a company focused on AI and machine learning. They develop chips and systems designed to accelerate machine learning models, making them faster and more efficient. They\\'re known for their high-performance solutions in the AI hardware space.\\n\\nNow, looking up GroK. It seems that GroK is actually a product or service related to Groq. It might be a software tool or a development environment provided by Groq for their hardware. Alternatively, it could be a specific feature or a different line of products within the same company.\\n\\nWait, I\\'m not finding much information on GroK separately. It\\'s possible that it\\'s a less well-known product or perhaps a newer offering from Groq. Alternatively, it could be a typo or a mishearing of the name. Maybe GroK is a specific model or a series within Groq\\'s product lineup.\\n\\nI should also consider that sometimes companies have different product lines with similar names. For example, Groq might have different versions like Groq-1, Groq-2, etc., and GroK could be one of those. Or it could be a specific feature within their software suite.\\n\\nAnother angle is to think about the functions or applications each is known for. Groq is definitely associated with AI acceleration and high-performance computing. If GroK is part of Groq, it might serve a specific purpose within that ecosystem, like a development tool, a software library, or a particular type of chip.\\n\\nI\\'m also thinking about the pronunciation. Groq is pronounced like \"grok,\" which is a term from science fiction that means to understand something deeply. Maybe GroK is a play on that word, indicating a deeper understanding or integration with their technology.\\n\\nIn summary, Groq is a company known for AI and machine learning hardware. GroK is likely a product, service, or specific offering from Groq, possibly related to their software tools or a specific product line. Without more specific information, it\\'s a bit challenging to pinpoint exactly what GroK refers to, but it\\'s safe to assume it\\'s part of the Groq ecosystem.\\n'}, response_metadata={'token_usage': {'completion_tokens': 897, 'prompt_tokens': 399, 'total_tokens': 1296, 'completion_time': 3.766720539, 'prompt_time': 0.025795545, 'queue_time': 0.07157912999999999, 'total_time': 3.792516084}, 'model_name': 'deepseek-r1-distill-llama-70b', 'system_fingerprint': 'fp_1bbe7845ec', 'finish_reason': 'stop', 'logprobs': None}, id='run--e1dd04db-be92-45f0-904e-1f00041d805f-0', usage_metadata={'input_tokens': 399, 'output_tokens': 897, 'total_tokens': 1296})"
      ]
     },
     "execution_count": 41,
     "metadata": {},
     "output_type": "execute_result"
    }
   ],
   "source": [
    "response"
   ]
  },
  {
   "cell_type": "code",
   "execution_count": null,
   "id": "6128c2f7",
   "metadata": {},
   "outputs": [],
   "source": [
    "from langchain_core.messages import HumanMessage,SystemMessage \n",
    "from langgraph.graph import MessagesState,StateGraph,END,STARTc"
   ]
  },
  {
   "cell_type": "code",
   "execution_count": 57,
   "id": "547b2ac4",
   "metadata": {},
   "outputs": [],
   "source": [
    "SYSTEM_PROMPT=\"You are a helpful assistant tasked with using search and performing arithmetic on a set of inputs.\"\n"
   ]
  },
  {
   "cell_type": "code",
   "execution_count": 58,
   "id": "c91cab9c",
   "metadata": {},
   "outputs": [],
   "source": [
    "user_query=[\"tell me what is 2+2\"]"
   ]
  },
  {
   "cell_type": "code",
   "execution_count": 59,
   "id": "ac848644",
   "metadata": {},
   "outputs": [
    {
     "data": {
      "text/plain": [
       "['You are a helpful assistant tasked with using search and performing arithmetic on a set of inputs.',\n",
       " 'tell me what is 2+2']"
      ]
     },
     "execution_count": 59,
     "metadata": {},
     "output_type": "execute_result"
    }
   ],
   "source": [
    "[SYSTEM_PROMPT]+user_query"
   ]
  },
  {
   "cell_type": "code",
   "execution_count": null,
   "id": "30d01a9b",
   "metadata": {},
   "outputs": [],
   "source": [
    "#class MessagesState(TypedDict):\n",
    "#   messages: Annotated[List[AnyMessage],add_messages]"
   ]
  },
  {
   "cell_type": "code",
   "execution_count": null,
   "id": "eb080c60",
   "metadata": {},
   "outputs": [],
   "source": [
    "def function_1(state:MessagesState):\n",
    "    \n",
    "    user_question = state[\"messages\"]\n",
    "    \n",
    "    input_question = [SYSTEM_PROMPT] + user_question\n",
    "    \n",
    "    response = llm_with_tools.invoke(input_question)\n",
    "    \n",
    "    return {\n",
    "        \"messages\":[response]\n",
    "    }"
   ]
  },
  {
   "cell_type": "code",
   "execution_count": 61,
   "id": "59c04a0d",
   "metadata": {},
   "outputs": [],
   "source": [
    "from langgraph.prebuilt import ToolNode\n",
    "from langgraph.prebuilt import tools_condition"
   ]
  },
  {
   "cell_type": "code",
   "execution_count": 62,
   "id": "664f637d",
   "metadata": {},
   "outputs": [
    {
     "data": {
      "text/plain": [
       "[StructuredTool(name='multiply', description='Multiply two integers.\\n\\nArgs:\\n    a (int): The first integer.\\n    b (int): The second integer.\\n\\nReturns:\\n    int: The product of a and b.', args_schema=<class 'langchain_core.utils.pydantic.multiply'>, func=<function multiply at 0x00000292E1FAEE80>),\n",
       " StructuredTool(name='add', description='Add two integers.\\n\\nArgs:\\n    a (int): The first integer.\\n    b (int): The second integer.\\n\\nReturns:\\n    int: The sum of a and b.', args_schema=<class 'langchain_core.utils.pydantic.add'>, func=<function add at 0x00000292E1FAED40>),\n",
       " StructuredTool(name='divide', description='Divide two integers.\\n\\nArgs:\\n    a (int): The numerator.\\n    b (int): The denominator (must not be 0).\\n\\nReturns:\\n    float: The result of division.', args_schema=<class 'langchain_core.utils.pydantic.divide'>, func=<function divide at 0x00000292E1FAECA0>),\n",
       " DuckDuckGoSearchRun(api_wrapper=DuckDuckGoSearchAPIWrapper(region='wt-wt', safesearch='moderate', time='y', max_results=5, backend='auto', source='text'))]"
      ]
     },
     "execution_count": 62,
     "metadata": {},
     "output_type": "execute_result"
    }
   ],
   "source": [
    "tools"
   ]
  },
  {
   "cell_type": "code",
   "execution_count": null,
   "id": "f62d0901",
   "metadata": {},
   "outputs": [
    {
     "data": {
      "text/plain": [
       "<langgraph.graph.state.StateGraph at 0x292e21c8920>"
      ]
     },
     "execution_count": 67,
     "metadata": {},
     "output_type": "execute_result"
    }
   ],
   "source": [
    "#Workflow\n",
    "builder = StateGraph(MessagesState)\n",
    "\n",
    "#Add the NOde \n",
    "builder.add_node(\"llm_decision_step\",function_1)\n",
    "#Add the Start \n",
    "builder.add_edge(START,\"llm_decision_step\")\n",
    "\n",
    "#Addd the Node\n",
    "builder.add_node(\"tools\",ToolNode(tools))\n",
    "\n",
    "#Add the Edge\n",
    "builder.add_conditional_edges(\n",
    "    \"llm_decision_step\",\n",
    "    tools_condition,#This will automatically decide to call to tool or LLM, This will Take care of end and No routing \n",
    ")\n",
    "#Add the Edge\n",
    "builder.add_edge(\"tools\",\"llm_decision_step\")"
   ]
  },
  {
   "cell_type": "code",
   "execution_count": null,
   "id": "193ba54d",
   "metadata": {},
   "outputs": [],
   "source": [
    "react_graph = builder.compile()"
   ]
  },
  {
   "cell_type": "code",
   "execution_count": 69,
   "id": "6fb3c11f",
   "metadata": {},
   "outputs": [
    {
     "data": {
      "image/png": "[encoded data removed]",
      "text/plain": [
       "<IPython.core.display.Image object>"
      ]
     },
     "metadata": {},
     "output_type": "display_data"
    }
   ],
   "source": [
    "from IPython.display import Image, display\n",
    "display(Image(react_graph.get_graph().draw_mermaid_png()))"
   ]
  },
  {
   "cell_type": "code",
   "execution_count": 75,
   "id": "8abd7156",
   "metadata": {},
   "outputs": [
    {
     "data": {
      "text/plain": [
       "{'messages': [HumanMessage(content='what is 2 times of MS Dhoni Age?', additional_kwargs={}, response_metadata={}, id='e7be04fa-3cff-4705-a157-c660e33a8130'),\n",
       "  AIMessage(content='', additional_kwargs={'reasoning_content': 'Okay, so the user is asking, \"what is 2 times of MS Dhoni Age?\" I need to figure out how to respond to this. First, I should break down the query. They want to multiply MS Dhoni\\'s age by 2. \\n\\nI know that MS Dhoni is a well-known cricketer, so his age is a piece of information that might change over time. Since I don\\'t have real-time data, I might need to look up his current age. But wait, I have access to a tool called DuckDuckGo Search which can help me find the most recent information.\\n\\nSo, the first step is to use the DuckDuckGo Search tool to find MS Dhoni\\'s current age. I\\'ll set up a search query for that. Once I have his age, the next step is to multiply it by 2. For that, I can use the multiply function provided in the tools.\\n\\nI should make sure to handle the function calls correctly. First, call the DuckDuckGo Search with the appropriate query, then use the result in the multiply function. I need to ensure that the arguments are correctly formatted as JSON objects within the tool_call tags.\\n\\nI also need to consider if there are any potential issues, like if the search doesn\\'t return a clear age or if the age isn\\'t available. But assuming the search works, I can proceed smoothly. So, the plan is: search for Dhoni\\'s age, then multiply it by 2 and present the result.\\n', 'tool_calls': [{'id': '8etqpnfvx', 'function': {'arguments': '{\"query\":\"MS Dhoni age 2023\"}', 'name': 'duckduckgo_search'}, 'type': 'function'}]}, response_metadata={'token_usage': {'completion_tokens': 429, 'prompt_tokens': 421, 'total_tokens': 850, 'completion_time': 1.687157586, 'prompt_time': 0.027119884, 'queue_time': 0.06389278500000001, 'total_time': 1.7142774699999999}, 'model_name': 'deepseek-r1-distill-llama-70b', 'system_fingerprint': 'fp_1bbe7845ec', 'finish_reason': 'tool_calls', 'logprobs': None}, id='run--c3e089cb-78b9-4bf2-b8f4-576dacd4373d-0', tool_calls=[{'name': 'duckduckgo_search', 'args': {'query': 'MS Dhoni age 2023'}, 'id': '8etqpnfvx', 'type': 'tool_call'}], usage_metadata={'input_tokens': 421, 'output_tokens': 429, 'total_tokens': 850}),\n",
       "  ToolMessage(content=\"At the age of 33, MS Dhoni won his last ICC Tournament as a Captain of the Indian Cricket Team. MS Dhoni played his last international match for India on July 10, 2019. MS Dhoni Test Records MS Dhoni's Age in 2023. As of the year 2023, MS Dhoni's age is 42. Born on 7th July 1981, Dhoni has achieved remarkable success in his cricketing career and continues to be an inspiration for aspiring cricketers around the world. MS Dhoni's Birthday. MS Dhoni was born on 7th July 1981. Learn about MS Dhoni's birthday, date of birth and age as of 2023. Find out how he became a cricket legend and how fans celebrate his contributions to the sport. Age Captain Team & Match; 43 years 278 days: MS Dhoni: CSK vs KKR, 11 Apr 2025: 41 years 325 days: MS Dhoni: CSK vs GT, 28 May 2023: 41 years 249 days: Shane Warne: RR vs MI, 20 May 2011: 41 years ... MS Dhoni Wiki, Net Worth, Age, Height, Weight, Career, Kids, Wife ... Mahendra Singh Dhoni (aka MS Dhoni) was born on July 7, 1981, in this small city called Ranchi, in the eastern part of the country. ... 2018, 2021 and 2023. At the moment, though, he's still playing the 18th season of IPL, and probably, he's the only player from the 2007 ...\", name='duckduckgo_search', id='6ed4debe-ec20-4582-a90a-aa69f006c584', tool_call_id='8etqpnfvx'),\n",
       "  AIMessage(content='', additional_kwargs={'reasoning_content': 'Alright, the user is asking for \"2 times of MS Dhoni Age.\" So, first, I need to find out how old MS Dhoni is. I remember that he was born on July 7, 1981, so in 2023, he would be 42 years old. To confirm this, I\\'ll use the DuckDuckGo search tool to look up his current age.\\n\\nAfter searching, the results confirm that as of 2023, MS Dhoni is indeed 42 years old. Now, the user wants to multiply this age by 2. So, I\\'ll use the multiply function with the arguments a=42 and b=2. \\n\\nCalculating that, 42 multiplied by 2 equals 84. Therefore, the final answer is 84.\\n', 'tool_calls': [{'id': '6vbyjhrtq', 'function': {'arguments': '{\"a\":42,\"b\":2}', 'name': 'multiply'}, 'type': 'function'}]}, response_metadata={'token_usage': {'completion_tokens': 203, 'prompt_tokens': 828, 'total_tokens': 1031, 'completion_time': 0.738181818, 'prompt_time': 0.061607378, 'queue_time': 0.05433562100000001, 'total_time': 0.799789196}, 'model_name': 'deepseek-r1-distill-llama-70b', 'system_fingerprint': 'fp_1bbe7845ec', 'finish_reason': 'tool_calls', 'logprobs': None}, id='run--e5aea69f-1e64-4ff0-a664-f87d1445442d-0', tool_calls=[{'name': 'multiply', 'args': {'a': 42, 'b': 2}, 'id': '6vbyjhrtq', 'type': 'tool_call'}], usage_metadata={'input_tokens': 828, 'output_tokens': 203, 'total_tokens': 1031}),\n",
       "  ToolMessage(content='84', name='multiply', id='f346772c-6cf0-4e6f-a906-567c4aa355b7', tool_call_id='6vbyjhrtq'),\n",
       "  AIMessage(content=\"The result of 2 times MS Dhoni's age is \\\\boxed{84}.\", additional_kwargs={'reasoning_content': 'Alright, the user is asking for \"2 times of MS Dhoni Age.\" So, first, I need to find out how old MS Dhoni is. I remember that he was born in 1981, but I\\'m not exactly sure of his current age. To get accurate information, I\\'ll use the DuckDuckGo search tool to look up his age as of 2023.\\n\\nAfter searching, I find that MS Dhoni was born on July 7, 1981, which makes him 42 years old in 2023. Now, the user wants twice his age, so I need to multiply 42 by 2. Using the multiply tool, I get the result 84.\\n\\nSo, the final answer is 84.\\n'}, response_metadata={'token_usage': {'completion_tokens': 175, 'prompt_tokens': 881, 'total_tokens': 1056, 'completion_time': 0.636363636, 'prompt_time': 0.065414581, 'queue_time': 0.076556828, 'total_time': 0.701778217}, 'model_name': 'deepseek-r1-distill-llama-70b', 'system_fingerprint': 'fp_1bbe7845ec', 'finish_reason': 'stop', 'logprobs': None}, id='run--521a2887-4d96-4421-80bd-cda65116872c-0', usage_metadata={'input_tokens': 881, 'output_tokens': 175, 'total_tokens': 1056})]}"
      ]
     },
     "execution_count": 75,
     "metadata": {},
     "output_type": "execute_result"
    }
   ],
   "source": [
    "#Ask the question\n",
    "message = [HumanMessage(content = \"what is 2 times of MS Dhoni Age?\")]\n",
    "result_1 = react_graph .invoke({\"messages\":message})\n",
    "result_1 "
   ]
  },
  {
   "cell_type": "code",
   "execution_count": null,
   "id": "a5371fee",
   "metadata": {},
   "outputs": [
    {
     "name": "stdout",
     "output_type": "stream",
     "text": [
      "here is output from llm_decision_step\n",
      "----------------------------------------\n",
      "{'messages': [AIMessage(content='', additional_kwargs={'reasoning_content': 'Okay, so the user is asking, \"what is 2 times of MS Dhoni Age?\" I need to figure out how to respond to this. First, I should break down the query. They want to multiply MS Dhoni\\'s age by 2. \\n\\nI know that MS Dhoni is a well-known cricketer, so his age is a piece of information that might change over time. Since I don\\'t have real-time data, I might need to look up his current age. But wait, I have access to a tool called DuckDuckGo Search which can help me find the most recent information.\\n\\nSo, the first step is to use the DuckDuckGo Search tool to find MS Dhoni\\'s current age. I\\'ll set up a search query for that. Once I have his age, the next step is to multiply it by 2. For that, I can use the multiply function provided in the tools.\\n\\nI should make sure to handle the function calls correctly. First, call the DuckDuckGo Search with the appropriate query, then use the result in the multiply function. I need to ensure that the arguments are correctly formatted as JSON objects within the tool_call tags.\\n\\nI also need to consider if there are any potential issues, like if the search doesn\\'t return a clear age or if the age isn\\'t available. But assuming the search works, I can proceed smoothly. So, the plan is: search for Dhoni\\'s age, then multiply it by 2 and present the result.\\n', 'tool_calls': [{'id': 'td6302hcr', 'function': {'arguments': '{\"query\":\"MS Dhoni age 2023\"}', 'name': 'duckduckgo_search'}, 'type': 'function'}]}, response_metadata={'token_usage': {'completion_tokens': 429, 'prompt_tokens': 421, 'total_tokens': 850, 'completion_time': 1.682684071, 'prompt_time': 0.034581851, 'queue_time': 0.052521208, 'total_time': 1.717265922}, 'model_name': 'deepseek-r1-distill-llama-70b', 'system_fingerprint': 'fp_1bbe7845ec', 'finish_reason': 'tool_calls', 'logprobs': None}, id='run--c73f2324-7990-494b-89f1-870a36106e3e-0', tool_calls=[{'name': 'duckduckgo_search', 'args': {'query': 'MS Dhoni age 2023'}, 'id': 'td6302hcr', 'type': 'tool_call'}], usage_metadata={'input_tokens': 421, 'output_tokens': 429, 'total_tokens': 850})]}\n",
      "\n",
      "\n",
      "here is output from tools\n",
      "----------------------------------------\n",
      "{'messages': [ToolMessage(content=\"At the age of 33, MS Dhoni won his last ICC Tournament as a Captain of the Indian Cricket Team. MS Dhoni played his last international match for India on July 10, 2019. MS Dhoni Test Records MS Dhoni's Age in 2023. As of the year 2023, MS Dhoni's age is 42. Born on 7th July 1981, Dhoni has achieved remarkable success in his cricketing career and continues to be an inspiration for aspiring cricketers around the world. MS Dhoni's Birthday. MS Dhoni was born on 7th July 1981. Learn about MS Dhoni's birthday, date of birth and age as of 2023. Find out how he became a cricket legend and how fans celebrate his contributions to the sport. Cricket News: MS Dhoni marked his 400th T20 match, joining an elite group of Indian cricketers. ... It marks his first full-time return to leadership since the unforgettable 2023 IPL final, where ... MS Dhoni Mahendra Singh Dhoni born on July 7, 1981 in Ranchi, Bihar (now Jharkhand), is an Indian professional cricketer. He served as the captain of the Indian National Team in limited-overs formats from 2007 to 2017 and in Test Cricket from 2008 to 2014. ... Age (as of 2023) 42 Years: Birthplace: Ranchi, Jharkhand, (Then in Bihar) India ...\", name='duckduckgo_search', id='07ac43bb-c6b2-4d3a-88bf-0b59754f5798', tool_call_id='td6302hcr')]}\n",
      "\n",
      "\n",
      "here is output from llm_decision_step\n",
      "----------------------------------------\n",
      "{'messages': [AIMessage(content='', additional_kwargs={'reasoning_content': 'Alright, the user is asking for \"2 times of MS Dhoni Age.\" So, first, I need to find out how old MS Dhoni is. I remember that he\\'s an Indian cricketer, so I\\'ll use the DuckDuckGo tool to search for his current age.\\n\\nAfter searching, I found that as of 2023, MS Dhoni is 42 years old. Now, the user wants twice his age, so I\\'ll multiply 42 by 2. That gives me 84.\\n\\nI should present this in a clear way, showing the multiplication step to make it easy to understand. So, the final answer is 84.\\n', 'tool_calls': [{'id': 'xg9xg1vp6', 'function': {'arguments': '{\"a\":42,\"b\":2}', 'name': 'multiply'}, 'type': 'function'}]}, response_metadata={'token_usage': {'completion_tokens': 180, 'prompt_tokens': 795, 'total_tokens': 975, 'completion_time': 0.753054452, 'prompt_time': 0.060202025, 'queue_time': 0.053717455000000004, 'total_time': 0.813256477}, 'model_name': 'deepseek-r1-distill-llama-70b', 'system_fingerprint': 'fp_1bbe7845ec', 'finish_reason': 'tool_calls', 'logprobs': None}, id='run--f989780b-7c32-4382-a74a-effbaaf7623a-0', tool_calls=[{'name': 'multiply', 'args': {'a': 42, 'b': 2}, 'id': 'xg9xg1vp6', 'type': 'tool_call'}], usage_metadata={'input_tokens': 795, 'output_tokens': 180, 'total_tokens': 975})]}\n",
      "\n",
      "\n",
      "here is output from tools\n",
      "----------------------------------------\n",
      "{'messages': [ToolMessage(content='84', name='multiply', id='b125547a-cf57-44a1-b1cb-c75e18cb429c', tool_call_id='xg9xg1vp6')]}\n",
      "\n",
      "\n",
      "here is output from llm_decision_step\n",
      "----------------------------------------\n",
      "{'messages': [AIMessage(content=\"The result of 2 times MS Dhoni's age is \\\\boxed{84}.\", additional_kwargs={'reasoning_content': 'Alright, the user is asking for \"2 times of MS Dhoni Age.\" First, I need to find out how old MS Dhoni is. I\\'ll use the DuckDuckGo search tool to look up his current age as of 2023. \\n\\nAfter searching, I find that MS Dhoni was born on July 7, 1981, which makes him 42 years old in 2023. Now, I need to calculate 2 times his age. Using the multiply function with the arguments 42 and 2, I get the result 84. \\n\\nSo, 2 times MS Dhoni\\'s age is 84.\\n'}, response_metadata={'token_usage': {'completion_tokens': 154, 'prompt_tokens': 850, 'total_tokens': 1004, 'completion_time': 0.577302691, 'prompt_time': 0.063711851, 'queue_time': 0.058172408999999994, 'total_time': 0.641014542}, 'model_name': 'deepseek-r1-distill-llama-70b', 'system_fingerprint': 'fp_1bbe7845ec', 'finish_reason': 'stop', 'logprobs': None}, id='run--33eb5e26-f645-451c-8ed1-39a7d9510858-0', usage_metadata={'input_tokens': 850, 'output_tokens': 154, 'total_tokens': 1004})]}\n",
      "\n",
      "\n"
     ]
    }
   ],
   "source": [
    "### Stream Output\n",
    "for output in react_graph .stream({\"messages\":message }):\n",
    "    for key,value in output.items():\n",
    "        print(f\"here is output from {key}\")\n",
    "        print(\"----\"*10)\n",
    "        print(value)\n",
    "        print(\"\\n\")"
   ]
  },
  {
   "cell_type": "code",
   "execution_count": 80,
   "id": "b0a44e63",
   "metadata": {},
   "outputs": [
    {
     "name": "stdout",
     "output_type": "stream",
     "text": [
      "here is output from llm_decision_step\n",
      "----------------------------------------\n",
      "{'messages': [AIMessage(content='', additional_kwargs={'reasoning_content': \"Alright, so I need to figure out how much Elon Musk's net worth is and then divide that number by 2. First, I don't have the exact figure off the top of my head, so I should probably look it up. I remember that his net worth fluctuates a lot because it's tied to the stock prices of the companies he's involved with, like Tesla and SpaceX.\\n\\nI'll start by using the DuckDuckGo search tool to find the most recent estimate of Elon Musk's net worth. Once I have that number, I'll need to divide it by 2. Since dividing by 2 is the same as finding half of the number, I can use the divide function for this. I should make sure that the number I get from the search is accurate and up-to-date because net worth can change rapidly.\\n\\nAfter obtaining the net worth, I'll input it into the divide function with 2 as the denominator. This will give me the result I need. I should also consider the format of the number—whether it's in millions, billions, etc.—to ensure the division is accurate. Once I have the final result, I'll present it clearly in the response.\\n\", 'tool_calls': [{'id': '6yq29fx5z', 'function': {'arguments': '{\"query\":\"Elon Musk net worth 2023\"}', 'name': 'duckduckgo_search'}, 'type': 'function'}]}, response_metadata={'token_usage': {'completion_tokens': 379, 'prompt_tokens': 427, 'total_tokens': 806, 'completion_time': 1.463179906, 'prompt_time': 0.034389789, 'queue_time': 0.054365749, 'total_time': 1.497569695}, 'model_name': 'deepseek-r1-distill-llama-70b', 'system_fingerprint': 'fp_1bbe7845ec', 'finish_reason': 'tool_calls', 'logprobs': None}, id='run--8d68f297-6a0d-4b31-a3dc-d2878485cad8-0', tool_calls=[{'name': 'duckduckgo_search', 'args': {'query': 'Elon Musk net worth 2023'}, 'id': '6yq29fx5z', 'type': 'tool_call'}], usage_metadata={'input_tokens': 427, 'output_tokens': 379, 'total_tokens': 806})]}\n",
      "\n",
      "\n",
      "here is output from tools\n",
      "----------------------------------------\n",
      "{'messages': [ToolMessage(content=\"Elon Musk Net worth: $423 billion Source: Tesla, SpaceX, xAI, X Age: 53 ... 2023 and held onto the number one spot for the remainder of 2023. He fell to No. 2 on January 31, 2024. As of 2023, Elon Musk's net worth was a staggering $163,5 billion. Musk owes a huge chunk of his wealth to his 20% stake in Tesla, as well as his majority stake in SpaceX. Elon Musk started building his business empire in the 90s after founding his first company, an online city guide known as Zip2 Corporation. Zip2 Corporation was purchased ... Elon Musk's net worth climbed to a peak of over $420 billion in December. Since then, Tesla's poor stock market performance has dragged on Musk's fortune. ... When it last raised capital in December 2023, SpaceX was valued at $180 billion. More recently, Bloomberg reported on a prospective tender offer that valued the company at $210 billion. Elon Musk's net worth dropped by $34 billion in the midst of his major feud with President Donald Trump, bringing his personal fortune down to $334.5 billion, according to Bloomberg. Elon Musk's net worth soared by $33.5 billion after Tesla shares surged 22%, marking their biggest gain in over a decade. The automaker has reported its largest quarterly profit since summer 2023.\", name='duckduckgo_search', id='6ce477d8-d7f4-41ff-9110-fddf4b20d05a', tool_call_id='6yq29fx5z')]}\n",
      "\n",
      "\n",
      "here is output from llm_decision_step\n",
      "----------------------------------------\n",
      "{'messages': [AIMessage(content='', additional_kwargs={'reasoning_content': 'Alright, so the user is asking about Elon Musk\\'s net worth and then wants me to divide that number by 2. First, I need to find the most recent and accurate figure for his net worth. I remember that net worth can fluctuate a lot, especially for someone like Elon Musk, due to stock prices and other investments.\\n\\nI\\'ll start by using the DuckDuckGo tool to search for \"Elon Musk net worth 2023\" to get the latest information. From the search results, I see that his net worth is around $423 billion. That seems like a reliable figure since it\\'s from a recent source.\\n\\nNow, the next step is to divide this number by 2. I\\'ll use the divide function for this. I need to make sure I\\'m using the correct function and providing the right arguments. The function expects two integers, so I\\'ll input 423000000000 as \\'a\\' and 2 as \\'b\\'.\\n\\nAfter performing the division, I\\'ll present the result to the user. It\\'s important to format the answer clearly so the user can understand it easily. I\\'ll make sure to explain that the result is in billions to maintain consistency with the original figure.\\n\\nI should also double-check the calculation to avoid any mistakes. Since 423 divided by 2 is 211.5, adding the billion units back gives $211.5 billion. That makes sense and seems accurate.\\n\\nFinally, I\\'ll present the answer in a friendly and helpful manner, ensuring the user feels confident about the information provided.\\n', 'tool_calls': [{'id': 'p7zrb7zkc', 'function': {'arguments': '{\"a\":423000000000,\"b\":2}', 'name': 'divide'}, 'type': 'function'}]}, response_metadata={'token_usage': {'completion_tokens': 363, 'prompt_tokens': 776, 'total_tokens': 1139, 'completion_time': 1.6001814680000002, 'prompt_time': 0.05769814, 'queue_time': 0.07030735399999999, 'total_time': 1.657879608}, 'model_name': 'deepseek-r1-distill-llama-70b', 'system_fingerprint': 'fp_1bbe7845ec', 'finish_reason': 'tool_calls', 'logprobs': None}, id='run--f0ef855b-b116-47a7-b9c0-080d8d640886-0', tool_calls=[{'name': 'divide', 'args': {'a': 423000000000, 'b': 2}, 'id': 'p7zrb7zkc', 'type': 'tool_call'}], usage_metadata={'input_tokens': 776, 'output_tokens': 363, 'total_tokens': 1139})]}\n",
      "\n",
      "\n",
      "here is output from tools\n",
      "----------------------------------------\n",
      "{'messages': [ToolMessage(content='211500000000.0', name='divide', id='bdb195e0-4475-4ee3-b5f3-a43b1d132821', tool_call_id='p7zrb7zkc')]}\n",
      "\n",
      "\n",
      "here is output from llm_decision_step\n",
      "----------------------------------------\n",
      "{'messages': [AIMessage(content='', additional_kwargs={'reasoning_content': \"As of 2023, Elon Musk's net worth is approximately $423 billion. Dividing this by 2 gives us:\\n\\n**211.5 billion**\"}, response_metadata={'token_usage': {'completion_tokens': 35, 'prompt_tokens': 838, 'total_tokens': 873, 'completion_time': 0.137516146, 'prompt_time': 0.06239493, 'queue_time': 0.07390113999999999, 'total_time': 0.199911076}, 'model_name': 'deepseek-r1-distill-llama-70b', 'system_fingerprint': 'fp_1bbe7845ec', 'finish_reason': 'stop', 'logprobs': None}, id='run--2000ad33-55dc-43a6-8d68-90f867930e00-0', usage_metadata={'input_tokens': 838, 'output_tokens': 35, 'total_tokens': 873})]}\n",
      "\n",
      "\n"
     ]
    }
   ],
   "source": [
    "message = [HumanMessage(content=\"How much is the net worth of Elon Musk, and divide it by 2?\")]\n",
    "### Stream Output\n",
    "for output in react_graph .stream({\"messages\":message }):\n",
    "    for key,value in output.items():\n",
    "        print(f\"here is output from {key}\")\n",
    "        print(\"----\"*10)\n",
    "        print(value)\n",
    "        print(\"\\n\")"
   ]
  },
  {
   "cell_type": "code",
   "execution_count": null,
   "id": "946d47dc",
   "metadata": {},
   "outputs": [],
   "source": [
    "#The Content is '' , beacuse we neeeed to use the Good reasing tool or LLM - Finetuning \n"
   ]
  },
  {
   "cell_type": "code",
   "execution_count": 81,
   "id": "ff96316c",
   "metadata": {},
   "outputs": [
    {
     "name": "stdout",
     "output_type": "stream",
     "text": [
      "here is output from llm_decision_step\n",
      "----------------------------------------\n",
      "{'messages': [AIMessage(content='', additional_kwargs={'reasoning_content': \"Okay, so I need to figure out the speed of light in meters per second and then multiply that by 10. First, I remember that the speed of light is a constant, but I'm not exactly sure of the exact number. I think it's around 300,000,000 m/s, but I'm not 100% certain. Maybe I should double-check that to make sure I have the right value.\\n\\nOnce I confirm the speed of light, the next step is to multiply it by 10. That seems straightforward, but I want to make sure I do it correctly. Multiplying by 10 should just add a zero at the end of the number, right? So if it's 299,792,458 m/s, multiplying by 10 would give me 2,997,924,580 m/s. But wait, I should verify if the speed of light is exactly 300,000,000 or if it's a bit less. I think it's actually approximately 299,792,458 m/s in a vacuum.\\n\\nSo, to be precise, I should use the exact figure. Multiplying 299,792,458 by 10 would indeed give me 2,997,924,580 m/s. That makes sense because multiplying by 10 increases the speed by a factor of 10. I don't think there's any need for more complex calculations here since it's a simple multiplication.\\n\\nI also wonder why someone would need to multiply the speed of light by 10. Maybe for scaling in a particular application or calculation where a higher speed is required, but that's beyond my current task. My main focus is just to provide the correct multiplied value based on the accurate speed of light.\\n\\nIn summary, I'll look up the exact speed of light to ensure accuracy, then perform the multiplication by 10 to get the final result. This should give the user the precise information they're asking for without any unnecessary complications.\\n\", 'tool_calls': [{'id': '89ycg53hb', 'function': {'arguments': '{\"a\":299792458,\"b\":10}', 'name': 'multiply'}, 'type': 'function'}]}, response_metadata={'token_usage': {'completion_tokens': 516, 'prompt_tokens': 426, 'total_tokens': 942, 'completion_time': 1.963709754, 'prompt_time': 0.027311586, 'queue_time': 0.068352844, 'total_time': 1.99102134}, 'model_name': 'deepseek-r1-distill-llama-70b', 'system_fingerprint': 'fp_1bbe7845ec', 'finish_reason': 'tool_calls', 'logprobs': None}, id='run--57d41b02-dce1-4469-9a62-94ad8ad776c9-0', tool_calls=[{'name': 'multiply', 'args': {'a': 299792458, 'b': 10}, 'id': '89ycg53hb', 'type': 'tool_call'}], usage_metadata={'input_tokens': 426, 'output_tokens': 516, 'total_tokens': 942})]}\n",
      "\n",
      "\n",
      "here is output from tools\n",
      "----------------------------------------\n",
      "{'messages': [ToolMessage(content='2997924580', name='multiply', id='60ac0e8b-7e5b-4cd7-a4a8-7e19a32b05a3', tool_call_id='89ycg53hb')]}\n",
      "\n",
      "\n",
      "here is output from llm_decision_step\n",
      "----------------------------------------\n",
      "{'messages': [AIMessage(content='', additional_kwargs={'reasoning_content': 'Okay, so I need to figure out the speed of light in meters per second and then multiply it by 10. Let me start by recalling what I know about the speed of light. I remember that the speed of light is a fundamental constant in physics, and it\\'s denoted by the letter \\'c\\'. From what I\\'ve learned, the speed of light in a vacuum is approximately 299,792,458 meters per second. That\\'s a pretty big number!\\n\\nNow, the user is asking for the speed of light in m/s and then to multiply it by 10. So, first, I need to confirm the exact value of the speed of light. I think it\\'s exactly 299,792,458 m/s, but I\\'m not entirely sure if that\\'s the precise value or just an approximation. Maybe I should double-check that to make sure I have the correct number.\\n\\nOnce I have the speed of light, the next step is to multiply it by 10. That seems straightforward, but since the number is so large, I need to be careful with the multiplication to avoid any mistakes. I could do this manually, but it might be easier to use a calculator to ensure accuracy.\\n\\nWait, but the user also mentioned using a tool to assist with the calculation. There\\'s a function called \"multiply\" that takes two integers and returns their product. That could be really helpful here. I can use this function to multiply the speed of light by 10 accurately.\\n\\nBefore I proceed, I should make sure that the function \"multiply\" is available and that I\\'m using it correctly. The function requires two integer arguments, \\'a\\' and \\'b\\', and returns their product as an integer. Since the speed of light is an integer, and 10 is also an integer, this should work perfectly.\\n\\nSo, to summarize my steps:\\n1. Confirm the exact value of the speed of light in m/s.\\n2. Use the \"multiply\" function to calculate the product of the speed of light and 10.\\n3. Present the result clearly.\\n\\nI think that\\'s all I need to do. Let\\'s get started!\\n', 'tool_calls': [{'id': '1wwvzy85e', 'function': {'arguments': '{\"a\":299792458,\"b\":10}', 'name': 'multiply'}, 'type': 'function'}]}, response_metadata={'token_usage': {'completion_tokens': 546, 'prompt_tokens': 483, 'total_tokens': 1029, 'completion_time': 1.992912936, 'prompt_time': 0.038442042, 'queue_time': 0.05586879399999999, 'total_time': 2.031354978}, 'model_name': 'deepseek-r1-distill-llama-70b', 'system_fingerprint': 'fp_1bbe7845ec', 'finish_reason': 'tool_calls', 'logprobs': None}, id='run--2d03c573-3656-43db-9d8a-061969373c40-0', tool_calls=[{'name': 'multiply', 'args': {'a': 299792458, 'b': 10}, 'id': '1wwvzy85e', 'type': 'tool_call'}], usage_metadata={'input_tokens': 483, 'output_tokens': 546, 'total_tokens': 1029})]}\n",
      "\n",
      "\n",
      "here is output from tools\n",
      "----------------------------------------\n",
      "{'messages': [ToolMessage(content='2997924580', name='multiply', id='fb1246e0-39d7-4d40-b437-44de731d84e6', tool_call_id='1wwvzy85e')]}\n",
      "\n",
      "\n",
      "here is output from llm_decision_step\n",
      "----------------------------------------\n",
      "{'messages': [AIMessage(content='The speed of light is approximately 299,792,000 meters per second. When multiplied by 10, the result is 2,997,920,000 meters per second.', additional_kwargs={'reasoning_content': \"Alright, so I need to figure out the speed of light in meters per second and then multiply it by 10. First, I remember that the speed of light is a fundamental constant in physics, and I think it's approximately 299,792 kilometers per second. But the question asks for meters per second, so I need to convert kilometers to meters. \\n\\nI know that 1 kilometer is equal to 1,000 meters. So, to convert kilometers to meters, I should multiply the speed of light in kilometers per second by 1,000. That would give me the speed in meters per second. \\n\\nLet me write that down: 299,792 km/s * 1,000 = 299,792,000 m/s. \\n\\nNow, the next part is to multiply this speed by 10. So, 299,792,000 m/s * 10 = 2,997,920,000 m/s. \\n\\nWait, that seems like a huge number. Let me double-check my calculations to make sure I didn't make a mistake. \\n\\nStarting again: 299,792 km/s * 1,000 = 299,792,000 m/s. Multiplying that by 10 gives 2,997,920,000 m/s. Yeah, that seems correct. \\n\\nI think I've got it. The speed of light is 299,792,000 meters per second, and when multiplied by 10, it becomes 2,997,920,000 meters per second.\\n\"}, response_metadata={'token_usage': {'completion_tokens': 354, 'prompt_tokens': 541, 'total_tokens': 895, 'completion_time': 1.287272727, 'prompt_time': 0.089975222, 'queue_time': 7.684623328000001, 'total_time': 1.377247949}, 'model_name': 'deepseek-r1-distill-llama-70b', 'system_fingerprint': 'fp_1bbe7845ec', 'finish_reason': 'stop', 'logprobs': None}, id='run--78cc97f1-0033-4fc4-a29c-886eecef1a71-0', usage_metadata={'input_tokens': 541, 'output_tokens': 354, 'total_tokens': 895})]}\n",
      "\n",
      "\n"
     ]
    }
   ],
   "source": [
    "message = [HumanMessage(content=\"What is the speed of light in m/s and multiply it by 10?\")]\n",
    "### Stream Output\n",
    "for output in react_graph .stream({\"messages\":message }):\n",
    "    for key,value in output.items():\n",
    "        print(f\"here is output from {key}\")\n",
    "        print(\"----\"*10)\n",
    "        print(value)\n",
    "        print(\"\\n\")"
   ]
  },
  {
   "cell_type": "code",
   "execution_count": 89,
   "id": "190a23c6",
   "metadata": {},
   "outputs": [
    {
     "data": {
      "text/plain": [
       "'The speed of light is approximately 299,792,000 meters per second. When multiplied by 10, the result is 2,997,920,000 meters per second.\\n\\n**Step-by-Step Explanation:**\\n\\n1. **Identify the Speed of Light:**\\n   - The speed of light in a vacuum is a well-known physical constant.\\n   - It is approximately 299,792 kilometers per second.\\n\\n2. **Convert Kilometers to Meters:**\\n   - Since 1 kilometer equals 1,000 meters, multiply the speed in kilometers by 1,000 to convert it to meters.\\n   - Calculation: 299,792 km/s * 1,000 = 299,792,000 m/s.\\n\\n3. **Multiply by 10:**\\n   - To find the speed of light multiplied by 10, take the value in meters per second and multiply it by 10.\\n   - Calculation: 299,792,000 m/s * 10 = 2,997,920,000 m/s.\\n\\n**Final Answer:**\\nThe speed of light is 299,792,000 meters per second, and when multiplied by 10, it equals 2,997,920,000 meters per second.'"
      ]
     },
     "execution_count": 89,
     "metadata": {},
     "output_type": "execute_result"
    }
   ],
   "source": [
    "message = [HumanMessage(content=\"What is the speed of light in m/s and multiply it by 10?\")]\n",
    "response =  react_graph.invoke({\"messages\":message})\n",
    "response[\"messages\"][-1].content"
   ]
  },
  {
   "cell_type": "code",
   "execution_count": 83,
   "id": "e65263f1",
   "metadata": {},
   "outputs": [
    {
     "name": "stdout",
     "output_type": "stream",
     "text": [
      "================================\u001b[1m Human Message \u001b[0m=================================\n",
      "\n",
      "What is the speed of light in m/s and multiply it by 10?\n",
      "==================================\u001b[1m Ai Message \u001b[0m==================================\n",
      "Tool Calls:\n",
      "  multiply (me56fn69t)\n",
      " Call ID: me56fn69t\n",
      "  Args:\n",
      "    a: 299792000\n",
      "    b: 10\n",
      "=================================\u001b[1m Tool Message \u001b[0m=================================\n",
      "Name: multiply\n",
      "\n",
      "2997920000\n",
      "==================================\u001b[1m Ai Message \u001b[0m==================================\n",
      "\n",
      "The speed of light in meters per second is approximately 299,792,000 m/s. When multiplied by 10, the result is 2,997,920,000 m/s.\n"
     ]
    }
   ],
   "source": [
    "for m in response[\"messages\"]:\n",
    "    m.pretty_print()"
   ]
  },
  {
   "cell_type": "code",
   "execution_count": null,
   "id": "5985335f",
   "metadata": {},
   "outputs": [],
   "source": []
  },
  {
   "cell_type": "markdown",
   "id": "9843f010",
   "metadata": {},
   "source": [
    "### Finance Agentic AI WorkFlow"
   ]
  },
  {
   "cell_type": "code",
   "execution_count": 86,
   "id": "771add76",
   "metadata": {},
   "outputs": [],
   "source": [
    "import yfinance as yf"
   ]
  },
  {
   "cell_type": "code",
   "execution_count": 91,
   "id": "8da20aa2",
   "metadata": {},
   "outputs": [],
   "source": [
    "@tool\n",
    "def get_stock_price(ticker:str)->str:\n",
    "    \"\"\"\n",
    "    Fetches the previous closing price of a given stock ticker from Yahoo Finance.\n",
    "\n",
    "    Args:\n",
    "        ticker (str): The stock ticker symbol (e.g., 'AAPL', 'TSLA', 'NIFTY.BO').\n",
    "\n",
    "    Returns:\n",
    "        str: A message with the stock's previous closing price.\n",
    "    \"\"\"\n",
    "    try:\n",
    "        stock = yf.Ticker(ticker) ##Method,\n",
    "        price = stock.info.get('previousClose')\n",
    "        if price is None:\n",
    "            return f\"Could not fetch price for ticker '{ticker}'.\"\n",
    "        return f\"The last closing price of {ticker.upper()} was ${price:.2f}.\"\n",
    "    except Exception as e:\n",
    "        return f\"An error occurred while fetching stock data: {str(e)}\""
   ]
  },
  {
   "cell_type": "code",
   "execution_count": 92,
   "id": "ca9569d5",
   "metadata": {},
   "outputs": [
    {
     "data": {
      "text/plain": [
       "'The last closing price of AAPL was $201.00.'"
      ]
     },
     "execution_count": 92,
     "metadata": {},
     "output_type": "execute_result"
    }
   ],
   "source": [
    "get_stock_price.invoke(\"AAPL\")"
   ]
  },
  {
   "cell_type": "code",
   "execution_count": 93,
   "id": "328b757f",
   "metadata": {},
   "outputs": [
    {
     "data": {
      "text/plain": [
       "'The last closing price of TSLA was $328.49.'"
      ]
     },
     "execution_count": 93,
     "metadata": {},
     "output_type": "execute_result"
    }
   ],
   "source": [
    "get_stock_price.invoke(\"TSLA\")"
   ]
  },
  {
   "cell_type": "code",
   "execution_count": 94,
   "id": "09a71f94",
   "metadata": {},
   "outputs": [
    {
     "data": {
      "text/plain": [
       "[StructuredTool(name='multiply', description='Multiply two integers.\\n\\nArgs:\\n    a (int): The first integer.\\n    b (int): The second integer.\\n\\nReturns:\\n    int: The product of a and b.', args_schema=<class 'langchain_core.utils.pydantic.multiply'>, func=<function multiply at 0x00000292E1FAEE80>),\n",
       " StructuredTool(name='add', description='Add two integers.\\n\\nArgs:\\n    a (int): The first integer.\\n    b (int): The second integer.\\n\\nReturns:\\n    int: The sum of a and b.', args_schema=<class 'langchain_core.utils.pydantic.add'>, func=<function add at 0x00000292E1FAED40>),\n",
       " StructuredTool(name='divide', description='Divide two integers.\\n\\nArgs:\\n    a (int): The numerator.\\n    b (int): The denominator (must not be 0).\\n\\nReturns:\\n    float: The result of division.', args_schema=<class 'langchain_core.utils.pydantic.divide'>, func=<function divide at 0x00000292E1FAECA0>),\n",
       " DuckDuckGoSearchRun(api_wrapper=DuckDuckGoSearchAPIWrapper(region='wt-wt', safesearch='moderate', time='y', max_results=5, backend='auto', source='text'))]"
      ]
     },
     "execution_count": 94,
     "metadata": {},
     "output_type": "execute_result"
    }
   ],
   "source": [
    "tools"
   ]
  },
  {
   "cell_type": "code",
   "execution_count": 95,
   "id": "f44d416d",
   "metadata": {},
   "outputs": [],
   "source": [
    "tools = [add, multiply, divide, search,get_stock_price]"
   ]
  },
  {
   "cell_type": "code",
   "execution_count": 96,
   "id": "40ce731e",
   "metadata": {},
   "outputs": [
    {
     "data": {
      "text/plain": [
       "[StructuredTool(name='add', description='Add two integers.\\n\\nArgs:\\n    a (int): The first integer.\\n    b (int): The second integer.\\n\\nReturns:\\n    int: The sum of a and b.', args_schema=<class 'langchain_core.utils.pydantic.add'>, func=<function add at 0x00000292E1FAED40>),\n",
       " StructuredTool(name='multiply', description='Multiply two integers.\\n\\nArgs:\\n    a (int): The first integer.\\n    b (int): The second integer.\\n\\nReturns:\\n    int: The product of a and b.', args_schema=<class 'langchain_core.utils.pydantic.multiply'>, func=<function multiply at 0x00000292E1FAEE80>),\n",
       " StructuredTool(name='divide', description='Divide two integers.\\n\\nArgs:\\n    a (int): The numerator.\\n    b (int): The denominator (must not be 0).\\n\\nReturns:\\n    float: The result of division.', args_schema=<class 'langchain_core.utils.pydantic.divide'>, func=<function divide at 0x00000292E1FAECA0>),\n",
       " DuckDuckGoSearchRun(api_wrapper=DuckDuckGoSearchAPIWrapper(region='wt-wt', safesearch='moderate', time='y', max_results=5, backend='auto', source='text')),\n",
       " StructuredTool(name='get_stock_price', description=\"Fetches the previous closing price of a given stock ticker from Yahoo Finance.\\n\\nArgs:\\n    ticker (str): The stock ticker symbol (e.g., 'AAPL', 'TSLA', 'NIFTY.BO').\\n\\nReturns:\\n    str: A message with the stock's previous closing price.\", args_schema=<class 'langchain_core.utils.pydantic.get_stock_price'>, func=<function get_stock_price at 0x00000292FAA954E0>)]"
      ]
     },
     "execution_count": 96,
     "metadata": {},
     "output_type": "execute_result"
    }
   ],
   "source": [
    "tools"
   ]
  },
  {
   "cell_type": "code",
   "execution_count": 97,
   "id": "3688aafe",
   "metadata": {},
   "outputs": [],
   "source": [
    "llm_with_tools = llm.bind_tools(tools)"
   ]
  },
  {
   "cell_type": "code",
   "execution_count": 98,
   "id": "90c31021",
   "metadata": {},
   "outputs": [],
   "source": [
    "response = llm_with_tools.invoke(\n",
    "    \"can you give me a latest stock price of adani greens?\"\n",
    "    )"
   ]
  },
  {
   "cell_type": "code",
   "execution_count": null,
   "id": "0afb7524",
   "metadata": {},
   "outputs": [
    {
     "data": {
      "text/plain": [
       "''"
      ]
     },
     "execution_count": 99,
     "metadata": {},
     "output_type": "execute_result"
    }
   ],
   "source": [
    "response.content #her, it give none in the content"
   ]
  },
  {
   "cell_type": "code",
   "execution_count": 100,
   "id": "825b08c6",
   "metadata": {},
   "outputs": [
    {
     "data": {
      "text/plain": [
       "[{'name': 'get_stock_price',\n",
       "  'args': {'ticker': 'ADANIGREEN.NS'},\n",
       "  'id': 't2mg0bskc',\n",
       "  'type': 'tool_call'}]"
      ]
     },
     "execution_count": 100,
     "metadata": {},
     "output_type": "execute_result"
    }
   ],
   "source": [
    "response.tool_calls"
   ]
  },
  {
   "cell_type": "code",
   "execution_count": null,
   "id": "fab67ede",
   "metadata": {},
   "outputs": [],
   "source": [
    "#System Prompt\n",
    "SYSTEM_PROMPT = SystemMessage(\n",
    "    content=\"You are a helpful assistant tasked with using search, the yahoo finance tool and performing arithmetic on a set of inputs.\"\n",
    ")\n",
    "\n",
    "#Function for the Node\n",
    "def function_1(state:MessagesState):\n",
    "    \n",
    "    user_question = state[\"messages\"]\n",
    "    \n",
    "    input_question = [SYSTEM_PROMPT]+user_question\n",
    "    \n",
    "    response = llm_with_tools.invoke(input_question)\n",
    "    \n",
    "    return {\n",
    "        \"messages\":[response]\n",
    "    }"
   ]
  },
  {
   "cell_type": "code",
   "execution_count": null,
   "id": "d2e36973",
   "metadata": {},
   "outputs": [],
   "source": [
    "###Add the workflow\n",
    "workflow = StateGraph(MessagesState)\n",
    "\n",
    "##Add the NOde\n",
    "workflow.add_node(\"llm_decision_step\", function_1)\n",
    "workflow.add_node(\"tools\", ToolNode(tools)) #this is updated with the finance tool\n",
    "\n",
    "##Add the Edge\n",
    "workflow.add_edge(START, \"llm_decision_step\")\n",
    "workflow.add_conditional_edges(\n",
    "    \"llm_decision_step\",\n",
    "    tools_condition,\n",
    ")\n",
    "\n",
    "workflow.add_edge(\"tools\", \"llm_decision_step\")\n",
    "\n",
    "#compile it\n",
    "react_graph2 = workflow.compile()"
   ]
  },
  {
   "cell_type": "code",
   "execution_count": 103,
   "id": "9f0b81fa",
   "metadata": {},
   "outputs": [
    {
     "data": {
      "image/png": "[encoded data removed]",
      "text/plain": [
       "<IPython.core.display.Image object>"
      ]
     },
     "metadata": {},
     "output_type": "display_data"
    }
   ],
   "source": [
    "display(Image(react_graph2.get_graph(xray=True).draw_mermaid_png()))"
   ]
  },
  {
   "cell_type": "code",
   "execution_count": 104,
   "id": "45d8e997",
   "metadata": {},
   "outputs": [
    {
     "name": "stdout",
     "output_type": "stream",
     "text": [
      "================================\u001b[1m Human Message \u001b[0m=================================\n",
      "\n",
      "add 1000 in the current stock price of Apple.\n",
      "==================================\u001b[1m Ai Message \u001b[0m==================================\n",
      "Tool Calls:\n",
      "  get_stock_price (n3cfz62br)\n",
      " Call ID: n3cfz62br\n",
      "  Args:\n",
      "    ticker: AAPL\n",
      "=================================\u001b[1m Tool Message \u001b[0m=================================\n",
      "Name: get_stock_price\n",
      "\n",
      "The last closing price of AAPL was $201.00.\n",
      "==================================\u001b[1m Ai Message \u001b[0m==================================\n",
      "Tool Calls:\n",
      "  get_stock_price (0m0kbmnrx)\n",
      " Call ID: 0m0kbmnrx\n",
      "  Args:\n",
      "    ticker: AAPL\n",
      "=================================\u001b[1m Tool Message \u001b[0m=================================\n",
      "Name: get_stock_price\n",
      "\n",
      "The last closing price of AAPL was $201.00.\n",
      "==================================\u001b[1m Ai Message \u001b[0m==================================\n",
      "\n",
      "The result of adding 1000 to the current stock price of Apple (AAPL) is:\n",
      "\n",
      "**1201**\n"
     ]
    }
   ],
   "source": [
    "messages = [HumanMessage(content=\"add 1000 in the current stock price of Apple.\")]\n",
    "messages = react_graph2.invoke({\"messages\": messages})\n",
    "\n",
    "for m in messages['messages']:\n",
    "    m.pretty_print()"
   ]
  },
  {
   "cell_type": "code",
   "execution_count": 113,
   "id": "269ab7c1",
   "metadata": {},
   "outputs": [
    {
     "name": "stdout",
     "output_type": "stream",
     "text": [
      "================================\u001b[1m Human Message \u001b[0m=================================\n",
      "\n",
      "current stock value of Ashok Leyland Ltd\n",
      "==================================\u001b[1m Ai Message \u001b[0m==================================\n",
      "Tool Calls:\n",
      "  get_stock_price (ax6qjdvb7)\n",
      " Call ID: ax6qjdvb7\n",
      "  Args:\n",
      "    ticker: ASHOKLEY.BO\n",
      "=================================\u001b[1m Tool Message \u001b[0m=================================\n",
      "Name: get_stock_price\n",
      "\n",
      "The last closing price of ASHOKLEY.BO was $248.95.\n",
      "==================================\u001b[1m Ai Message \u001b[0m==================================\n",
      "\n",
      "The last closing price of Ashok Leyland Ltd (ASHOKLEY.BO) was **$248.95**. This information is fetched from Yahoo Finance.\n"
     ]
    }
   ],
   "source": [
    "message = [HumanMessage(content=\"current stock value of Ashok Leyland Ltd\")]\n",
    "messages = react_graph2.invoke({\"messages\": message})\n",
    "\n",
    "for m in messages['messages']:\n",
    "    m.pretty_print()"
   ]
  },
  {
   "cell_type": "code",
   "execution_count": 114,
   "id": "81b99405",
   "metadata": {},
   "outputs": [
    {
     "name": "stdout",
     "output_type": "stream",
     "text": [
      "here is output from llm_decision_step\n",
      "----------------------------------------\n",
      "{'messages': [AIMessage(content='', additional_kwargs={'reasoning_content': 'Okay, so the user is asking for the value of one stock of Ashok Leyland Ltd and then to multiply that value by 15. Let me break this down step by step.\\n\\nFirst, I need to find the current stock price of Ashok Leyland Ltd. Since I have access to the Yahoo Finance tool, I can use the get_stock_price function with the ticker symbol \"ASHOKLEY.BO\" because that\\'s the correct ticker for Ashok Leyland on Yahoo Finance.\\n\\nOnce I have the stock price, the next step is to multiply that value by 15. The multiply function is available, which takes two integers and returns their product. However, I should note that the stock price might be a float, so I need to ensure that the multiply function can handle it or if I need to convert it to an integer first.\\n\\nWait, looking back at the functions, the multiply function actually expects two integers. So if the stock price is a float, I might need to adjust it. Alternatively, maybe the function can handle floats, but the description says it\\'s for integers. Hmm, perhaps I should consider rounding the stock price to the nearest integer before multiplying.\\n\\nBut the user didn\\'t specify rounding, so maybe I should just proceed with the exact value. Alternatively, perhaps the multiply function can handle floats, and I should check that. If it can\\'t, I might need to use a different approach or adjust the function call accordingly.\\n\\nAlso, I should make sure that the ticker symbol is correct. Sometimes, companies have different ticker symbols on different exchanges, so I need to confirm that \"ASHOKLEY.BO\" is indeed the correct one for Ashok Leyland Ltd on Yahoo Finance.\\n\\nOnce I have the stock price, I\\'ll call the multiply function with that price and 15. Then, I\\'ll present the result to the user.\\n\\nI should also consider any potential errors, like if the stock price isn\\'t available or if there\\'s an issue with the functions. But assuming everything works smoothly, I can proceed as planned.\\n\\nSo, to summarize, the steps are:\\n1. Use get_stock_price with \"ASHOKLEY.BO\" to get the current stock price.\\n2. Use multiply with the stock price and 15 to get the result.\\n3. Present the final result to the user.\\n\\nI think that\\'s a solid plan. Now, I\\'ll execute the first function call to get the stock price.\\n', 'tool_calls': [{'id': '5aeznmwqw', 'function': {'arguments': '{\"ticker\":\"ASHOKLEY.BO\"}', 'name': 'get_stock_price'}, 'type': 'function'}]}, response_metadata={'token_usage': {'completion_tokens': 522, 'prompt_tokens': 530, 'total_tokens': 1052, 'completion_time': 1.9430135499999999, 'prompt_time': 0.040953879, 'queue_time': 0.057916576, 'total_time': 1.983967429}, 'model_name': 'deepseek-r1-distill-llama-70b', 'system_fingerprint': 'fp_1bbe7845ec', 'finish_reason': 'tool_calls', 'logprobs': None}, id='run--125669d1-fe44-4f35-a8c7-288ba40abb08-0', tool_calls=[{'name': 'get_stock_price', 'args': {'ticker': 'ASHOKLEY.BO'}, 'id': '5aeznmwqw', 'type': 'tool_call'}], usage_metadata={'input_tokens': 530, 'output_tokens': 522, 'total_tokens': 1052})]}\n",
      "\n",
      "\n",
      "here is output from tools\n",
      "----------------------------------------\n",
      "{'messages': [ToolMessage(content='The last closing price of ASHOKLEY.BO was $248.95.', name='get_stock_price', id='ddd670b8-2a44-4de4-9770-738ee0752d44', tool_call_id='5aeznmwqw')]}\n",
      "\n",
      "\n",
      "here is output from llm_decision_step\n",
      "----------------------------------------\n",
      "{'messages': [AIMessage(content='', additional_kwargs={'reasoning_content': 'Alright, so the user is asking for the value of one stock of Ashok Leyland Ltd and then to multiply that value by 15. Let me break this down step by step.\\n\\nFirst, I need to find the current stock price of Ashok Leyland Ltd. I remember that the user provided a tool called \"get_stock_price\" which fetches the previous closing price from Yahoo Finance. So, I\\'ll use that tool with the ticker symbol \"ASHOKLEY.BO\" as specified.\\n\\nOnce I have the stock price, the next step is to multiply it by 15. The user mentioned using the \"multiply\" tool for this. I should make sure that the stock price is in a format that can be used in the multiplication function, which expects two integers. \\n\\nWait, the stock price might be a float, like 248.95, but the multiply function takes integers. Hmm, maybe I should convert the stock price to an integer or handle it as a float. But looking back, the multiply function actually accepts integers, so perhaps I should round the stock price or ensure it\\'s an integer before proceeding.\\n\\nAfter obtaining the multiplied value, I need to present it clearly to the user. I should also mention the individual stock price and the total after multiplication to make the response informative.\\n\\nI should also consider if there are any potential issues, like if the stock price isn\\'t available or if there\\'s an error in fetching the data. But since the user provided a specific ticker, I\\'ll assume it\\'s valid.\\n\\nSo, to summarize, I\\'ll first get the stock price using the provided tool, then multiply it by 15 using the multiply tool, and finally present both values to the user in a clear manner.\\n', 'tool_calls': [{'id': 'y23ppccm9', 'function': {'arguments': '{\"ticker\":\"ASHOKLEY.BO\"}', 'name': 'get_stock_price'}, 'type': 'function'}]}, response_metadata={'token_usage': {'completion_tokens': 403, 'prompt_tokens': 598, 'total_tokens': 1001, 'completion_time': 1.728786993, 'prompt_time': 0.048766, 'queue_time': 0.05810951000000001, 'total_time': 1.777552993}, 'model_name': 'deepseek-r1-distill-llama-70b', 'system_fingerprint': 'fp_1bbe7845ec', 'finish_reason': 'tool_calls', 'logprobs': None}, id='run--2680204a-9490-4979-9439-09ef60a1a353-0', tool_calls=[{'name': 'get_stock_price', 'args': {'ticker': 'ASHOKLEY.BO'}, 'id': 'y23ppccm9', 'type': 'tool_call'}], usage_metadata={'input_tokens': 598, 'output_tokens': 403, 'total_tokens': 1001})]}\n",
      "\n",
      "\n",
      "here is output from tools\n",
      "----------------------------------------\n",
      "{'messages': [ToolMessage(content='The last closing price of ASHOKLEY.BO was $248.95.', name='get_stock_price', id='daec9bd7-363e-49e7-b263-53db1fadea25', tool_call_id='y23ppccm9')]}\n",
      "\n",
      "\n",
      "here is output from llm_decision_step\n",
      "----------------------------------------\n",
      "{'messages': [AIMessage(content='The last closing price of ASHOKLEY.BO was $248.95.\\n\\nNow, multiplying this value by 15:\\n\\n248.95 × 15 = 3,734.25\\n\\nSo, the result is **$3,734.25**.', additional_kwargs={'reasoning_content': 'Okay, so the user is asking for the value of one stock of Ashok Leyland Ltd and then to multiply that value by 15. Let me break this down step by step.\\n\\nFirst, I need to find the current stock price of Ashok Leyland Ltd. I remember that the user provided a tool called \"get_stock_price\" which fetches the previous closing price from Yahoo Finance. So, I\\'ll use that tool with the ticker symbol \"ASHOKLEY.BO\" since that\\'s the correct ticker for Ashok Leyland on the Bombay Stock Exchange.\\n\\nOnce I have the stock price, the next step is to multiply it by 15. The user also provided a \"multiply\" tool that takes two integers and returns their product. However, the stock price might be a float, so I need to ensure that the multiplication works correctly with the value obtained.\\n\\nI should also consider any potential issues, like if the stock price tool returns an error or if the multiplication results in a non-integer. But since the user\\'s example shows a price of $248.95, I can assume the tool handles decimal values appropriately.\\n\\nSo, the plan is: first, call \"get_stock_price\" with \"ASHOKLEY.BO\" to get the price. Then, take that price and multiply it by 15 using the \"multiply\" tool. Finally, present the result to the user in a clear format.\\n'}, response_metadata={'token_usage': {'completion_tokens': 343, 'prompt_tokens': 1331, 'total_tokens': 1674, 'completion_time': 1.327454705, 'prompt_time': 0.101637473, 'queue_time': -0.184961373, 'total_time': 1.4290921779999999}, 'model_name': 'deepseek-r1-distill-llama-70b', 'system_fingerprint': 'fp_1bbe7845ec', 'finish_reason': 'stop', 'logprobs': None}, id='run--529ff577-ef90-460f-9fa9-f79420e1cb23-0', usage_metadata={'input_tokens': 1331, 'output_tokens': 343, 'total_tokens': 1674})]}\n",
      "\n",
      "\n"
     ]
    }
   ],
   "source": [
    "message = [HumanMessage(content=\"What is one stock value of Ashok Leyland Ltd and multiply the one stock value with 15?\")]\n",
    "### Stream Output\n",
    "for output in react_graph2.stream({\"messages\":message }):\n",
    "    for key,value in output.items():\n",
    "        print(f\"here is output from {key}\")\n",
    "        print(\"----\"*10)\n",
    "        print(value)\n",
    "        print(\"\\n\")"
   ]
  },
  {
   "cell_type": "code",
   "execution_count": null,
   "id": "c1965474",
   "metadata": {},
   "outputs": [],
   "source": []
  },
  {
   "cell_type": "markdown",
   "id": "e4d854a0",
   "metadata": {},
   "source": [
    "### Assigmnet 4:-"
   ]
  },
  {
   "cell_type": "code",
   "execution_count": null,
   "id": "c7a68446",
   "metadata": {},
   "outputs": [],
   "source": [
    "# Assignment:\n",
    "    \n",
    "# AI Travel Agent & Expense Planner(Purpose: Trip planning for any city worldwide with Realtime data.\")\n",
    "\n",
    "# • Real-time weather information\n",
    "# • Top attractions and activities\n",
    "# • Hotel cost calculation (per day × total days)\n",
    "# • Currency conversion to user's native currency\n",
    "# • Complete itinerary generation\n",
    "# • Total expense calculation\n",
    "# • generate a summary of the entire output\n",
    "\n",
    "# user_input\n",
    "#   |\n",
    "# search attraction and activity\n",
    "# 1. search attracation\n",
    "# 2. search restaurant\n",
    "# 3. search activity\n",
    "# 4. search transportation\n",
    "#   |\n",
    "# search weather forcasting\n",
    "# 1. get current weather\n",
    "# 2. get weather forcast\n",
    "#   |\n",
    "# search hotel costs\n",
    "# 1. search hotel\n",
    "# 2. estimate the hotel cost\n",
    "# 3. budget_range\n",
    "#   |\n",
    "# calculate total cost\n",
    "# 1. add\n",
    "# 2. multiply\n",
    "# 3. calculated total cost\n",
    "# 4. calcualte the daily budget\n",
    "#     | \n",
    "# currency_converion\n",
    "# 1. get exchnage rate\n",
    "# 2. convert currancy\n",
    "#     | \n",
    "# Itinery generation\n",
    "# 1. get day plan\n",
    "# 2. crete full itinery\n",
    "#     |\n",
    "# create Trip Summary\n",
    "#     |\n",
    "# Retun complete traval plan\n",
    "\n",
    "# Note: if you know the OOPS then design this entire system using object and class in modular fashion.\n",
    "\n",
    "\n",
    "# deadline is till next friday 9PM IST\n",
    "\n",
    "\n",
    "#  everyone you can submit the assignments in this form. MAke sure to have one GitHub link and put all the assignments there https://forms.gle/g8RZ4qx8yvNcih4B7    \n",
    "    "
   ]
  },
  {
   "cell_type": "code",
   "execution_count": null,
   "id": "9c4bbd1f",
   "metadata": {},
   "outputs": [],
   "source": []
  }
 ],
 "metadata": {
  "kernelspec": {
   "display_name": "Python 3",
   "language": "python",
   "name": "python3"
  },
  "language_info": {
   "codemirror_mode": {
    "name": "ipython",
    "version": 3
   },
   "file_extension": ".py",
   "mimetype": "text/x-python",
   "name": "python",
   "nbconvert_exporter": "python",
   "pygments_lexer": "ipython3",
   "version": "3.12.11"
  }
 },
 "nbformat": 4,
 "nbformat_minor": 5
}
