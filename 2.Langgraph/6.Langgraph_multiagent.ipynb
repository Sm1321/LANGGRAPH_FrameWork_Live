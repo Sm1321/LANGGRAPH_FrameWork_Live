{
 "cells": [
  {
   "cell_type": "code",
   "execution_count": 2,
   "id": "240781a2",
   "metadata": {},
   "outputs": [],
   "source": [
    "import os"
   ]
  },
  {
   "cell_type": "code",
   "execution_count": 3,
   "id": "c42d7fa7",
   "metadata": {},
   "outputs": [
    {
     "data": {
      "text/plain": [
       "True"
      ]
     },
     "execution_count": 3,
     "metadata": {},
     "output_type": "execute_result"
    }
   ],
   "source": [
    "from dotenv import load_dotenv\n",
    "load_dotenv()"
   ]
  },
  {
   "cell_type": "code",
   "execution_count": 4,
   "id": "aa4d6107",
   "metadata": {},
   "outputs": [],
   "source": [
    "import os\n",
    "os.environ[\"OPENAI_API_KEY\"]=os.getenv(\"OPENAI_API_KEY\")"
   ]
  },
  {
   "cell_type": "code",
   "execution_count": 5,
   "id": "4b1b65ea",
   "metadata": {},
   "outputs": [],
   "source": [
    "from langchain_openai import ChatOpenAI\n",
    "llm = ChatOpenAI()"
   ]
  },
  {
   "cell_type": "code",
   "execution_count": 6,
   "id": "c6c1e3b5",
   "metadata": {},
   "outputs": [
    {
     "data": {
      "text/plain": [
       "AIMessage(content='Hello! How can I help you today?', additional_kwargs={'refusal': None}, response_metadata={'token_usage': {'completion_tokens': 9, 'prompt_tokens': 9, 'total_tokens': 18, 'completion_tokens_details': {'accepted_prediction_tokens': 0, 'audio_tokens': 0, 'reasoning_tokens': 0, 'rejected_prediction_tokens': 0}, 'prompt_tokens_details': {'audio_tokens': 0, 'cached_tokens': 0}}, 'model_name': 'gpt-3.5-turbo-0125', 'system_fingerprint': None, 'id': 'chatcmpl-BpFM9fl3FYWEx7i41SGSxhk4MD2CQ', 'service_tier': 'default', 'finish_reason': 'stop', 'logprobs': None}, id='run--9613ebc4-41c5-44f5-985e-a05a06d21f02-0', usage_metadata={'input_tokens': 9, 'output_tokens': 9, 'total_tokens': 18, 'input_token_details': {'audio': 0, 'cache_read': 0}, 'output_token_details': {'audio': 0, 'reasoning': 0}})"
      ]
     },
     "execution_count": 6,
     "metadata": {},
     "output_type": "execute_result"
    }
   ],
   "source": [
    "llm.invoke(\"hello?\")"
   ]
  },
  {
   "cell_type": "code",
   "execution_count": 7,
   "id": "97bb5a25",
   "metadata": {},
   "outputs": [],
   "source": [
    "### \n",
    "from langgraph.types import Command"
   ]
  },
  {
   "cell_type": "code",
   "execution_count": 8,
   "id": "66a782fd",
   "metadata": {},
   "outputs": [],
   "source": [
    "### React Agent\n",
    "from langgraph.prebuilt import create_react_agent"
   ]
  },
  {
   "cell_type": "code",
   "execution_count": 9,
   "id": "5e4035fd",
   "metadata": {},
   "outputs": [],
   "source": [
    "# class AgentState(TypedDict):\n",
    "#     messages: Annotated[Sequence[BaseMessage], add_messages]\n",
    "#     Name:str\n",
    "#     age:int\n",
    "#     DOB:int"
   ]
  },
  {
   "cell_type": "code",
   "execution_count": 10,
   "id": "87825a94",
   "metadata": {},
   "outputs": [],
   "source": [
    "def add_number(state):\n",
    "    result = state[\"num1\"] + state[\"num2\"]\n",
    "    print(f\"Addition is:-  {result}\")\n",
    "    #working of Command\n",
    "    #Uisng these command we will switch in multiple agents\n",
    "    return Command(goto = \"multiply\",update = {\"sum\":result})\n"
   ]
  },
  {
   "cell_type": "code",
   "execution_count": 11,
   "id": "37407be8",
   "metadata": {},
   "outputs": [],
   "source": [
    "state = {\"num1\":10,\"num2\":20}"
   ]
  },
  {
   "cell_type": "code",
   "execution_count": 12,
   "id": "4077c1a4",
   "metadata": {},
   "outputs": [
    {
     "name": "stdout",
     "output_type": "stream",
     "text": [
      "Addition is:-  30\n"
     ]
    },
    {
     "data": {
      "text/plain": [
       "Command(update={'sum': 30}, goto='multiply')"
      ]
     },
     "execution_count": 12,
     "metadata": {},
     "output_type": "execute_result"
    }
   ],
   "source": [
    "add_number(state)"
   ]
  },
  {
   "cell_type": "markdown",
   "id": "ade1eb95",
   "metadata": {},
   "source": [
    "### Creating one dummy multiagent\n",
    "\n",
    "- it is for network/collab multiagent"
   ]
  },
  {
   "cell_type": "code",
   "execution_count": 13,
   "id": "c401933c",
   "metadata": {},
   "outputs": [],
   "source": [
    "from langchain_core.tools import tool"
   ]
  },
  {
   "cell_type": "code",
   "execution_count": 14,
   "id": "4395f921",
   "metadata": {},
   "outputs": [],
   "source": [
    "@tool\n",
    "def transfer_to_multiplication_expert():\n",
    "    \"\"\"Ask multiplication agent for help\"\"\"\n",
    "    return"
   ]
  },
  {
   "cell_type": "code",
   "execution_count": 15,
   "id": "42f542bc",
   "metadata": {},
   "outputs": [],
   "source": [
    "@tool\n",
    "def transfer_to_addition_expert():\n",
    "    \"\"\"Ask addition agent for help\"\"\"\n",
    "    return"
   ]
  },
  {
   "cell_type": "code",
   "execution_count": 16,
   "id": "2c0f9afa",
   "metadata": {},
   "outputs": [],
   "source": [
    "llm_with_tool = llm.bind_tools([transfer_to_addition_expert])"
   ]
  },
  {
   "cell_type": "code",
   "execution_count": 17,
   "id": "54ec411e",
   "metadata": {},
   "outputs": [],
   "source": [
    "response = llm_with_tool.invoke(\"hi\")"
   ]
  },
  {
   "cell_type": "code",
   "execution_count": 18,
   "id": "e1a1f38c",
   "metadata": {},
   "outputs": [
    {
     "data": {
      "text/plain": [
       "'Hello! How can I assist you today?'"
      ]
     },
     "execution_count": 18,
     "metadata": {},
     "output_type": "execute_result"
    }
   ],
   "source": [
    "response.content"
   ]
  },
  {
   "cell_type": "code",
   "execution_count": 19,
   "id": "14a1f98c",
   "metadata": {},
   "outputs": [
    {
     "data": {
      "text/plain": [
       "[]"
      ]
     },
     "execution_count": 19,
     "metadata": {},
     "output_type": "execute_result"
    }
   ],
   "source": [
    "response.tool_calls"
   ]
  },
  {
   "cell_type": "code",
   "execution_count": 20,
   "id": "7f50a6a9",
   "metadata": {},
   "outputs": [],
   "source": [
    "system_prompt = (\n",
    "        \"You are an addition expert, you can ask the multiplication expert for help with multiplication.\"\n",
    "        \"Always do your portion of calculation before the handoff.\"\n",
    "    )\n"
   ]
  },
  {
   "cell_type": "code",
   "execution_count": 21,
   "id": "6c1148d7",
   "metadata": {},
   "outputs": [],
   "source": [
    "response = llm_with_tool.invoke(\"What is 2 multiply 2?\")"
   ]
  },
  {
   "cell_type": "code",
   "execution_count": 22,
   "id": "ae50c015",
   "metadata": {},
   "outputs": [
    {
     "data": {
      "text/plain": [
       "''"
      ]
     },
     "execution_count": 22,
     "metadata": {},
     "output_type": "execute_result"
    }
   ],
   "source": [
    "response.content"
   ]
  },
  {
   "cell_type": "code",
   "execution_count": 23,
   "id": "b8b75d68",
   "metadata": {},
   "outputs": [
    {
     "data": {
      "text/plain": [
       "[{'name': 'transfer_to_addition_expert',\n",
       "  'args': {},\n",
       "  'id': 'call_yIWdT3ufT05XoKvZeeobxvRc',\n",
       "  'type': 'tool_call'}]"
      ]
     },
     "execution_count": 23,
     "metadata": {},
     "output_type": "execute_result"
    }
   ],
   "source": [
    "response.tool_calls"
   ]
  },
  {
   "cell_type": "code",
   "execution_count": 24,
   "id": "7d599f82",
   "metadata": {},
   "outputs": [],
   "source": [
    "from typing_extensions import Literal \n",
    "from langgraph.graph import MessagesState,StateGraph,START,END"
   ]
  },
  {
   "cell_type": "code",
   "execution_count": 25,
   "id": "b6a0679f",
   "metadata": {},
   "outputs": [],
   "source": [
    "##Agent1\n",
    "def additional_expert(state:MessagesState) -> Command[Literal[\"multiplication_expert\",\"__end__\"]]:\n",
    "    system_prompt = (\n",
    "        \"You are an addition expert, you can ask the multiplication expert for help with multiplication.\"\n",
    "        \"Always do your portion of calculation before the handoff.\"\n",
    "    )\n",
    "\n",
    "    messages = [{\"role\": \"system\", \"content\": system_prompt}] + state[\"messages\"]\n",
    "        \n",
    "    ai_msg = llm.bind_tools([transfer_to_multiplication_expert]).invoke(messages)\n",
    "\n",
    "    if len(ai_msg.tool_calls) > 0:\n",
    "        tool_call_id = ai_msg.tool_calls[-1][\"id\"]\n",
    "        tool_msg = {\n",
    "            \"role\": \"tool\",\n",
    "            \"content\": \"Successfully transferred\",\n",
    "            \"tool_call_id\": tool_call_id,\n",
    "        }\n",
    "        \n",
    "        return Command(\n",
    "            goto=\"multiplication_expert\", update={\"messages\": [ai_msg, tool_msg]}\n",
    "            )\n",
    "    \n",
    "    return {\"messages\": [ai_msg]}\n",
    "  "
   ]
  },
  {
   "cell_type": "code",
   "execution_count": 26,
   "id": "65c0ed65",
   "metadata": {},
   "outputs": [],
   "source": [
    "##Agent2\n",
    "def multiplication_expert(state:MessagesState)-> Command[Literal[\"additional_expert\", \"__end__\"]]:\n",
    "    \n",
    "    system_prompt = (\n",
    "        \"You are a multiplication expert, you can ask an addition expert for help with addition. \"\n",
    "        \"Always do your portion of calculation before the handoff.\"\n",
    "    )\n",
    "    \n",
    "    messages = [{\"role\": \"system\", \"content\": system_prompt}] + state[\"messages\"]\n",
    "    \n",
    "    ai_msg = llm.bind_tools([transfer_to_addition_expert]).invoke(messages)\n",
    "    \n",
    "    if len(ai_msg.tool_calls) > 0:\n",
    "        tool_call_id = ai_msg.tool_calls[-1][\"id\"]\n",
    "        tool_msg = {\n",
    "            \"role\": \"tool\",\n",
    "            \"content\": \"Successfully transferred\",\n",
    "            \"tool_call_id\": tool_call_id,\n",
    "        }\n",
    "        return Command(goto=\"additional_expert\", update={\"messages\": [ai_msg, tool_msg]})\n",
    "    return {\"messages\": [ai_msg]}"
   ]
  },
  {
   "cell_type": "code",
   "execution_count": 27,
   "id": "3d485fbc",
   "metadata": {},
   "outputs": [
    {
     "data": {
      "text/plain": [
       "<langgraph.graph.state.StateGraph at 0x27993e0afc0>"
      ]
     },
     "execution_count": 27,
     "metadata": {},
     "output_type": "execute_result"
    }
   ],
   "source": [
    "### State Graph\n",
    "graph = StateGraph(MessagesState)\n",
    "##Add the Node\n",
    "graph.add_node(\"additional_expert\",additional_expert)\n",
    "graph.add_node(\"multiplication_expert\",multiplication_expert)\n",
    "###Add Edges\n",
    "graph.add_edge(START, \"additional_expert\")\n"
   ]
  },
  {
   "cell_type": "code",
   "execution_count": 28,
   "id": "eb43fcab",
   "metadata": {},
   "outputs": [],
   "source": [
    "#compile the Graph\n",
    "app = graph.compile()"
   ]
  },
  {
   "cell_type": "code",
   "execution_count": 29,
   "id": "18e31a4a",
   "metadata": {},
   "outputs": [
    {
     "data": {
      "text/plain": [
       "{'messages': [HumanMessage(content=\"what's (3 + 5) * 12. Provide me the output\", additional_kwargs={}, response_metadata={}, id='a48d87e7-9779-457b-90ca-4e6433df6094'),\n",
       "  AIMessage(content='', additional_kwargs={'tool_calls': [{'id': 'call_H0X6pUDHHLHZoFn2R9c3TeI3', 'function': {'arguments': '{}', 'name': 'transfer_to_multiplication_expert'}, 'type': 'function'}], 'refusal': None}, response_metadata={'token_usage': {'completion_tokens': 14, 'prompt_tokens': 86, 'total_tokens': 100, 'completion_tokens_details': {'accepted_prediction_tokens': 0, 'audio_tokens': 0, 'reasoning_tokens': 0, 'rejected_prediction_tokens': 0}, 'prompt_tokens_details': {'audio_tokens': 0, 'cached_tokens': 0}}, 'model_name': 'gpt-3.5-turbo-0125', 'system_fingerprint': None, 'id': 'chatcmpl-BpFMEYCSospCvsfQDcDZOfnxkKvVz', 'service_tier': 'default', 'finish_reason': 'tool_calls', 'logprobs': None}, id='run--348a57cf-c890-451a-8bcc-24c4dd0d4463-0', tool_calls=[{'name': 'transfer_to_multiplication_expert', 'args': {}, 'id': 'call_H0X6pUDHHLHZoFn2R9c3TeI3', 'type': 'tool_call'}], usage_metadata={'input_tokens': 86, 'output_tokens': 14, 'total_tokens': 100, 'input_token_details': {'audio': 0, 'cache_read': 0}, 'output_token_details': {'audio': 0, 'reasoning': 0}}),\n",
       "  ToolMessage(content='Successfully transferred', id='794c0938-6e68-42a1-81e0-9442b74e6d6a', tool_call_id='call_H0X6pUDHHLHZoFn2R9c3TeI3'),\n",
       "  AIMessage(content='I have transferred the calculations to the multiplication expert.', additional_kwargs={'refusal': None}, response_metadata={'token_usage': {'completion_tokens': 11, 'prompt_tokens': 114, 'total_tokens': 125, 'completion_tokens_details': {'accepted_prediction_tokens': 0, 'audio_tokens': 0, 'reasoning_tokens': 0, 'rejected_prediction_tokens': 0}, 'prompt_tokens_details': {'audio_tokens': 0, 'cached_tokens': 0}}, 'model_name': 'gpt-3.5-turbo-0125', 'system_fingerprint': None, 'id': 'chatcmpl-BpFMFKPYVL1w0HzuF9GOlDjC0WE9k', 'service_tier': 'default', 'finish_reason': 'stop', 'logprobs': None}, id='run--676b4d98-0ccc-45b3-b734-4d6cfb1e9d68-0', usage_metadata={'input_tokens': 114, 'output_tokens': 11, 'total_tokens': 125, 'input_token_details': {'audio': 0, 'cache_read': 0}, 'output_token_details': {'audio': 0, 'reasoning': 0}})]}"
      ]
     },
     "execution_count": 29,
     "metadata": {},
     "output_type": "execute_result"
    }
   ],
   "source": [
    "app.invoke({\"messages\":[(\"user\",\"what's (3 + 5) * 12. Provide me the output\")]})"
   ]
  },
  {
   "cell_type": "code",
   "execution_count": 30,
   "id": "43982406",
   "metadata": {},
   "outputs": [
    {
     "name": "stdout",
     "output_type": "stream",
     "text": [
      "here is output from additional_expert\n",
      "----------------------------------------\n",
      "additional_expert <----here is key \n",
      "\n",
      "{'messages': [AIMessage(content='', additional_kwargs={'tool_calls': [{'id': 'call_DY58kRgofgNM16v5u6Fjdw1b', 'function': {'arguments': '{}', 'name': 'transfer_to_multiplication_expert'}, 'type': 'function'}], 'refusal': None}, response_metadata={'token_usage': {'completion_tokens': 14, 'prompt_tokens': 86, 'total_tokens': 100, 'completion_tokens_details': {'accepted_prediction_tokens': 0, 'audio_tokens': 0, 'reasoning_tokens': 0, 'rejected_prediction_tokens': 0}, 'prompt_tokens_details': {'audio_tokens': 0, 'cached_tokens': 0}}, 'model_name': 'gpt-3.5-turbo-0125', 'system_fingerprint': None, 'id': 'chatcmpl-BpFMH8yncDOQtPaPhzAmErGVg34k4', 'service_tier': 'default', 'finish_reason': 'tool_calls', 'logprobs': None}, id='run--0ea078a9-8b3f-4ee5-bde3-356d3441e20e-0', tool_calls=[{'name': 'transfer_to_multiplication_expert', 'args': {}, 'id': 'call_DY58kRgofgNM16v5u6Fjdw1b', 'type': 'tool_call'}], usage_metadata={'input_tokens': 86, 'output_tokens': 14, 'total_tokens': 100, 'input_token_details': {'audio': 0, 'cache_read': 0}, 'output_token_details': {'audio': 0, 'reasoning': 0}}), {'role': 'tool', 'content': 'Successfully transferred', 'tool_call_id': 'call_DY58kRgofgNM16v5u6Fjdw1b'}]}\n",
      "\n",
      "\n",
      "here is output from multiplication_expert\n",
      "----------------------------------------\n",
      "multiplication_expert <----here is key \n",
      "\n",
      "{'messages': [AIMessage(content='I have transferred the calculation to the multiplication expert.', additional_kwargs={'refusal': None}, response_metadata={'token_usage': {'completion_tokens': 11, 'prompt_tokens': 114, 'total_tokens': 125, 'completion_tokens_details': {'accepted_prediction_tokens': 0, 'audio_tokens': 0, 'reasoning_tokens': 0, 'rejected_prediction_tokens': 0}, 'prompt_tokens_details': {'audio_tokens': 0, 'cached_tokens': 0}}, 'model_name': 'gpt-3.5-turbo-0125', 'system_fingerprint': None, 'id': 'chatcmpl-BpFMIMPCSt4x1GjbMzYQqmLf3BXgV', 'service_tier': 'default', 'finish_reason': 'stop', 'logprobs': None}, id='run--aefc67a4-4b6e-4d64-9431-3a5d932937b3-0', usage_metadata={'input_tokens': 114, 'output_tokens': 11, 'total_tokens': 125, 'input_token_details': {'audio': 0, 'cache_read': 0}, 'output_token_details': {'audio': 0, 'reasoning': 0}})]}\n",
      "\n",
      "\n"
     ]
    }
   ],
   "source": [
    "for output in app.stream({\"messages\":[(\"user\",\"what's (3 + 5) * 12. Provide me the output\")]}):\n",
    "    for key,value in output.items():\n",
    "        print(f\"here is output from {key}\")\n",
    "        print(\"----\"*10)\n",
    "        print(key,\"<----here is key \\n\")\n",
    "        print(value)\n",
    "        print(\"\\n\")"
   ]
  },
  {
   "cell_type": "code",
   "execution_count": 31,
   "id": "02f3c9c2",
   "metadata": {},
   "outputs": [
    {
     "data": {
      "text/plain": [
       "{'messages': [HumanMessage(content=\"what's  1 * (10 +3). Provide me the output\", additional_kwargs={}, response_metadata={}, id='96b8c381-1c73-4d41-be3f-36adc0717916'),\n",
       "  AIMessage(content='', additional_kwargs={'tool_calls': [{'id': 'call_G50XimL0Um5d4XE1fxOfwubA', 'function': {'arguments': '{}', 'name': 'transfer_to_multiplication_expert'}, 'type': 'function'}], 'refusal': None}, response_metadata={'token_usage': {'completion_tokens': 14, 'prompt_tokens': 85, 'total_tokens': 99, 'completion_tokens_details': {'accepted_prediction_tokens': 0, 'audio_tokens': 0, 'reasoning_tokens': 0, 'rejected_prediction_tokens': 0}, 'prompt_tokens_details': {'audio_tokens': 0, 'cached_tokens': 0}}, 'model_name': 'gpt-3.5-turbo-0125', 'system_fingerprint': None, 'id': 'chatcmpl-BpFMJm7Q4boQaAAMcCphpbUMoLWJa', 'service_tier': 'default', 'finish_reason': 'tool_calls', 'logprobs': None}, id='run--a488a95d-6107-4ec6-b568-93e2ca28535c-0', tool_calls=[{'name': 'transfer_to_multiplication_expert', 'args': {}, 'id': 'call_G50XimL0Um5d4XE1fxOfwubA', 'type': 'tool_call'}], usage_metadata={'input_tokens': 85, 'output_tokens': 14, 'total_tokens': 99, 'input_token_details': {'audio': 0, 'cache_read': 0}, 'output_token_details': {'audio': 0, 'reasoning': 0}}),\n",
       "  ToolMessage(content='Successfully transferred', id='84ee9944-2eda-4ce6-8c54-c2c7bd4a3b1c', tool_call_id='call_G50XimL0Um5d4XE1fxOfwubA'),\n",
       "  AIMessage(content='I have calculated the addition part to be 13. Now, I will calculate the multiplication part.\\n\\n1 * 13 = 13\\n\\nTherefore, the output is 13.', additional_kwargs={'refusal': None}, response_metadata={'token_usage': {'completion_tokens': 37, 'prompt_tokens': 113, 'total_tokens': 150, 'completion_tokens_details': {'accepted_prediction_tokens': 0, 'audio_tokens': 0, 'reasoning_tokens': 0, 'rejected_prediction_tokens': 0}, 'prompt_tokens_details': {'audio_tokens': 0, 'cached_tokens': 0}}, 'model_name': 'gpt-3.5-turbo-0125', 'system_fingerprint': None, 'id': 'chatcmpl-BpFMKPeCpQhIxm3lRO1tulTzBc9jF', 'service_tier': 'default', 'finish_reason': 'stop', 'logprobs': None}, id='run--1b764d2b-4e2a-49a9-b869-a578ad80e18d-0', usage_metadata={'input_tokens': 113, 'output_tokens': 37, 'total_tokens': 150, 'input_token_details': {'audio': 0, 'cache_read': 0}, 'output_token_details': {'audio': 0, 'reasoning': 0}})]}"
      ]
     },
     "execution_count": 31,
     "metadata": {},
     "output_type": "execute_result"
    }
   ],
   "source": [
    "app.invoke({\"messages\":[(\"user\",\"what's  1 * (10 +3). Provide me the output\")]})"
   ]
  },
  {
   "cell_type": "code",
   "execution_count": null,
   "id": "d6fca6b8",
   "metadata": {},
   "outputs": [
    {
     "name": "stdout",
     "output_type": "stream",
     "text": [
      "here is output from additional_expert\n",
      "----------------------------------------\n",
      "additional_expert <----here is key \n",
      "\n",
      "{'messages': [AIMessage(content='', additional_kwargs={'tool_calls': [{'id': 'call_M0bJyeTa7qdWXYnLadD2ijrO', 'function': {'arguments': '{}', 'name': 'transfer_to_multiplication_expert'}, 'type': 'function'}], 'refusal': None}, response_metadata={'token_usage': {'completion_tokens': 14, 'prompt_tokens': 85, 'total_tokens': 99, 'completion_tokens_details': {'accepted_prediction_tokens': 0, 'audio_tokens': 0, 'reasoning_tokens': 0, 'rejected_prediction_tokens': 0}, 'prompt_tokens_details': {'audio_tokens': 0, 'cached_tokens': 0}}, 'model_name': 'gpt-3.5-turbo-0125', 'system_fingerprint': None, 'id': 'chatcmpl-BpFMM3VXs69CEkoBYm9Nn4d3kCixN', 'service_tier': 'default', 'finish_reason': 'tool_calls', 'logprobs': None}, id='run--4ca84742-68a6-410a-ae27-426881ac2b64-0', tool_calls=[{'name': 'transfer_to_multiplication_expert', 'args': {}, 'id': 'call_M0bJyeTa7qdWXYnLadD2ijrO', 'type': 'tool_call'}], usage_metadata={'input_tokens': 85, 'output_tokens': 14, 'total_tokens': 99, 'input_token_details': {'audio': 0, 'cache_read': 0}, 'output_token_details': {'audio': 0, 'reasoning': 0}}), {'role': 'tool', 'content': 'Successfully transferred', 'tool_call_id': 'call_M0bJyeTa7qdWXYnLadD2ijrO'}]}\n",
      "\n",
      "\n"
     ]
    }
   ],
   "source": [
    "for output in app.stream({\"messages\":[(\"user\",\"what's  1 * (10 +3). Provide me the output\")]}):\n",
    "    for key,value in output.items():\n",
    "        print(f\"here is output from {key}\")\n",
    "        print(\"----\"*10)\n",
    "        print(key,\"<----here is key \\n\")\n",
    "        print(value)\n",
    "        print(\"\\n\")"
   ]
  },
  {
   "cell_type": "code",
   "execution_count": null,
   "id": "db7bbc55",
   "metadata": {},
   "outputs": [
    {
     "data": {
      "image/png": "[encoded data removed]",
      "text/plain": [
       "<IPython.core.display.Image object>"
      ]
     },
     "metadata": {},
     "output_type": "display_data"
    }
   ],
   "source": [
    "from IPython.display import Image, display\n",
    "display(Image(app.get_graph().draw_mermaid_png()))"
   ]
  },
  {
   "cell_type": "markdown",
   "id": "1c6ebe2b",
   "metadata": {},
   "source": [
    "## With realtime tool"
   ]
  },
  {
   "cell_type": "code",
   "execution_count": null,
   "id": "9eaee17a",
   "metadata": {},
   "outputs": [],
   "source": [
    "from langchain_community.tools import DuckDuckGoSearchRun\n"
   ]
  },
  {
   "cell_type": "code",
   "execution_count": null,
   "id": "e547aaad",
   "metadata": {},
   "outputs": [],
   "source": [
    "# search_tool=DuckDuckGoSearchRun()\n",
    "\n",
    "import os\n",
    "from langchain_community.tools.tavily_search import TavilySearchResults\n",
    "TAVILY_API_KEY=os.getenv(\"TAVILY_API_KEY\")\n",
    "search_tool=TavilySearchResults(tavily_api_key=TAVILY_API_KEY)"
   ]
  },
  {
   "cell_type": "code",
   "execution_count": null,
   "id": "afac318d",
   "metadata": {},
   "outputs": [
    {
     "data": {
      "text/plain": [
       "[{'title': 'List of prime ministers of the United Kingdom - Wikipedia',\n",
       "  'url': 'https://en.wikipedia.org/wiki/List_of_prime_ministers_of_the_United_Kingdom',\n",
       "  'content': 'The current prime minister is Keir Starmer, who assumed the office on 5 July 2024.\\n\\n## Before the Kingdom of Great Britain [...] |  | photograph.jpg \"photograph\") | Keir Starmer   MP for Holborn and St Pancras \"Holborn and St Pancras (UK Parliament constituency)\")  (born 1962)  Premiership | 5 July 2024 | Incumbent | 362 days | 2024 |  First Lord of the Treasury  Minister for the Civil Service  Minister for the Union | Labour \"Labour Party (UK)\") | Starmer | [...] |  | photograph.jpg \"photograph\") | David Cameron   MP for Witney \"Witney (UK Parliament constituency)\")  (born 1966)  Premiership | 11 May 2010 | 13 July 2016 | 6 years, 64 days | (2010) |  First Lord of the Treasury  Minister for the Civil Service | Conservative \"Conservative Party (UK)\") | Cameron–Clegg (Con \"Conservative Party (UK)\")–Lib.Dem \"Liberal Democrats (UK)\")) |\\n| 2015 | Cameron II |',\n",
       "  'score': 0.8684817},\n",
       " {'title': 'List of prime ministers of the United Kingdom - Simple English ...',\n",
       "  'url': 'https://simple.wikipedia.org/wiki/List_of_Prime_Ministers_of_the_United_Kingdom',\n",
       "  'content': 'Wikipedia\\nThe Free Encyclopedia\\n\\n## Contents\\n\\n# List of prime ministers of the United Kingdom\\n\\nThe Prime Minister of the United Kingdom is the leader of His Majesty\\'s Government. They chair Cabinet meetings. It is the highest civil office in the United Kingdom.[source?] The present prime minister has been Keir Starmer since 5 July 2024.\\n\\n## The procedure [...] | Name | Time in office | Political party |\\n| --- | --- | --- |\\n| Keir Starmer | 2024 - present | Labour \"Labour Party (UK)\") |\\n| Rishi Sunak | 2022 – 2024 | Conservative \"Conservative Party (UK)\") |\\n| Liz Truss | 2022 | Conservative |\\n| Boris Johnson | 2019 – 2022 | Conservative |\\n| Theresa May | 2016 – 2019 | Conservative |\\n| David Cameron | 2010 – 2016 | Conservative |\\n| Gordon Brown | 2007 – 2010 | Labour |\\n| Tony Blair | 1997 – 2007 | Labour |\\n| John Major | 1990 – 1997 | Conservative |',\n",
       "  'score': 0.8573986},\n",
       " {'title': 'Prime Minister - GOV.UK',\n",
       "  'url': 'https://www.gov.uk/government/ministers/prime-minister',\n",
       "  'content': 'The Prime Minister is the leader of His Majesty’s Government and is ultimately responsible for the policy and decisions of the government.\\n\\nAs leader of the UK government the Prime Minister also:\\n\\n## Current role holder\\n\\n### The Rt Hon Sir Keir Starmer KCB KC MP\\n\\nSir Keir Starmer became Prime Minister on 5 July 2024.\\n\\n## Education',\n",
       "  'score': 0.8235701},\n",
       " {'title': 'Keir Starmer sworn in as Prime Minister of the United Kingdom',\n",
       "  'url': 'https://utkarsh.com/current-affairs/keir-starmer-appointed-58th-prime-minister-of-the-united-kingdom',\n",
       "  'content': \"Sir Keir Starmer has been appointed as the new Prime Minister of the United Kingdom by Monarch King Charles III on 5 July 2024 at Buckingham Palace in London. Sir Keir Starmer is the 58th Prime Minister of the United Kingdom. Buckingham Palace is the official residence and office of the United Kingdom monarch. Sir Keir Starmer's Labour Party won a landslide victory in the recently held\",\n",
       "  'score': 0.8190992},\n",
       " {'title': \"Keir Starmer becomes Britain's new PM in historic UK election\",\n",
       "  'url': 'https://thehill.com/policy/international/4756251-keir-starmer-britain-prime-minister-uk-election-labour/',\n",
       "  'content': \"Sir Keir Starmer has become the U.K.'s new prime minister after the Labour Party secured a historic election victory, ending 14 years of Conservative government.\",\n",
       "  'score': 0.7882741}]"
      ]
     },
     "execution_count": 44,
     "metadata": {},
     "output_type": "execute_result"
    }
   ],
   "source": [
    "search_tool.invoke(\"who is a current pm of uk?\")"
   ]
  },
  {
   "cell_type": "code",
   "execution_count": null,
   "id": "364a4361",
   "metadata": {},
   "outputs": [],
   "source": [
    "! pip install langchain_experimental -q"
   ]
  },
  {
   "cell_type": "code",
   "execution_count": null,
   "id": "887bb44c",
   "metadata": {},
   "outputs": [],
   "source": [
    "from langchain_experimental.utilities import PythonREPL"
   ]
  },
  {
   "cell_type": "code",
   "execution_count": null,
   "id": "a3eb661a",
   "metadata": {},
   "outputs": [],
   "source": [
    "repl = PythonREPL()"
   ]
  },
  {
   "cell_type": "code",
   "execution_count": null,
   "id": "1890a6b5",
   "metadata": {},
   "outputs": [],
   "source": [
    "code = \"\"\"\n",
    "x = 5\n",
    "y = x * 2\n",
    "print(y)\n",
    "\"\"\""
   ]
  },
  {
   "cell_type": "code",
   "execution_count": null,
   "id": "afb0eaa4",
   "metadata": {},
   "outputs": [],
   "source": [
    "# repl.invoke() ##this is not a tool"
   ]
  },
  {
   "cell_type": "code",
   "execution_count": null,
   "id": "25b9bec9",
   "metadata": {},
   "outputs": [],
   "source": [
    "from typing import Annotated"
   ]
  },
  {
   "cell_type": "code",
   "execution_count": null,
   "id": "396dd817",
   "metadata": {},
   "outputs": [
    {
     "name": "stderr",
     "output_type": "stream",
     "text": [
      "<>:13: SyntaxWarning: invalid escape sequence '\\`'\n",
      "<>:13: SyntaxWarning: invalid escape sequence '\\`'\n",
      "<>:13: SyntaxWarning: invalid escape sequence '\\`'\n",
      "<>:13: SyntaxWarning: invalid escape sequence '\\`'\n",
      "C:\\Users\\Mohan\\AppData\\Local\\Temp\\ipykernel_15708\\1459227625.py:13: SyntaxWarning: invalid escape sequence '\\`'\n",
      "  result_str = f\"Successfully executed:\\n\\`\\`\\`python\\n{code}\\n\\`\\`\\`\\nStdout: {result}\"\n",
      "C:\\Users\\Mohan\\AppData\\Local\\Temp\\ipykernel_15708\\1459227625.py:13: SyntaxWarning: invalid escape sequence '\\`'\n",
      "  result_str = f\"Successfully executed:\\n\\`\\`\\`python\\n{code}\\n\\`\\`\\`\\nStdout: {result}\"\n"
     ]
    }
   ],
   "source": [
    "@tool\n",
    "def python_repl_tool(\n",
    "    code: Annotated[str, \"The python code to execute to generate your chart.\"],\n",
    "):\n",
    "    \"\"\"Use this to execute python code. If you want to see the output of a value,\n",
    "    you should print it out with `print(...)`. This is visible to the user.\"\"\"\n",
    "    \n",
    "    try:\n",
    "        result = repl.run(code)\n",
    "    except BaseException as e:\n",
    "        return f\"Failed to execute. Error: {repr(e)}\"\n",
    "    \n",
    "    result_str = f\"Successfully executed:\\n\\`\\`\\`python\\n{code}\\n\\`\\`\\`\\nStdout: {result}\"\n",
    "    \n",
    "    return (\n",
    "        result_str + \"\\n\\nIf you have completed all tasks, respond with FINAL ANSWER.\"\n",
    "    )\n",
    "    "
   ]
  },
  {
   "cell_type": "code",
   "execution_count": null,
   "id": "8edfcd89",
   "metadata": {},
   "outputs": [
    {
     "data": {
      "text/plain": [
       "StructuredTool(name='python_repl_tool', description='Use this to execute python code. If you want to see the output of a value,\\n    you should print it out with `print(...)`. This is visible to the user.', args_schema=<class 'langchain_core.utils.pydantic.python_repl_tool'>, func=<function python_repl_tool at 0x0000020A9F4F6200>)"
      ]
     },
     "execution_count": 56,
     "metadata": {},
     "output_type": "execute_result"
    }
   ],
   "source": [
    "python_repl_tool"
   ]
  },
  {
   "cell_type": "code",
   "execution_count": null,
   "id": "f06fadc2",
   "metadata": {},
   "outputs": [
    {
     "name": "stderr",
     "output_type": "stream",
     "text": [
      "Python REPL can execute arbitrary code. Use with caution.\n"
     ]
    },
    {
     "name": "stdout",
     "output_type": "stream",
     "text": [
      "Successfully executed:\n",
      "\\`\\`\\`python\n",
      "\n",
      "x = 5\n",
      "y = x * 2\n",
      "print(y)\n",
      "\n",
      "\\`\\`\\`\n",
      "Stdout: 10\n",
      "\n",
      "\n",
      "If you have completed all tasks, respond with FINAL ANSWER.\n"
     ]
    }
   ],
   "source": [
    "print(python_repl_tool.invoke(code))"
   ]
  },
  {
   "cell_type": "code",
   "execution_count": null,
   "id": "ac0882f7",
   "metadata": {},
   "outputs": [
    {
     "name": "stdout",
     "output_type": "stream",
     "text": [
      "Successfully executed:\n",
      "\\`\\`\\`python\n",
      "\n",
      "x = 5\n",
      "y = x * 2\n",
      "print(y)\n",
      "\n",
      "\\`\\`\\`\n",
      "Stdout: 10\n",
      "\n",
      "\n",
      "If you have completed all tasks, respond with FINAL ANSWER.\n"
     ]
    }
   ],
   "source": [
    "print(python_repl_tool.invoke(code))"
   ]
  },
  {
   "cell_type": "code",
   "execution_count": null,
   "id": "66e58b3c",
   "metadata": {},
   "outputs": [],
   "source": [
    "def make_system_prompt(instruction:str)->str:\n",
    "    return  (\n",
    "        \"You are a helpful AI assistant, collaborating with other assistants.\"\n",
    "        \" Use the provided tools to progress towards answering the question.\"\n",
    "        \" If you are unable to fully answer, that's OK, another assistant with different tools \"\n",
    "        \" will help where you left off. Execute what you can to make progress.\"\n",
    "        \" If you or any of the other assistants have the final answer or deliverable,\"\n",
    "        \" prefix your response with FINAL ANSWER so the team knows to stop.\"\n",
    "        f\"\\n{instruction}\"\n",
    "    )"
   ]
  },
  {
   "cell_type": "code",
   "execution_count": null,
   "id": "69724e7d",
   "metadata": {},
   "outputs": [
    {
     "data": {
      "text/plain": [
       "\"You are a helpful AI assistant, collaborating with other assistants. Use the provided tools to progress towards answering the question. If you are unable to fully answer, that's OK, another assistant with different tools  will help where you left off. Execute what you can to make progress. If you or any of the other assistants have the final answer or deliverable, prefix your response with FINAL ANSWER so the team knows to stop.\\nYou can only do research. You are working with a chart generator colleague.\""
      ]
     },
     "execution_count": 79,
     "metadata": {},
     "output_type": "execute_result"
    }
   ],
   "source": [
    "make_system_prompt(\"You can only do research. You are working with a chart generator colleague.\")"
   ]
  },
  {
   "cell_type": "code",
   "execution_count": null,
   "id": "f093d4bb",
   "metadata": {},
   "outputs": [],
   "source": [
    "from langchain_core.messages import BaseMessage, HumanMessage"
   ]
  },
  {
   "cell_type": "code",
   "execution_count": null,
   "id": "5a07b79d",
   "metadata": {},
   "outputs": [],
   "source": [
    "def get_next_node(last_message:BaseMessage, goto:str):\n",
    "    if \"FINAL ANSWER\" in last_message.content:\n",
    "        # Any agent decided the work is done\n",
    "        return END\n",
    "    return goto"
   ]
  },
  {
   "cell_type": "code",
   "execution_count": null,
   "id": "32451927",
   "metadata": {},
   "outputs": [
    {
     "ename": "NameError",
     "evalue": "name 'MessagesState' is not defined",
     "output_type": "error",
     "traceback": [
      "\u001b[31m---------------------------------------------------------------------------\u001b[39m",
      "\u001b[31mNameError\u001b[39m                                 Traceback (most recent call last)",
      "\u001b[36mCell\u001b[39m\u001b[36m \u001b[39m\u001b[32mIn[1]\u001b[39m\u001b[32m, line 2\u001b[39m\n\u001b[32m      1\u001b[39m \u001b[38;5;66;03m###Agent1\u001b[39;00m\n\u001b[32m----> \u001b[39m\u001b[32m2\u001b[39m \u001b[38;5;28;01mdef\u001b[39;00m\u001b[38;5;250m \u001b[39m\u001b[34mresearch_node\u001b[39m(state:\u001b[43mMessagesState\u001b[49m)->Command[Literal[\u001b[33m\"\u001b[39m\u001b[33mchart_generator\u001b[39m\u001b[33m\"\u001b[39m, END]]:\n\u001b[32m      3\u001b[39m     research_agent=create_react_agent(\n\u001b[32m      4\u001b[39m         llm,\n\u001b[32m      5\u001b[39m         tools=[search_tool],\n\u001b[32m   (...)\u001b[39m\u001b[32m      8\u001b[39m     ), \n\u001b[32m      9\u001b[39m     )\n\u001b[32m     11\u001b[39m     result = research_agent.invoke(state)\n",
      "\u001b[31mNameError\u001b[39m: name 'MessagesState' is not defined"
     ]
    }
   ],
   "source": [
    "###Agent1\n",
    "def research_node(state:MessagesState)->Command[Literal[\"chart_generator\", END]]:\n",
    "    research_agent=create_react_agent(\n",
    "        llm,\n",
    "        tools=[search_tool],\n",
    "        prompt = make_system_prompt(\n",
    "        \"You can only do research. You are working with a chart generator colleague.\"\n",
    "    ), \n",
    "    )\n",
    "    \n",
    "    result = research_agent.invoke(state)\n",
    "    \n",
    "    # result = [messages:{humanmesssage\n",
    "    #                 aimessgae\n",
    "    #                 toolmessage\n",
    "    #                 aimessage\n",
    "    #                 toolmessage\n",
    "    #                 aimessage}\n",
    "    #                 ]\n",
    "    \n",
    "    goto = get_next_node(result[\"messages\"][-1],\"chart_generator\")\n",
    "    \n",
    "    result[\"messages\"][-1] = HumanMessage(content=result[\"messages\"][-1].content, name=\"researcher\")\n",
    "    \n",
    "    return Command(update={\"messages\": result[\"messages\"]},goto=goto)"
   ]
  },
  {
   "cell_type": "code",
   "execution_count": null,
   "id": "68c91997",
   "metadata": {},
   "outputs": [],
   "source": [
    "## agent1(human1)-->agent2(human2)"
   ]
  },
  {
   "cell_type": "code",
   "execution_count": null,
   "id": "d26e332d",
   "metadata": {},
   "outputs": [],
   "source": [
    "###Agent2\n",
    "def chart_node(state:MessagesState)-> Command[Literal[\"researcher\", END]]:\n",
    "    chart_agent = create_react_agent(\n",
    "        llm,\n",
    "        tools = [python_repl_tool],\n",
    "        prompt = make_system_prompt(\n",
    "        \"You can only generate charts. You are working with a researcher colleague.\"\n",
    "    ),\n",
    "        )\n",
    "    result = chart_agent.invoke(state)\n",
    "    goto = get_next_node(result[\"messages\"][-1],\"researcher\")\n",
    "    result[\"messages\"][-1] = HumanMessage(content = result[\"messages\"][-1].content, name=\"chart_generator\")\n",
    "    return Command(update={\"messages\": result[\"messages\"]},goto=goto)"
   ]
  },
  {
   "cell_type": "code",
   "execution_count": null,
   "id": "ff3d8063",
   "metadata": {},
   "outputs": [],
   "source": [
    "### Workflow\n",
    "workflow = StateGraph(MessagesState)\n",
    "workflow.add_node(\"researcher\", research_node)\n",
    "workflow.add_node(\"chart_generator\", chart_node)\n",
    "\n",
    "workflow.add_edge(START, \"researcher\")\n",
    "#compile\n",
    "app = workflow.compile()"
   ]
  },
  {
   "cell_type": "code",
   "execution_count": null,
   "id": "d94880dd",
   "metadata": {},
   "outputs": [
    {
     "data": {
      "image/png": "[encoded data removed]",
      "text/plain": [
       "<langgraph.graph.state.CompiledStateGraph object at 0x0000020A9F06C710>"
      ]
     },
     "execution_count": 77,
     "metadata": {},
     "output_type": "execute_result"
    }
   ],
   "source": [
    "workflow.compile()"
   ]
  },
  {
   "cell_type": "code",
   "execution_count": null,
   "id": "fa18ef68",
   "metadata": {},
   "outputs": [],
   "source": []
  },
  {
   "cell_type": "code",
   "execution_count": null,
   "id": "4baa6785",
   "metadata": {},
   "outputs": [],
   "source": []
  },
  {
   "cell_type": "code",
   "execution_count": null,
   "id": "03cb49a7",
   "metadata": {},
   "outputs": [],
   "source": []
  },
  {
   "cell_type": "code",
   "execution_count": null,
   "id": "2880ae0e",
   "metadata": {},
   "outputs": [],
   "source": []
  },
  {
   "cell_type": "code",
   "execution_count": null,
   "id": "8572225f",
   "metadata": {},
   "outputs": [],
   "source": []
  },
  {
   "cell_type": "code",
   "execution_count": null,
   "id": "8adf5c23",
   "metadata": {},
   "outputs": [],
   "source": []
  },
  {
   "cell_type": "code",
   "execution_count": null,
   "id": "adc303b4",
   "metadata": {},
   "outputs": [],
   "source": []
  }
 ],
 "metadata": {
  "kernelspec": {
   "display_name": "Python 3",
   "language": "python",
   "name": "python3"
  },
  "language_info": {
   "codemirror_mode": {
    "name": "ipython",
    "version": 3
   },
   "file_extension": ".py",
   "mimetype": "text/x-python",
   "name": "python",
   "nbconvert_exporter": "python",
   "pygments_lexer": "ipython3",
   "version": "3.12.11"
  }
 },
 "nbformat": 4,
 "nbformat_minor": 5
}
