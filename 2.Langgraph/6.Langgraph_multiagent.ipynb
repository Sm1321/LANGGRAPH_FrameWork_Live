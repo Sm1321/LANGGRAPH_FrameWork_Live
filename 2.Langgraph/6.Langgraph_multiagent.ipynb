{
 "cells": [
  {
   "cell_type": "code",
   "execution_count": 2,
   "id": "240781a2",
   "metadata": {},
   "outputs": [],
   "source": [
    "import os"
   ]
  },
  {
   "cell_type": "code",
   "execution_count": 3,
   "id": "c42d7fa7",
   "metadata": {},
   "outputs": [
    {
     "data": {
      "text/plain": [
       "True"
      ]
     },
     "execution_count": 3,
     "metadata": {},
     "output_type": "execute_result"
    }
   ],
   "source": [
    "from dotenv import load_dotenv\n",
    "load_dotenv()"
   ]
  },
  {
   "cell_type": "code",
   "execution_count": 4,
   "id": "aa4d6107",
   "metadata": {},
   "outputs": [],
   "source": [
    "import os\n",
    "os.environ[\"OPENAI_API_KEY\"]=os.getenv(\"OPENAI_API_KEY\")"
   ]
  },
  {
   "cell_type": "code",
   "execution_count": 5,
   "id": "4b1b65ea",
   "metadata": {},
   "outputs": [],
   "source": [
    "from langchain_openai import ChatOpenAI\n",
    "llm = ChatOpenAI()"
   ]
  },
  {
   "cell_type": "code",
   "execution_count": 6,
   "id": "c6c1e3b5",
   "metadata": {},
   "outputs": [
    {
     "data": {
      "text/plain": [
       "AIMessage(content='Hello! How can I help you today?', additional_kwargs={'refusal': None}, response_metadata={'token_usage': {'completion_tokens': 9, 'prompt_tokens': 9, 'total_tokens': 18, 'completion_tokens_details': {'accepted_prediction_tokens': 0, 'audio_tokens': 0, 'reasoning_tokens': 0, 'rejected_prediction_tokens': 0}, 'prompt_tokens_details': {'audio_tokens': 0, 'cached_tokens': 0}}, 'model_name': 'gpt-3.5-turbo-0125', 'system_fingerprint': None, 'id': 'chatcmpl-BpFM9fl3FYWEx7i41SGSxhk4MD2CQ', 'service_tier': 'default', 'finish_reason': 'stop', 'logprobs': None}, id='run--9613ebc4-41c5-44f5-985e-a05a06d21f02-0', usage_metadata={'input_tokens': 9, 'output_tokens': 9, 'total_tokens': 18, 'input_token_details': {'audio': 0, 'cache_read': 0}, 'output_token_details': {'audio': 0, 'reasoning': 0}})"
      ]
     },
     "execution_count": 6,
     "metadata": {},
     "output_type": "execute_result"
    }
   ],
   "source": [
    "llm.invoke(\"hello?\")"
   ]
  },
  {
   "cell_type": "code",
   "execution_count": 7,
   "id": "97bb5a25",
   "metadata": {},
   "outputs": [],
   "source": [
    "### \n",
    "from langgraph.types import Command"
   ]
  },
  {
   "cell_type": "code",
   "execution_count": 8,
   "id": "66a782fd",
   "metadata": {},
   "outputs": [],
   "source": [
    "### React Agent\n",
    "from langgraph.prebuilt import create_react_agent"
   ]
  },
  {
   "cell_type": "code",
   "execution_count": 9,
   "id": "5e4035fd",
   "metadata": {},
   "outputs": [],
   "source": [
    "# class AgentState(TypedDict):\n",
    "#     messages: Annotated[Sequence[BaseMessage], add_messages]\n",
    "#     Name:str\n",
    "#     age:int\n",
    "#     DOB:int"
   ]
  },
  {
   "cell_type": "code",
   "execution_count": 10,
   "id": "87825a94",
   "metadata": {},
   "outputs": [],
   "source": [
    "def add_number(state):\n",
    "    result = state[\"num1\"] + state[\"num2\"]\n",
    "    print(f\"Addition is:-  {result}\")\n",
    "    #working of Command\n",
    "    #Uisng these command we will switch in multiple agents\n",
    "    return Command(goto = \"multiply\",update = {\"sum\":result})\n"
   ]
  },
  {
   "cell_type": "code",
   "execution_count": 11,
   "id": "37407be8",
   "metadata": {},
   "outputs": [],
   "source": [
    "state = {\"num1\":10,\"num2\":20}"
   ]
  },
  {
   "cell_type": "code",
   "execution_count": 12,
   "id": "4077c1a4",
   "metadata": {},
   "outputs": [
    {
     "name": "stdout",
     "output_type": "stream",
     "text": [
      "Addition is:-  30\n"
     ]
    },
    {
     "data": {
      "text/plain": [
       "Command(update={'sum': 30}, goto='multiply')"
      ]
     },
     "execution_count": 12,
     "metadata": {},
     "output_type": "execute_result"
    }
   ],
   "source": [
    "add_number(state)"
   ]
  },
  {
   "cell_type": "markdown",
   "id": "ade1eb95",
   "metadata": {},
   "source": [
    "### Creating one dummy multiagent\n",
    "\n",
    "- it is for network/collab multiagent"
   ]
  },
  {
   "cell_type": "code",
   "execution_count": 13,
   "id": "c401933c",
   "metadata": {},
   "outputs": [],
   "source": [
    "from langchain_core.tools import tool"
   ]
  },
  {
   "cell_type": "code",
   "execution_count": 14,
   "id": "4395f921",
   "metadata": {},
   "outputs": [],
   "source": [
    "@tool\n",
    "def transfer_to_multiplication_expert():\n",
    "    \"\"\"Ask multiplication agent for help\"\"\"\n",
    "    return"
   ]
  },
  {
   "cell_type": "code",
   "execution_count": 15,
   "id": "42f542bc",
   "metadata": {},
   "outputs": [],
   "source": [
    "@tool\n",
    "def transfer_to_addition_expert():\n",
    "    \"\"\"Ask addition agent for help\"\"\"\n",
    "    return"
   ]
  },
  {
   "cell_type": "code",
   "execution_count": 16,
   "id": "2c0f9afa",
   "metadata": {},
   "outputs": [],
   "source": [
    "llm_with_tool = llm.bind_tools([transfer_to_addition_expert])"
   ]
  },
  {
   "cell_type": "code",
   "execution_count": 17,
   "id": "54ec411e",
   "metadata": {},
   "outputs": [],
   "source": [
    "response = llm_with_tool.invoke(\"hi\")"
   ]
  },
  {
   "cell_type": "code",
   "execution_count": 18,
   "id": "e1a1f38c",
   "metadata": {},
   "outputs": [
    {
     "data": {
      "text/plain": [
       "'Hello! How can I assist you today?'"
      ]
     },
     "execution_count": 18,
     "metadata": {},
     "output_type": "execute_result"
    }
   ],
   "source": [
    "response.content"
   ]
  },
  {
   "cell_type": "code",
   "execution_count": 19,
   "id": "14a1f98c",
   "metadata": {},
   "outputs": [
    {
     "data": {
      "text/plain": [
       "[]"
      ]
     },
     "execution_count": 19,
     "metadata": {},
     "output_type": "execute_result"
    }
   ],
   "source": [
    "response.tool_calls"
   ]
  },
  {
   "cell_type": "code",
   "execution_count": 20,
   "id": "7f50a6a9",
   "metadata": {},
   "outputs": [],
   "source": [
    "system_prompt = (\n",
    "        \"You are an addition expert, you can ask the multiplication expert for help with multiplication.\"\n",
    "        \"Always do your portion of calculation before the handoff.\"\n",
    "    )\n"
   ]
  },
  {
   "cell_type": "code",
   "execution_count": 21,
   "id": "6c1148d7",
   "metadata": {},
   "outputs": [],
   "source": [
    "response = llm_with_tool.invoke(\"What is 2 multiply 2?\")"
   ]
  },
  {
   "cell_type": "code",
   "execution_count": 22,
   "id": "ae50c015",
   "metadata": {},
   "outputs": [
    {
     "data": {
      "text/plain": [
       "''"
      ]
     },
     "execution_count": 22,
     "metadata": {},
     "output_type": "execute_result"
    }
   ],
   "source": [
    "response.content"
   ]
  },
  {
   "cell_type": "code",
   "execution_count": 23,
   "id": "b8b75d68",
   "metadata": {},
   "outputs": [
    {
     "data": {
      "text/plain": [
       "[{'name': 'transfer_to_addition_expert',\n",
       "  'args': {},\n",
       "  'id': 'call_yIWdT3ufT05XoKvZeeobxvRc',\n",
       "  'type': 'tool_call'}]"
      ]
     },
     "execution_count": 23,
     "metadata": {},
     "output_type": "execute_result"
    }
   ],
   "source": [
    "response.tool_calls"
   ]
  },
  {
   "cell_type": "code",
   "execution_count": 24,
   "id": "7d599f82",
   "metadata": {},
   "outputs": [],
   "source": [
    "from typing_extensions import Literal \n",
    "from langgraph.graph import MessagesState,StateGraph,START,END"
   ]
  },
  {
   "cell_type": "code",
   "execution_count": 25,
   "id": "b6a0679f",
   "metadata": {},
   "outputs": [],
   "source": [
    "##Agent1\n",
    "def additional_expert(state:MessagesState) -> Command[Literal[\"multiplication_expert\",\"__end__\"]]:\n",
    "    system_prompt = (\n",
    "        \"You are an addition expert, you can ask the multiplication expert for help with multiplication.\"\n",
    "        \"Always do your portion of calculation before the handoff.\"\n",
    "    )\n",
    "\n",
    "    messages = [{\"role\": \"system\", \"content\": system_prompt}] + state[\"messages\"]\n",
    "        \n",
    "    ai_msg = llm.bind_tools([transfer_to_multiplication_expert]).invoke(messages)\n",
    "\n",
    "    if len(ai_msg.tool_calls) > 0:\n",
    "        tool_call_id = ai_msg.tool_calls[-1][\"id\"]\n",
    "        tool_msg = {\n",
    "            \"role\": \"tool\",\n",
    "            \"content\": \"Successfully transferred\",\n",
    "            \"tool_call_id\": tool_call_id,\n",
    "        }\n",
    "        \n",
    "        return Command(\n",
    "            goto=\"multiplication_expert\", update={\"messages\": [ai_msg, tool_msg]}\n",
    "            )\n",
    "    \n",
    "    return {\"messages\": [ai_msg]}\n",
    "  "
   ]
  },
  {
   "cell_type": "code",
   "execution_count": 26,
   "id": "65c0ed65",
   "metadata": {},
   "outputs": [],
   "source": [
    "##Agent2\n",
    "def multiplication_expert(state:MessagesState)-> Command[Literal[\"additional_expert\", \"__end__\"]]:\n",
    "    \n",
    "    system_prompt = (\n",
    "        \"You are a multiplication expert, you can ask an addition expert for help with addition. \"\n",
    "        \"Always do your portion of calculation before the handoff.\"\n",
    "    )\n",
    "    \n",
    "    messages = [{\"role\": \"system\", \"content\": system_prompt}] + state[\"messages\"]\n",
    "    \n",
    "    ai_msg = llm.bind_tools([transfer_to_addition_expert]).invoke(messages)\n",
    "    \n",
    "    if len(ai_msg.tool_calls) > 0:\n",
    "        tool_call_id = ai_msg.tool_calls[-1][\"id\"]\n",
    "        tool_msg = {\n",
    "            \"role\": \"tool\",\n",
    "            \"content\": \"Successfully transferred\",\n",
    "            \"tool_call_id\": tool_call_id,\n",
    "        }\n",
    "        return Command(goto=\"additional_expert\", update={\"messages\": [ai_msg, tool_msg]})\n",
    "    return {\"messages\": [ai_msg]}"
   ]
  },
  {
   "cell_type": "code",
   "execution_count": 27,
   "id": "3d485fbc",
   "metadata": {},
   "outputs": [
    {
     "data": {
      "text/plain": [
       "<langgraph.graph.state.StateGraph at 0x27993e0afc0>"
      ]
     },
     "execution_count": 27,
     "metadata": {},
     "output_type": "execute_result"
    }
   ],
   "source": [
    "### State Graph\n",
    "graph = StateGraph(MessagesState)\n",
    "##Add the Node\n",
    "graph.add_node(\"additional_expert\",additional_expert)\n",
    "graph.add_node(\"multiplication_expert\",multiplication_expert)\n",
    "###Add Edges\n",
    "graph.add_edge(START, \"additional_expert\")\n"
   ]
  },
  {
   "cell_type": "code",
   "execution_count": 28,
   "id": "eb43fcab",
   "metadata": {},
   "outputs": [],
   "source": [
    "#compile the Graph\n",
    "app = graph.compile()"
   ]
  },
  {
   "cell_type": "code",
   "execution_count": 29,
   "id": "18e31a4a",
   "metadata": {},
   "outputs": [
    {
     "data": {
      "text/plain": [
       "{'messages': [HumanMessage(content=\"what's (3 + 5) * 12. Provide me the output\", additional_kwargs={}, response_metadata={}, id='a48d87e7-9779-457b-90ca-4e6433df6094'),\n",
       "  AIMessage(content='', additional_kwargs={'tool_calls': [{'id': 'call_H0X6pUDHHLHZoFn2R9c3TeI3', 'function': {'arguments': '{}', 'name': 'transfer_to_multiplication_expert'}, 'type': 'function'}], 'refusal': None}, response_metadata={'token_usage': {'completion_tokens': 14, 'prompt_tokens': 86, 'total_tokens': 100, 'completion_tokens_details': {'accepted_prediction_tokens': 0, 'audio_tokens': 0, 'reasoning_tokens': 0, 'rejected_prediction_tokens': 0}, 'prompt_tokens_details': {'audio_tokens': 0, 'cached_tokens': 0}}, 'model_name': 'gpt-3.5-turbo-0125', 'system_fingerprint': None, 'id': 'chatcmpl-BpFMEYCSospCvsfQDcDZOfnxkKvVz', 'service_tier': 'default', 'finish_reason': 'tool_calls', 'logprobs': None}, id='run--348a57cf-c890-451a-8bcc-24c4dd0d4463-0', tool_calls=[{'name': 'transfer_to_multiplication_expert', 'args': {}, 'id': 'call_H0X6pUDHHLHZoFn2R9c3TeI3', 'type': 'tool_call'}], usage_metadata={'input_tokens': 86, 'output_tokens': 14, 'total_tokens': 100, 'input_token_details': {'audio': 0, 'cache_read': 0}, 'output_token_details': {'audio': 0, 'reasoning': 0}}),\n",
       "  ToolMessage(content='Successfully transferred', id='794c0938-6e68-42a1-81e0-9442b74e6d6a', tool_call_id='call_H0X6pUDHHLHZoFn2R9c3TeI3'),\n",
       "  AIMessage(content='I have transferred the calculations to the multiplication expert.', additional_kwargs={'refusal': None}, response_metadata={'token_usage': {'completion_tokens': 11, 'prompt_tokens': 114, 'total_tokens': 125, 'completion_tokens_details': {'accepted_prediction_tokens': 0, 'audio_tokens': 0, 'reasoning_tokens': 0, 'rejected_prediction_tokens': 0}, 'prompt_tokens_details': {'audio_tokens': 0, 'cached_tokens': 0}}, 'model_name': 'gpt-3.5-turbo-0125', 'system_fingerprint': None, 'id': 'chatcmpl-BpFMFKPYVL1w0HzuF9GOlDjC0WE9k', 'service_tier': 'default', 'finish_reason': 'stop', 'logprobs': None}, id='run--676b4d98-0ccc-45b3-b734-4d6cfb1e9d68-0', usage_metadata={'input_tokens': 114, 'output_tokens': 11, 'total_tokens': 125, 'input_token_details': {'audio': 0, 'cache_read': 0}, 'output_token_details': {'audio': 0, 'reasoning': 0}})]}"
      ]
     },
     "execution_count": 29,
     "metadata": {},
     "output_type": "execute_result"
    }
   ],
   "source": [
    "app.invoke({\"messages\":[(\"user\",\"what's (3 + 5) * 12. Provide me the output\")]})"
   ]
  },
  {
   "cell_type": "code",
   "execution_count": 30,
   "id": "43982406",
   "metadata": {},
   "outputs": [
    {
     "name": "stdout",
     "output_type": "stream",
     "text": [
      "here is output from additional_expert\n",
      "----------------------------------------\n",
      "additional_expert <----here is key \n",
      "\n",
      "{'messages': [AIMessage(content='', additional_kwargs={'tool_calls': [{'id': 'call_DY58kRgofgNM16v5u6Fjdw1b', 'function': {'arguments': '{}', 'name': 'transfer_to_multiplication_expert'}, 'type': 'function'}], 'refusal': None}, response_metadata={'token_usage': {'completion_tokens': 14, 'prompt_tokens': 86, 'total_tokens': 100, 'completion_tokens_details': {'accepted_prediction_tokens': 0, 'audio_tokens': 0, 'reasoning_tokens': 0, 'rejected_prediction_tokens': 0}, 'prompt_tokens_details': {'audio_tokens': 0, 'cached_tokens': 0}}, 'model_name': 'gpt-3.5-turbo-0125', 'system_fingerprint': None, 'id': 'chatcmpl-BpFMH8yncDOQtPaPhzAmErGVg34k4', 'service_tier': 'default', 'finish_reason': 'tool_calls', 'logprobs': None}, id='run--0ea078a9-8b3f-4ee5-bde3-356d3441e20e-0', tool_calls=[{'name': 'transfer_to_multiplication_expert', 'args': {}, 'id': 'call_DY58kRgofgNM16v5u6Fjdw1b', 'type': 'tool_call'}], usage_metadata={'input_tokens': 86, 'output_tokens': 14, 'total_tokens': 100, 'input_token_details': {'audio': 0, 'cache_read': 0}, 'output_token_details': {'audio': 0, 'reasoning': 0}}), {'role': 'tool', 'content': 'Successfully transferred', 'tool_call_id': 'call_DY58kRgofgNM16v5u6Fjdw1b'}]}\n",
      "\n",
      "\n",
      "here is output from multiplication_expert\n",
      "----------------------------------------\n",
      "multiplication_expert <----here is key \n",
      "\n",
      "{'messages': [AIMessage(content='I have transferred the calculation to the multiplication expert.', additional_kwargs={'refusal': None}, response_metadata={'token_usage': {'completion_tokens': 11, 'prompt_tokens': 114, 'total_tokens': 125, 'completion_tokens_details': {'accepted_prediction_tokens': 0, 'audio_tokens': 0, 'reasoning_tokens': 0, 'rejected_prediction_tokens': 0}, 'prompt_tokens_details': {'audio_tokens': 0, 'cached_tokens': 0}}, 'model_name': 'gpt-3.5-turbo-0125', 'system_fingerprint': None, 'id': 'chatcmpl-BpFMIMPCSt4x1GjbMzYQqmLf3BXgV', 'service_tier': 'default', 'finish_reason': 'stop', 'logprobs': None}, id='run--aefc67a4-4b6e-4d64-9431-3a5d932937b3-0', usage_metadata={'input_tokens': 114, 'output_tokens': 11, 'total_tokens': 125, 'input_token_details': {'audio': 0, 'cache_read': 0}, 'output_token_details': {'audio': 0, 'reasoning': 0}})]}\n",
      "\n",
      "\n"
     ]
    }
   ],
   "source": [
    "for output in app.stream({\"messages\":[(\"user\",\"what's (3 + 5) * 12. Provide me the output\")]}):\n",
    "    for key,value in output.items():\n",
    "        print(f\"here is output from {key}\")\n",
    "        print(\"----\"*10)\n",
    "        print(key,\"<----here is key \\n\")\n",
    "        print(value)\n",
    "        print(\"\\n\")"
   ]
  },
  {
   "cell_type": "code",
   "execution_count": 31,
   "id": "02f3c9c2",
   "metadata": {},
   "outputs": [
    {
     "data": {
      "text/plain": [
       "{'messages': [HumanMessage(content=\"what's  1 * (10 +3). Provide me the output\", additional_kwargs={}, response_metadata={}, id='96b8c381-1c73-4d41-be3f-36adc0717916'),\n",
       "  AIMessage(content='', additional_kwargs={'tool_calls': [{'id': 'call_G50XimL0Um5d4XE1fxOfwubA', 'function': {'arguments': '{}', 'name': 'transfer_to_multiplication_expert'}, 'type': 'function'}], 'refusal': None}, response_metadata={'token_usage': {'completion_tokens': 14, 'prompt_tokens': 85, 'total_tokens': 99, 'completion_tokens_details': {'accepted_prediction_tokens': 0, 'audio_tokens': 0, 'reasoning_tokens': 0, 'rejected_prediction_tokens': 0}, 'prompt_tokens_details': {'audio_tokens': 0, 'cached_tokens': 0}}, 'model_name': 'gpt-3.5-turbo-0125', 'system_fingerprint': None, 'id': 'chatcmpl-BpFMJm7Q4boQaAAMcCphpbUMoLWJa', 'service_tier': 'default', 'finish_reason': 'tool_calls', 'logprobs': None}, id='run--a488a95d-6107-4ec6-b568-93e2ca28535c-0', tool_calls=[{'name': 'transfer_to_multiplication_expert', 'args': {}, 'id': 'call_G50XimL0Um5d4XE1fxOfwubA', 'type': 'tool_call'}], usage_metadata={'input_tokens': 85, 'output_tokens': 14, 'total_tokens': 99, 'input_token_details': {'audio': 0, 'cache_read': 0}, 'output_token_details': {'audio': 0, 'reasoning': 0}}),\n",
       "  ToolMessage(content='Successfully transferred', id='84ee9944-2eda-4ce6-8c54-c2c7bd4a3b1c', tool_call_id='call_G50XimL0Um5d4XE1fxOfwubA'),\n",
       "  AIMessage(content='I have calculated the addition part to be 13. Now, I will calculate the multiplication part.\\n\\n1 * 13 = 13\\n\\nTherefore, the output is 13.', additional_kwargs={'refusal': None}, response_metadata={'token_usage': {'completion_tokens': 37, 'prompt_tokens': 113, 'total_tokens': 150, 'completion_tokens_details': {'accepted_prediction_tokens': 0, 'audio_tokens': 0, 'reasoning_tokens': 0, 'rejected_prediction_tokens': 0}, 'prompt_tokens_details': {'audio_tokens': 0, 'cached_tokens': 0}}, 'model_name': 'gpt-3.5-turbo-0125', 'system_fingerprint': None, 'id': 'chatcmpl-BpFMKPeCpQhIxm3lRO1tulTzBc9jF', 'service_tier': 'default', 'finish_reason': 'stop', 'logprobs': None}, id='run--1b764d2b-4e2a-49a9-b869-a578ad80e18d-0', usage_metadata={'input_tokens': 113, 'output_tokens': 37, 'total_tokens': 150, 'input_token_details': {'audio': 0, 'cache_read': 0}, 'output_token_details': {'audio': 0, 'reasoning': 0}})]}"
      ]
     },
     "execution_count": 31,
     "metadata": {},
     "output_type": "execute_result"
    }
   ],
   "source": [
    "app.invoke({\"messages\":[(\"user\",\"what's  1 * (10 +3). Provide me the output\")]})"
   ]
  },
  {
   "cell_type": "code",
   "execution_count": 32,
   "id": "d6fca6b8",
   "metadata": {},
   "outputs": [
    {
     "name": "stdout",
     "output_type": "stream",
     "text": [
      "here is output from additional_expert\n",
      "----------------------------------------\n",
      "additional_expert <----here is key \n",
      "\n",
      "{'messages': [AIMessage(content='', additional_kwargs={'tool_calls': [{'id': 'call_M0bJyeTa7qdWXYnLadD2ijrO', 'function': {'arguments': '{}', 'name': 'transfer_to_multiplication_expert'}, 'type': 'function'}], 'refusal': None}, response_metadata={'token_usage': {'completion_tokens': 14, 'prompt_tokens': 85, 'total_tokens': 99, 'completion_tokens_details': {'accepted_prediction_tokens': 0, 'audio_tokens': 0, 'reasoning_tokens': 0, 'rejected_prediction_tokens': 0}, 'prompt_tokens_details': {'audio_tokens': 0, 'cached_tokens': 0}}, 'model_name': 'gpt-3.5-turbo-0125', 'system_fingerprint': None, 'id': 'chatcmpl-BpFMM3VXs69CEkoBYm9Nn4d3kCixN', 'service_tier': 'default', 'finish_reason': 'tool_calls', 'logprobs': None}, id='run--4ca84742-68a6-410a-ae27-426881ac2b64-0', tool_calls=[{'name': 'transfer_to_multiplication_expert', 'args': {}, 'id': 'call_M0bJyeTa7qdWXYnLadD2ijrO', 'type': 'tool_call'}], usage_metadata={'input_tokens': 85, 'output_tokens': 14, 'total_tokens': 99, 'input_token_details': {'audio': 0, 'cache_read': 0}, 'output_token_details': {'audio': 0, 'reasoning': 0}}), {'role': 'tool', 'content': 'Successfully transferred', 'tool_call_id': 'call_M0bJyeTa7qdWXYnLadD2ijrO'}]}\n",
      "\n",
      "\n",
      "here is output from multiplication_expert\n",
      "----------------------------------------\n",
      "multiplication_expert <----here is key \n",
      "\n",
      "{'messages': [AIMessage(content='I have asked the multiplication expert to calculate 1 * (10 + 3) for you. They will provide the output shortly.', additional_kwargs={'refusal': None}, response_metadata={'token_usage': {'completion_tokens': 28, 'prompt_tokens': 113, 'total_tokens': 141, 'completion_tokens_details': {'accepted_prediction_tokens': 0, 'audio_tokens': 0, 'reasoning_tokens': 0, 'rejected_prediction_tokens': 0}, 'prompt_tokens_details': {'audio_tokens': 0, 'cached_tokens': 0}}, 'model_name': 'gpt-3.5-turbo-0125', 'system_fingerprint': None, 'id': 'chatcmpl-BpFMOOnS9534yBL0ZkJ6K02l6Hysb', 'service_tier': 'default', 'finish_reason': 'stop', 'logprobs': None}, id='run--a667a2a2-386c-4389-a5ed-301627418494-0', usage_metadata={'input_tokens': 113, 'output_tokens': 28, 'total_tokens': 141, 'input_token_details': {'audio': 0, 'cache_read': 0}, 'output_token_details': {'audio': 0, 'reasoning': 0}})]}\n",
      "\n",
      "\n"
     ]
    }
   ],
   "source": [
    "for output in app.stream({\"messages\":[(\"user\",\"what's  1 * (10 +3). Provide me the output\")]}):\n",
    "    for key,value in output.items():\n",
    "        print(f\"here is output from {key}\")\n",
    "        print(\"----\"*10)\n",
    "        print(key,\"<----here is key \\n\")\n",
    "        print(value)\n",
    "        print(\"\\n\")"
   ]
  },
  {
   "cell_type": "code",
   "execution_count": 33,
   "id": "db7bbc55",
   "metadata": {},
   "outputs": [
    {
     "data": {
      "image/png": "[encoded data removed]",
      "text/plain": [
       "<IPython.core.display.Image object>"
      ]
     },
     "metadata": {},
     "output_type": "display_data"
    }
   ],
   "source": [
    "from IPython.display import Image, display\n",
    "display(Image(app.get_graph().draw_mermaid_png()))"
   ]
  },
  {
   "cell_type": "markdown",
   "id": "1c6ebe2b",
   "metadata": {},
   "source": [
    "## With realtime tool"
   ]
  },
  {
   "cell_type": "code",
   "execution_count": 34,
   "id": "9eaee17a",
   "metadata": {},
   "outputs": [],
   "source": [
    "from langchain_community.tools import DuckDuckGoSearchRun\n"
   ]
  },
  {
   "cell_type": "code",
   "execution_count": 35,
   "id": "e547aaad",
   "metadata": {},
   "outputs": [
    {
     "name": "stderr",
     "output_type": "stream",
     "text": [
      "C:\\Users\\Mohan\\AppData\\Local\\Temp\\ipykernel_25920\\332319304.py:6: LangChainDeprecationWarning: The class `TavilySearchResults` was deprecated in LangChain 0.3.25 and will be removed in 1.0. An updated version of the class exists in the :class:`~langchain-tavily package and should be used instead. To use it run `pip install -U :class:`~langchain-tavily` and import as `from :class:`~langchain_tavily import TavilySearch``.\n",
      "  search_tool=TavilySearchResults(tavily_api_key=TAVILY_API_KEY)\n"
     ]
    }
   ],
   "source": [
    "# search_tool=DuckDuckGoSearchRun()\n",
    "\n",
    "import os\n",
    "from langchain_community.tools.tavily_search import TavilySearchResults\n",
    "TAVILY_API_KEY=os.getenv(\"TAVILY_API_KEY\")\n",
    "search_tool=TavilySearchResults(tavily_api_key=TAVILY_API_KEY)"
   ]
  },
  {
   "cell_type": "code",
   "execution_count": 36,
   "id": "afac318d",
   "metadata": {},
   "outputs": [
    {
     "data": {
      "text/plain": [
       "[{'title': 'Prime Minister - GOV.UK',\n",
       "  'url': 'https://www.gov.uk/government/ministers/prime-minister',\n",
       "  'content': 'The Prime Minister is the leader of His Majesty’s Government and is ultimately responsible for the policy and decisions of the government.\\n\\nAs leader of the UK government the Prime Minister also:\\n\\n## Current role holder\\n\\n### The Rt Hon Sir Keir Starmer KCB KC MP\\n\\nSir Keir Starmer became Prime Minister on 5 July 2024.\\n\\n## Education',\n",
       "  'score': 0.8235701},\n",
       " {'title': 'Prime Minister of the United Kingdom - Wikipedia',\n",
       "  'url': 'https://en.wikipedia.org/wiki/Prime_Minister_of_the_United_Kingdom',\n",
       "  'content': 'As of 2025 58 people (55 men and 3 ... Keir Starmer succeeded Rishi Sunak as prime minister on 5 July 2024, following the 2024 general election.',\n",
       "  'score': 0.7672197},\n",
       " {'title': 'Keir Starmer - Wikipedia',\n",
       "  'url': 'https://en.wikipedia.org/wiki/Keir_Starmer',\n",
       "  'content': 'Sir Keir Rodney Starmer (born 2 September 1962) is a British politician and lawyer who has served as Prime Minister of the United Kingdom since 2024 and as',\n",
       "  'score': 0.76659125},\n",
       " {'title': \"Prime Minister's Office, 10 Downing Street - GOV.UK\",\n",
       "  'url': 'https://www.gov.uk/government/organisations/prime-ministers-office-10-downing-street',\n",
       "  'content': \"Meet the Prime Minister. Keir Starmer became Prime Minister on 5 July 2024. Read his biography · Contact the Prime Minister's Office\",\n",
       "  'score': 0.7489592},\n",
       " {'title': 'British Prime Ministers | University of Oxford',\n",
       "  'url': 'https://www.ox.ac.uk/about/oxford-people/british-prime-ministers',\n",
       "  'content': \"| NAME | COLLEGE | TERMS AS PRIME MINISTER | POLITICAL PARTY |\\n| --- | --- | --- | --- |\\n| Sir Keir Starmer (1962- ) | St Edmund Hall | Jul 2024- | Labour |\\n| Rishi Sunak (1980- ) | Lincoln | Oct 2022-Jul 2024 | Conservative |\\n| Liz Truss (1975- ) | Merton | Sep 2022-Oct 2022 | Conservative |\\n| Boris Johnson (1964- ) | Balliol | Jul 2019-Sept 2022 | Conservative |\\n| Theresa May (1956- ) | St Hugh's | Jul 2016-Jul 2019 | Conservative | [...] | David Cameron (1966- ) | Brasenose | May 2010-Jul 2016 | Conservative |\\n| Tony Blair (1953- ) | St John's | May 1997-Jun 2007 | Labour |\\n| Margaret Thatcher  (1925-2013) | Somerville | May 1979-Nov 1990 | Conservative |\\n| Harold Wilson  (1916-1995) | Jesus | Oct 1964-Jun 1970 | Labour |\\n| Mar 1974-Apr 1976 |\\n| Edward Heath  (1916-2005) | Balliol | Jun 1970-Mar 1974 | Conservative |\\n| Sir Alec Douglas-Home (1903-1995) | Christ Church | Oct 1963-Oct 1964 | Unionist/Conservative | [...] #### NAME\\n\\n#### COLLEGE\\n\\n#### TERMS AS PRIME MINISTER\\n\\n#### POLITICAL PARTY\\n\\n## Oxford people\\n\\nSir Keir Starmer\\n\\nSir Keir Starmer\\n\\nSir Keir Starmer\\n\\nRishi Sunak\\n\\nRishi Sunak\\n\\nRishi Sunak\\n\\nLiz Truss\\n\\nLiz Truss\\n\\nLiz Truss\\n\\nAnthony Eden\\n\\nAnthony Eden\\n\\nAnthony Eden\\n\\nEarl of Rosebery\\n\\nEarl of Rosebery\\n\\nEarl of Rosebery\\n\\nSir Robert Peel\\n\\nSir Robert Peel\\n\\nSir Robert Peel\\n\\nLord Grenville\\n\\nLord Grenville\\n\\nLord Grenville\\n\\nEarl of Wilmington\\n\\nEarl of Wilmington\\n\\nEarl of Wilmington\\n\\n## Share This\",\n",
       "  'score': 0.7265231}]"
      ]
     },
     "execution_count": 36,
     "metadata": {},
     "output_type": "execute_result"
    }
   ],
   "source": [
    "search_tool.invoke(\"who is a current pm of uk?\")"
   ]
  },
  {
   "cell_type": "code",
   "execution_count": 37,
   "id": "364a4361",
   "metadata": {},
   "outputs": [],
   "source": [
    "! pip install langchain_experimental -q"
   ]
  },
  {
   "cell_type": "code",
   "execution_count": 38,
   "id": "887bb44c",
   "metadata": {},
   "outputs": [],
   "source": [
    "from langchain_experimental.utilities import PythonREPL"
   ]
  },
  {
   "cell_type": "code",
   "execution_count": 39,
   "id": "a3eb661a",
   "metadata": {},
   "outputs": [],
   "source": [
    "repl = PythonREPL()"
   ]
  },
  {
   "cell_type": "code",
   "execution_count": 40,
   "id": "1890a6b5",
   "metadata": {},
   "outputs": [],
   "source": [
    "code = \"\"\"\n",
    "x = 5\n",
    "y = x * 2\n",
    "print(y)\n",
    "\"\"\""
   ]
  },
  {
   "cell_type": "code",
   "execution_count": 41,
   "id": "afb0eaa4",
   "metadata": {},
   "outputs": [],
   "source": [
    "# repl.invoke() ##this is not a tool"
   ]
  },
  {
   "cell_type": "code",
   "execution_count": 42,
   "id": "25b9bec9",
   "metadata": {},
   "outputs": [],
   "source": [
    "from typing import Annotated"
   ]
  },
  {
   "cell_type": "code",
   "execution_count": 43,
   "id": "396dd817",
   "metadata": {},
   "outputs": [
    {
     "name": "stderr",
     "output_type": "stream",
     "text": [
      "<>:13: SyntaxWarning: invalid escape sequence '\\`'\n",
      "<>:13: SyntaxWarning: invalid escape sequence '\\`'\n",
      "<>:13: SyntaxWarning: invalid escape sequence '\\`'\n",
      "<>:13: SyntaxWarning: invalid escape sequence '\\`'\n",
      "C:\\Users\\Mohan\\AppData\\Local\\Temp\\ipykernel_25920\\4065183586.py:13: SyntaxWarning: invalid escape sequence '\\`'\n",
      "  result_str = f\"Successfully executed:\\n\\`\\`\\`python\\n{code}\\n\\`\\`\\`\\nStdout: {result}\"\n",
      "C:\\Users\\Mohan\\AppData\\Local\\Temp\\ipykernel_25920\\4065183586.py:13: SyntaxWarning: invalid escape sequence '\\`'\n",
      "  result_str = f\"Successfully executed:\\n\\`\\`\\`python\\n{code}\\n\\`\\`\\`\\nStdout: {result}\"\n"
     ]
    }
   ],
   "source": [
    "@tool\n",
    "def python_repl_tool(\n",
    "    code: Annotated[str, \"The python code to execute to generate your chart.\"],\n",
    "):\n",
    "    \"\"\"Use this to execute python code. If you want to see the output of a value,\n",
    "    you should print it out with `print(...)`. This is visible to the user.\"\"\"\n",
    "    \n",
    "    try:\n",
    "        result = repl.run(code)\n",
    "    except BaseException as e:\n",
    "        return f\"Failed to execute. Error: {repr(e)}\"\n",
    "    \n",
    "    result_str = f\"Successfully executed:\\n\\`\\`\\`python\\n{code}\\n\\`\\`\\`\\nStdout: {result}\"\n",
    "    \n",
    "    return (\n",
    "        result_str + \"\\n\\nIf you have completed all tasks, respond with FINAL ANSWER.\"\n",
    "    )\n",
    "    "
   ]
  },
  {
   "cell_type": "code",
   "execution_count": 44,
   "id": "8edfcd89",
   "metadata": {},
   "outputs": [
    {
     "data": {
      "text/plain": [
       "StructuredTool(name='python_repl_tool', description='Use this to execute python code. If you want to see the output of a value,\\n    you should print it out with `print(...)`. This is visible to the user.', args_schema=<class 'langchain_core.utils.pydantic.python_repl_tool'>, func=<function python_repl_tool at 0x000002799C15F420>)"
      ]
     },
     "execution_count": 44,
     "metadata": {},
     "output_type": "execute_result"
    }
   ],
   "source": [
    "python_repl_tool"
   ]
  },
  {
   "cell_type": "code",
   "execution_count": 45,
   "id": "f06fadc2",
   "metadata": {},
   "outputs": [
    {
     "name": "stderr",
     "output_type": "stream",
     "text": [
      "Python REPL can execute arbitrary code. Use with caution.\n"
     ]
    },
    {
     "name": "stdout",
     "output_type": "stream",
     "text": [
      "Successfully executed:\n",
      "\\`\\`\\`python\n",
      "\n",
      "x = 5\n",
      "y = x * 2\n",
      "print(y)\n",
      "\n",
      "\\`\\`\\`\n",
      "Stdout: 10\n",
      "\n",
      "\n",
      "If you have completed all tasks, respond with FINAL ANSWER.\n"
     ]
    }
   ],
   "source": [
    "print(python_repl_tool.invoke(code))"
   ]
  },
  {
   "cell_type": "code",
   "execution_count": 46,
   "id": "ac0882f7",
   "metadata": {},
   "outputs": [
    {
     "name": "stdout",
     "output_type": "stream",
     "text": [
      "Successfully executed:\n",
      "\\`\\`\\`python\n",
      "\n",
      "x = 5\n",
      "y = x * 2\n",
      "print(y)\n",
      "\n",
      "\\`\\`\\`\n",
      "Stdout: 10\n",
      "\n",
      "\n",
      "If you have completed all tasks, respond with FINAL ANSWER.\n"
     ]
    }
   ],
   "source": [
    "print(python_repl_tool.invoke(code))"
   ]
  },
  {
   "cell_type": "code",
   "execution_count": 47,
   "id": "66e58b3c",
   "metadata": {},
   "outputs": [],
   "source": [
    "def make_system_prompt(instruction:str)->str:\n",
    "    return  (\n",
    "        \"You are a helpful AI assistant, collaborating with other assistants.\"\n",
    "        \" Use the provided tools to progress towards answering the question.\"\n",
    "        \" If you are unable to fully answer, that's OK, another assistant with different tools \"\n",
    "        \" will help where you left off. Execute what you can to make progress.\"\n",
    "        \" If you or any of the other assistants have the final answer or deliverable,\"\n",
    "        \" prefix your response with FINAL ANSWER so the team knows to stop.\"\n",
    "        f\"\\n{instruction}\"\n",
    "    )"
   ]
  },
  {
   "cell_type": "code",
   "execution_count": 48,
   "id": "69724e7d",
   "metadata": {},
   "outputs": [
    {
     "data": {
      "text/plain": [
       "\"You are a helpful AI assistant, collaborating with other assistants. Use the provided tools to progress towards answering the question. If you are unable to fully answer, that's OK, another assistant with different tools  will help where you left off. Execute what you can to make progress. If you or any of the other assistants have the final answer or deliverable, prefix your response with FINAL ANSWER so the team knows to stop.\\nYou can only do research. You are working with a chart generator colleague.\""
      ]
     },
     "execution_count": 48,
     "metadata": {},
     "output_type": "execute_result"
    }
   ],
   "source": [
    "make_system_prompt(\"You can only do research. You are working with a chart generator colleague.\")"
   ]
  },
  {
   "cell_type": "code",
   "execution_count": 49,
   "id": "f093d4bb",
   "metadata": {},
   "outputs": [],
   "source": [
    "from langchain_core.messages import BaseMessage, HumanMessage"
   ]
  },
  {
   "cell_type": "code",
   "execution_count": 50,
   "id": "5a07b79d",
   "metadata": {},
   "outputs": [],
   "source": [
    "def get_next_node(last_message:BaseMessage, goto:str):\n",
    "    if \"FINAL ANSWER\" in last_message.content:\n",
    "        # Any agent decided the work is done\n",
    "        return END\n",
    "    return goto"
   ]
  },
  {
   "cell_type": "code",
   "execution_count": 51,
   "id": "32451927",
   "metadata": {},
   "outputs": [],
   "source": [
    "###Agent1\n",
    "def research_node(state:MessagesState)->Command[Literal[\"chart_generator\", END]]:\n",
    "    research_agent=create_react_agent(\n",
    "        llm,\n",
    "        tools=[search_tool],\n",
    "        prompt = make_system_prompt(\n",
    "        \"You can only do research. You are working with a chart generator colleague.\"\n",
    "    ), \n",
    "    )\n",
    "    \n",
    "    result = research_agent.invoke(state)\n",
    "    \n",
    "    # result = [messages:{humanmesssage\n",
    "    #                 aimessgae\n",
    "    #                 toolmessage\n",
    "    #                 aimessage\n",
    "    #                 toolmessage\n",
    "    #                 aimessage}\n",
    "    #                 ]\n",
    "    \n",
    "    goto = get_next_node(result[\"messages\"][-1],\"chart_generator\")\n",
    "    \n",
    "    result[\"messages\"][-1] = HumanMessage(content=result[\"messages\"][-1].content, name=\"researcher\")\n",
    "    \n",
    "    return Command(update={\"messages\": result[\"messages\"]},goto=goto)"
   ]
  },
  {
   "cell_type": "code",
   "execution_count": 52,
   "id": "68c91997",
   "metadata": {},
   "outputs": [],
   "source": [
    "## agent1(human1)-->agent2(human2)"
   ]
  },
  {
   "cell_type": "code",
   "execution_count": 53,
   "id": "d26e332d",
   "metadata": {},
   "outputs": [],
   "source": [
    "###Agent2\n",
    "def chart_node(state:MessagesState)-> Command[Literal[\"researcher\", END]]:\n",
    "    chart_agent = create_react_agent(\n",
    "        llm,\n",
    "        tools = [python_repl_tool],\n",
    "        prompt = make_system_prompt(\n",
    "        \"You can only generate charts. You are working with a researcher colleague.\"\n",
    "    ),\n",
    "        )\n",
    "    result = chart_agent.invoke(state)\n",
    "    goto = get_next_node(result[\"messages\"][-1],\"researcher\")\n",
    "    result[\"messages\"][-1] = HumanMessage(content = result[\"messages\"][-1].content, name=\"chart_generator\")\n",
    "    return Command(update={\"messages\": result[\"messages\"]},goto=goto)"
   ]
  },
  {
   "cell_type": "code",
   "execution_count": 54,
   "id": "ff3d8063",
   "metadata": {},
   "outputs": [],
   "source": [
    "### Workflow\n",
    "workflow = StateGraph(MessagesState)\n",
    "workflow.add_node(\"researcher\", research_node)\n",
    "workflow.add_node(\"chart_generator\", chart_node)\n",
    "\n",
    "workflow.add_edge(START, \"researcher\")\n",
    "#compile\n",
    "app = workflow.compile()"
   ]
  },
  {
   "cell_type": "code",
   "execution_count": 55,
   "id": "d94880dd",
   "metadata": {},
   "outputs": [
    {
     "data": {
      "image/png": "[encoded data removed]",
      "text/plain": [
       "<langgraph.graph.state.CompiledStateGraph object at 0x000002799C17BC20>"
      ]
     },
     "execution_count": 55,
     "metadata": {},
     "output_type": "execute_result"
    }
   ],
   "source": [
    "workflow.compile()"
   ]
  },
  {
   "cell_type": "code",
   "execution_count": null,
   "id": "c8969333",
   "metadata": {},
   "outputs": [],
   "source": [
    "app.invoke({\"messages\": [(\"user\",\"get the UK's GDP over the past 3 years, then make a line chart of it.Once you make the chart, finish.\")],})"
   ]
  },
  {
   "cell_type": "code",
   "execution_count": 56,
   "id": "fa18ef68",
   "metadata": {},
   "outputs": [
    {
     "data": {
      "text/plain": [
       "{'messages': [HumanMessage(content=\"get the UK's GDP over the past 3 years, then make a line chart of it.Once you make the chart, finish.\", additional_kwargs={}, response_metadata={}, id='24c2d2e2-f9ea-4ef1-a166-9b22654bb8fd'),\n",
       "  AIMessage(content='', additional_kwargs={'tool_calls': [{'id': 'call_NOB64t62asbxVs6IQD5ByhPC', 'function': {'arguments': '{\"query\":\"UK GDP by year\"}', 'name': 'tavily_search_results_json'}, 'type': 'function'}], 'refusal': None}, response_metadata={'token_usage': {'completion_tokens': 21, 'prompt_tokens': 209, 'total_tokens': 230, 'completion_tokens_details': {'accepted_prediction_tokens': 0, 'audio_tokens': 0, 'reasoning_tokens': 0, 'rejected_prediction_tokens': 0}, 'prompt_tokens_details': {'audio_tokens': 0, 'cached_tokens': 0}}, 'model_name': 'gpt-3.5-turbo-0125', 'system_fingerprint': None, 'id': 'chatcmpl-BpFMvtWlMSLGNA32hZ7Oy7b157yMc', 'service_tier': 'default', 'finish_reason': 'tool_calls', 'logprobs': None}, id='run--6ce7111c-7a4f-4a49-9e71-10f03c4394fa-0', tool_calls=[{'name': 'tavily_search_results_json', 'args': {'query': 'UK GDP by year'}, 'id': 'call_NOB64t62asbxVs6IQD5ByhPC', 'type': 'tool_call'}], usage_metadata={'input_tokens': 209, 'output_tokens': 21, 'total_tokens': 230, 'input_token_details': {'audio': 0, 'cache_read': 0}, 'output_token_details': {'audio': 0, 'reasoning': 0}}),\n",
       "  ToolMessage(content='[{\"title\": \"United Kingdom GDP - Worldometer\", \"url\": \"https://www.worldometers.info/gdp/uk-gdp/\", \"content\": \"| Year | United Kingdom GDP |\\\\n| --- | --- |\\\\n| 1993 | 1,061,390,000,000 |\\\\n| 1994 | 1,140,490,000,000 |\\\\n| 1995 | 1,344,240,000,000 |\\\\n| 1996 | 1,419,650,000,000 |\\\\n| 1997 | 1,560,910,000,000 |\\\\n| 1998 | 1,653,690,000,000 |\\\\n| 1999 | 1,687,830,000,000 |\\\\n| 2000 | 1,665,530,000,000 |\\\\n| 2001 | 1,649,830,000,000 |\\\\n| 2002 | 1,785,730,000,000 |\\\\n| 2003 | 2,054,420,000,000 |\\\\n| 2004 | 2,421,530,000,000 |\\\\n| 2005 | 2,543,180,000,000 |\\\\n| 2006 | 2,708,440,000,000 |\\\\n| 2007 | 3,090,510,000,000 | [...] | Year | United Kingdom GDP Change % |\\\\n| --- | --- |\\\\n| 1993 | 2.49% |\\\\n| 1994 | 3.85% |\\\\n| 1995 | 2.53% |\\\\n| 1996 | 2.58% |\\\\n| 1997 | 4.92% |\\\\n| 1998 | 3.40% |\\\\n| 1999 | 3.06% |\\\\n| 2000 | 4.34% |\\\\n| 2001 | 2.57% |\\\\n| 2002 | 1.80% |\\\\n| 2003 | 3.15% |\\\\n| 2004 | 2.46% |\\\\n| 2005 | 2.73% |\\\\n| 2006 | 2.38% |\\\\n| 2007 | 2.62% |\\\\n| 2008 | \\\\\\\\-0.25% |\\\\n| 2009 | \\\\\\\\-4.62% |\\\\n| 2010 | 2.23% |\\\\n| 2011 | 1.14% |\\\\n| 2012 | 1.51% |\\\\n| 2013 | 1.80% |\\\\n| 2014 | 3.19% |\\\\n| 2015 | 2.22% |\\\\n| 2016 | 1.92% |\\\\n| 2017 | 2.66% |\\\\n| 2018 | 1.41% | [...] Nominal (current) Gross Domestic Product (GDP) of the United Kingdom is $3,380,850,000,000 (USD) as of 2023.\\\\n   Real GDP (constant, inflation adjusted) of the United Kingdom reached $3,234,500,000,000 in 2023.\\\\n   GDP Growth Rate in 2023 was 0.34%, representing a change of 10,950,000,000 US$ over 2022, when Real GDP was $3,223,550,000,000.\", \"score\": 0.8978479}, {\"title\": \"U.K. GDP | Historical Chart & Data - Macrotrends\", \"url\": \"https://www.macrotrends.net/global-metrics/countries/gbr/united-kingdom/gdp-gross-domestic-product\", \"content\": \"| U.K. GDP - Historical Data |\\\\n| --- |\\\\n| Year | GDP | Per Capita | Growth |\\\\n| --- | --- | --- | --- |\\\\n| 2023 | $3,340.03B | $48,867 | 0.10% |\\\\n| 2022 | $3,088.84B | $45,564 | 4.35% |\\\\n| 2021 | $3,141.51B | $46,870 | 8.67% |\\\\n| 2020 | $2,697.81B | $40,217 | \\\\\\\\-10.36% |\\\\n| 2019 | $2,851.41B | $42,663 | 1.64% |\\\\n| 2018 | $2,871.34B | $43,204 | 1.40% |\\\\n| 2017 | $2,680.15B | $40,572 | 2.66% |\\\\n| 2016 | $2,689.11B | $40,985 | 1.92% |\\\\n| 2015 | $2,927.91B | $44,964 | 2.22% | [...] U.K. gdp for 2023 was $3,340.03B, a 8.13% increase from 2022.\\\\n   U.K. gdp for 2022 was $3,088.84B, a 1.68% decline from 2021.\\\\n   U.K. gdp for 2021 was $3,141.51B, a 16.45% increase from 2020.\\\\n   U.K. gdp for 2020 was $2,697.81B, a 5.39% decline from 2019.\\\\n\\\\n \\\\n\\\\n  Download Historical Data     Save as Image\\\\n\\\\nData Source: World Bank  \\\\n  \\\\nMLA Citation: [...] | 2014 | $3,064.71B | $47,440 | 3.20% |\\\\n| 2013 | $2,784.85B | $43,426 | 1.79% |\\\\n| 2012 | $2,707.09B | $42,497 | 1.51% |\\\\n| 2011 | $2,663.81B | $42,110 | 1.15% |\\\\n| 2010 | $2,485.48B | $39,599 | 2.24% |\\\\n| 2009 | $2,412.84B | $38,744 | \\\\\\\\-4.62% |\\\\n| 2008 | $2,929.41B | $47,396 | \\\\\\\\-0.23% |\\\\n| 2007 | $3,090.51B | $50,398 | 2.62% |\\\\n| 2006 | $2,708.44B | $44,512 | 2.39% |\\\\n| 2005 | $2,543.18B | $42,105 | 2.74% |\\\\n| 2004 | $2,421.53B | $40,367 | 2.43% |\\\\n| 2003 | $2,054.42B | $34,443 | 3.15% |\", \"score\": 0.8548001}, {\"title\": \"United Kingdom GDP - Trading Economics\", \"url\": \"https://tradingeconomics.com/united-kingdom/gdp\", \"content\": \"##### Members\\\\n\\\\n##### \\\\n\\\\n# United Kingdom GDP\\\\n\\\\n## The Gross Domestic Product (GDP) in the United Kingdom was worth 3380.85 billion US dollars in 2023, according to official data from the World Bank. The GDP value of the United Kingdom represents 3.21 percent of the world economy. source: World Bank [...] ## GDP in the United Kingdom averaged 1346.43 USD Billion from 1960 until 2023, reaching an all time high of 3380.85 USD Billion in 2023 and a record low of 73.23 USD Billion in 1960. This page provides the latest reported value for - United Kingdom GDP - plus previous releases, historical high and low, short-term forecast and long-term prediction, economic calendar, survey consensus and news. United Kingdom GDP - values, historical data and charts - was last updated on May of 2025. [...] ### GDP in the United Kingdom is expected to reach 3415.00 USD Billion by the end of 2025, according to Trading Economics global macro models and analysts expectations. In the long-term, the United Kingdom GDP is projected to trend around 3456.00 USD Billion in 2026 and 3514.00 USD Billion in 2027, according to our econometric models.\", \"score\": 0.82254606}, {\"title\": \"UK GDP 2024 - Statista\", \"url\": \"https://www.statista.com/statistics/281744/gdp-of-the-united-kingdom/\", \"content\": \"# GDP of the UK 1948-2024\\\\n\\\\nThe gross domestic product of the United Kingdom was around 2.56 trillion British pounds, an increase when compared to the previous year, when UK GDP amounted to about 2.54 trillion pounds. The significant drop in GDP visible in 2020 was due to the COVID-19 pandemic, with the smaller declines in 2008 and 2009 because of the global financial crisis of the late 2000s.\\\\n\\\\n## Low growth problem in the UK [...] | 2004 | 1,982,500 |\\\\n| 2003 | 1,934,941 |\\\\n| 2002 | 1,875,809 |\\\\n| 2001 | 1,842,720 |\\\\n| 2000 | 1,796,500 |\\\\n| 1999 | 1,721,748 |\\\\n| 1998 | 1,670,654 |\\\\n| 1997 | 1,615,678 |\\\\n| 1996 | 1,539,846 |\\\\n| 1995 | 1,501,088 |\\\\n| 1994 | 1,466,101 |\\\\n| 1993 | 1,417,763 |\\\\n| 1992 | 1,386,437 |\\\\n| 1991 | 1,383,043 |\\\\n| 1990 | 1,402,748 |\\\\n| 1989 | 1,394,928 |\\\\n| 1988 | 1,362,204 |\\\\n| 1987 | 1,292,703 |\\\\n| 1986 | 1,226,237 |\\\\n| 1985 | 1,189,278 |\\\\n| 1984 | 1,142,579 |\\\\n| 1983 | 1,117,759 |\\\\n| 1982 | 1,073,055 | [...] | Characteristic | GDP in million GDP (CVM 2022)\\\\\\\\ |\\\\n| --- | --- |\\\\n| 2024 | 2,564,378 |\\\\n| 2023 | 2,536,460 |\\\\n| 2022 | 2,526,428 |\\\\n| 2021 | 2,409,815 |\\\\n| 2020 | 2,219,474 |\\\\n| 2019 | 2,474,245 |\\\\n| 2018 | 2,434,694 |\\\\n| 2017 | 2,400,956 |\\\\n| 2016 | 2,338,825 |\\\\n| 2015 | 2,294,727 |\\\\n| 2014 | 2,244,827 |\\\\n| 2013 | 2,175,333 |\\\\n| 2012 | 2,136,871 |\\\\n| 2011 | 2,105,105 |\\\\n| 2010 | 2,081,411 |\\\\n| 2009 | 2,035,942 |\\\\n| 2008 | 2,134,571 |\\\\n| 2007 | 2,139,895 |\\\\n| 2006 | 2,085,162 |\\\\n| 2005 | 2,036,675 |\", \"score\": 0.80844593}, {\"title\": \"Economy of the United Kingdom - Wikipedia\", \"url\": \"https://en.wikipedia.org/wiki/Economy_of_the_United_Kingdom\", \"content\": \"| Year | GDP (in bn. US$PPP) | GDP per capita (in US$ PPP) | GDP (in bn. US$ nominal) | GDP per capita (in US$ nominal) | GDP growth (real) | In\\xadflation rate (in%) | Unem\\xadploy\\xadment (in%) | Govern\\xadment debt (in% of GDP) |\\\\n| --- | --- | --- | --- | --- | --- | --- | --- | --- |\\\\n| 1980 | 511.8 | 9,085.1 | 603.6 | 10,715.4 | Image 47: Decrease-2.1% | Image 48: Negative increase16.8% | 7.1% | 42.6% | [...] | Year | £/US$ | US$/£ | C.var |  | £/XEU | XEU/£ | C.var |\\\\n| --- | --- | --- | --- | --- | --- | --- | --- |\\\\n| 1990 | £0.5633 | $1.775 |  |  | £0.7161 | ₠1.397 |  |\\\\n| 1991 | £0.5675 | $1.762 |  |  | £0.7022 | ₠1.424 |  |\\\\n| 1992 | £0.5699 | $1.755 |  |  | £0.7365 | ₠1.358 |  |\\\\n| 1993 | £0.6663 | $1.501 |  |  | £0.7795 | ₠1.283 |  |\\\\n| 1994 | £0.6536 | $1.53 |  |  | £0.7742 | ₠1.292 |  |\\\\n| 1995 | £0.6338 | $1.578 |  |  | £0.82 | ₠1.22 |  |\\\\n| 1996 | £0.6411 | $1.56 |  |  | £0.8029 | ₠1.245 |  |\", \"score\": 0.7318455}]', name='tavily_search_results_json', id='b0d53c52-13b3-41f7-85e3-05936937118d', tool_call_id='call_NOB64t62asbxVs6IQD5ByhPC', artifact={'query': 'UK GDP by year', 'follow_up_questions': None, 'answer': None, 'images': [], 'results': [{'url': 'https://www.worldometers.info/gdp/uk-gdp/', 'title': 'United Kingdom GDP - Worldometer', 'content': '| Year | United Kingdom GDP |\\n| --- | --- |\\n| 1993 | 1,061,390,000,000 |\\n| 1994 | 1,140,490,000,000 |\\n| 1995 | 1,344,240,000,000 |\\n| 1996 | 1,419,650,000,000 |\\n| 1997 | 1,560,910,000,000 |\\n| 1998 | 1,653,690,000,000 |\\n| 1999 | 1,687,830,000,000 |\\n| 2000 | 1,665,530,000,000 |\\n| 2001 | 1,649,830,000,000 |\\n| 2002 | 1,785,730,000,000 |\\n| 2003 | 2,054,420,000,000 |\\n| 2004 | 2,421,530,000,000 |\\n| 2005 | 2,543,180,000,000 |\\n| 2006 | 2,708,440,000,000 |\\n| 2007 | 3,090,510,000,000 | [...] | Year | United Kingdom GDP Change % |\\n| --- | --- |\\n| 1993 | 2.49% |\\n| 1994 | 3.85% |\\n| 1995 | 2.53% |\\n| 1996 | 2.58% |\\n| 1997 | 4.92% |\\n| 1998 | 3.40% |\\n| 1999 | 3.06% |\\n| 2000 | 4.34% |\\n| 2001 | 2.57% |\\n| 2002 | 1.80% |\\n| 2003 | 3.15% |\\n| 2004 | 2.46% |\\n| 2005 | 2.73% |\\n| 2006 | 2.38% |\\n| 2007 | 2.62% |\\n| 2008 | \\\\-0.25% |\\n| 2009 | \\\\-4.62% |\\n| 2010 | 2.23% |\\n| 2011 | 1.14% |\\n| 2012 | 1.51% |\\n| 2013 | 1.80% |\\n| 2014 | 3.19% |\\n| 2015 | 2.22% |\\n| 2016 | 1.92% |\\n| 2017 | 2.66% |\\n| 2018 | 1.41% | [...] Nominal (current) Gross Domestic Product (GDP) of the United Kingdom is $3,380,850,000,000 (USD) as of 2023.\\n   Real GDP (constant, inflation adjusted) of the United Kingdom reached $3,234,500,000,000 in 2023.\\n   GDP Growth Rate in 2023 was 0.34%, representing a change of 10,950,000,000 US$ over 2022, when Real GDP was $3,223,550,000,000.', 'score': 0.8978479, 'raw_content': None}, {'url': 'https://www.macrotrends.net/global-metrics/countries/gbr/united-kingdom/gdp-gross-domestic-product', 'title': 'U.K. GDP | Historical Chart & Data - Macrotrends', 'content': '| U.K. GDP - Historical Data |\\n| --- |\\n| Year | GDP | Per Capita | Growth |\\n| --- | --- | --- | --- |\\n| 2023 | $3,340.03B | $48,867 | 0.10% |\\n| 2022 | $3,088.84B | $45,564 | 4.35% |\\n| 2021 | $3,141.51B | $46,870 | 8.67% |\\n| 2020 | $2,697.81B | $40,217 | \\\\-10.36% |\\n| 2019 | $2,851.41B | $42,663 | 1.64% |\\n| 2018 | $2,871.34B | $43,204 | 1.40% |\\n| 2017 | $2,680.15B | $40,572 | 2.66% |\\n| 2016 | $2,689.11B | $40,985 | 1.92% |\\n| 2015 | $2,927.91B | $44,964 | 2.22% | [...] U.K. gdp for 2023 was $3,340.03B, a 8.13% increase from 2022.\\n   U.K. gdp for 2022 was $3,088.84B, a 1.68% decline from 2021.\\n   U.K. gdp for 2021 was $3,141.51B, a 16.45% increase from 2020.\\n   U.K. gdp for 2020 was $2,697.81B, a 5.39% decline from 2019.\\n\\n \\n\\n  Download Historical Data     Save as Image\\n\\nData Source: World Bank  \\n  \\nMLA Citation: [...] | 2014 | $3,064.71B | $47,440 | 3.20% |\\n| 2013 | $2,784.85B | $43,426 | 1.79% |\\n| 2012 | $2,707.09B | $42,497 | 1.51% |\\n| 2011 | $2,663.81B | $42,110 | 1.15% |\\n| 2010 | $2,485.48B | $39,599 | 2.24% |\\n| 2009 | $2,412.84B | $38,744 | \\\\-4.62% |\\n| 2008 | $2,929.41B | $47,396 | \\\\-0.23% |\\n| 2007 | $3,090.51B | $50,398 | 2.62% |\\n| 2006 | $2,708.44B | $44,512 | 2.39% |\\n| 2005 | $2,543.18B | $42,105 | 2.74% |\\n| 2004 | $2,421.53B | $40,367 | 2.43% |\\n| 2003 | $2,054.42B | $34,443 | 3.15% |', 'score': 0.8548001, 'raw_content': None}, {'url': 'https://tradingeconomics.com/united-kingdom/gdp', 'title': 'United Kingdom GDP - Trading Economics', 'content': '##### Members\\n\\n##### \\n\\n# United Kingdom GDP\\n\\n## The Gross Domestic Product (GDP) in the United Kingdom was worth 3380.85 billion US dollars in 2023, according to official data from the World Bank. The GDP value of the United Kingdom represents 3.21 percent of the world economy. source: World Bank [...] ## GDP in the United Kingdom averaged 1346.43 USD Billion from 1960 until 2023, reaching an all time high of 3380.85 USD Billion in 2023 and a record low of 73.23 USD Billion in 1960. This page provides the latest reported value for - United Kingdom GDP - plus previous releases, historical high and low, short-term forecast and long-term prediction, economic calendar, survey consensus and news. United Kingdom GDP - values, historical data and charts - was last updated on May of 2025. [...] ### GDP in the United Kingdom is expected to reach 3415.00 USD Billion by the end of 2025, according to Trading Economics global macro models and analysts expectations. In the long-term, the United Kingdom GDP is projected to trend around 3456.00 USD Billion in 2026 and 3514.00 USD Billion in 2027, according to our econometric models.', 'score': 0.82254606, 'raw_content': None}, {'url': 'https://www.statista.com/statistics/281744/gdp-of-the-united-kingdom/', 'title': 'UK GDP 2024 - Statista', 'content': '# GDP of the UK 1948-2024\\n\\nThe gross domestic product of the United Kingdom was around 2.56 trillion British pounds, an increase when compared to the previous year, when UK GDP amounted to about 2.54 trillion pounds. The significant drop in GDP visible in 2020 was due to the COVID-19 pandemic, with the smaller declines in 2008 and 2009 because of the global financial crisis of the late 2000s.\\n\\n## Low growth problem in the UK [...] | 2004 | 1,982,500 |\\n| 2003 | 1,934,941 |\\n| 2002 | 1,875,809 |\\n| 2001 | 1,842,720 |\\n| 2000 | 1,796,500 |\\n| 1999 | 1,721,748 |\\n| 1998 | 1,670,654 |\\n| 1997 | 1,615,678 |\\n| 1996 | 1,539,846 |\\n| 1995 | 1,501,088 |\\n| 1994 | 1,466,101 |\\n| 1993 | 1,417,763 |\\n| 1992 | 1,386,437 |\\n| 1991 | 1,383,043 |\\n| 1990 | 1,402,748 |\\n| 1989 | 1,394,928 |\\n| 1988 | 1,362,204 |\\n| 1987 | 1,292,703 |\\n| 1986 | 1,226,237 |\\n| 1985 | 1,189,278 |\\n| 1984 | 1,142,579 |\\n| 1983 | 1,117,759 |\\n| 1982 | 1,073,055 | [...] | Characteristic | GDP in million GDP (CVM 2022)\\\\ |\\n| --- | --- |\\n| 2024 | 2,564,378 |\\n| 2023 | 2,536,460 |\\n| 2022 | 2,526,428 |\\n| 2021 | 2,409,815 |\\n| 2020 | 2,219,474 |\\n| 2019 | 2,474,245 |\\n| 2018 | 2,434,694 |\\n| 2017 | 2,400,956 |\\n| 2016 | 2,338,825 |\\n| 2015 | 2,294,727 |\\n| 2014 | 2,244,827 |\\n| 2013 | 2,175,333 |\\n| 2012 | 2,136,871 |\\n| 2011 | 2,105,105 |\\n| 2010 | 2,081,411 |\\n| 2009 | 2,035,942 |\\n| 2008 | 2,134,571 |\\n| 2007 | 2,139,895 |\\n| 2006 | 2,085,162 |\\n| 2005 | 2,036,675 |', 'score': 0.80844593, 'raw_content': None}, {'url': 'https://en.wikipedia.org/wiki/Economy_of_the_United_Kingdom', 'title': 'Economy of the United Kingdom - Wikipedia', 'content': '| Year | GDP (in bn. US$PPP) | GDP per capita (in US$ PPP) | GDP (in bn. US$ nominal) | GDP per capita (in US$ nominal) | GDP growth (real) | In\\xadflation rate (in%) | Unem\\xadploy\\xadment (in%) | Govern\\xadment debt (in% of GDP) |\\n| --- | --- | --- | --- | --- | --- | --- | --- | --- |\\n| 1980 | 511.8 | 9,085.1 | 603.6 | 10,715.4 | Image 47: Decrease-2.1% | Image 48: Negative increase16.8% | 7.1% | 42.6% | [...] | Year | £/US$ | US$/£ | C.var |  | £/XEU | XEU/£ | C.var |\\n| --- | --- | --- | --- | --- | --- | --- | --- |\\n| 1990 | £0.5633 | $1.775 |  |  | £0.7161 | ₠1.397 |  |\\n| 1991 | £0.5675 | $1.762 |  |  | £0.7022 | ₠1.424 |  |\\n| 1992 | £0.5699 | $1.755 |  |  | £0.7365 | ₠1.358 |  |\\n| 1993 | £0.6663 | $1.501 |  |  | £0.7795 | ₠1.283 |  |\\n| 1994 | £0.6536 | $1.53 |  |  | £0.7742 | ₠1.292 |  |\\n| 1995 | £0.6338 | $1.578 |  |  | £0.82 | ₠1.22 |  |\\n| 1996 | £0.6411 | $1.56 |  |  | £0.8029 | ₠1.245 |  |', 'score': 0.7318455, 'raw_content': None}], 'response_time': 3.48}),\n",
       "  AIMessage(content=\"I found data on the UK's GDP over the past few years:\\n\\n- 2023: $3,340.03 billion\\n- 2022: $3,088.84 billion\\n- 2021: $3,141.51 billion\\n\\nNow, I will create a line chart to visualize this data.\", additional_kwargs={'tool_calls': [{'id': 'call_dVXqR4ZDYdJZ7FDPLPHwEztP', 'function': {'arguments': '{\"query\": \"line chart maker\"}', 'name': 'tavily_search_results_json'}, 'type': 'function'}, {'id': 'call_svtcULMJLwm0i4bJU5ABuINY', 'function': {'arguments': '{\"query\": \"UK GDP over the past 3 years\"}', 'name': 'tavily_search_results_json'}, 'type': 'function'}], 'refusal': None}, response_metadata={'token_usage': {'completion_tokens': 127, 'prompt_tokens': 3348, 'total_tokens': 3475, 'completion_tokens_details': {'accepted_prediction_tokens': 0, 'audio_tokens': 0, 'reasoning_tokens': 0, 'rejected_prediction_tokens': 0}, 'prompt_tokens_details': {'audio_tokens': 0, 'cached_tokens': 0}}, 'model_name': 'gpt-3.5-turbo-0125', 'system_fingerprint': None, 'id': 'chatcmpl-BpFN0cWJHDx0ySN3HBKUd7wCnpUJC', 'service_tier': 'default', 'finish_reason': 'tool_calls', 'logprobs': None}, id='run--5e9046e8-6910-487e-9fcf-222c45111471-0', tool_calls=[{'name': 'tavily_search_results_json', 'args': {'query': 'line chart maker'}, 'id': 'call_dVXqR4ZDYdJZ7FDPLPHwEztP', 'type': 'tool_call'}, {'name': 'tavily_search_results_json', 'args': {'query': 'UK GDP over the past 3 years'}, 'id': 'call_svtcULMJLwm0i4bJU5ABuINY', 'type': 'tool_call'}], usage_metadata={'input_tokens': 3348, 'output_tokens': 127, 'total_tokens': 3475, 'input_token_details': {'audio': 0, 'cache_read': 0}, 'output_token_details': {'audio': 0, 'reasoning': 0}}),\n",
       "  ToolMessage(content='[{\"title\": \"Free Line Graph Maker - Create Line Chart Online - Draxlr\", \"url\": \"https://www.draxlr.com/tools/line-chart-generator/\", \"content\": \"Whether you\\'re a freelancer, a team leader, or need to showcase data across your entire company, Our free line chart maker allows you to easily expand your data set by adding an unlimited number of rows and columns, allowing you to create the most accurate and detailed line chart that is possible.\\\\n\\\\n### Seamless CSV file integration [...] A well-titled graph with clearly labeled X-axis and Y-axis is crucial for effective data communication. With our free line chart maker, you can easily add these elements to give an immediate overview of the chart’s purpose and ensure that viewers can accurately interpret the data being displayed. These simple additions can significantly enhance the readability and professionalism of your line charts, making them more impactful in presentations and reports. By providing clear and concise titles [...] Draxlr’s free line chart generator makes it simple to upload your CSV files. The line chart maker transforms your raw data into clear, accurate visualizations, so you can see your data trends in a way that’s easy to interpret and share.\\\\n\\\\n### Tailor line colors individually\", \"score\": 0.8812988}, {\"title\": \"10 Great Line Graph Makers to Use in 2025 - GitMind\", \"url\": \"https://gitmind.com/line-graph-maker.html\", \"content\": \"Another tool that can be used to make line graph is RapidTables. This line chart maker is free to use and is available online. ChartGo is a similar tool that can also generate line charts. Aside from line graph, you can also use it to make pie charts, area chart and bar graph which is a really convenient feature. On the other hand, as a free line graph maker, Meta-Chart is decent enough to no fall behind in the rankings. However, if you only need a basic line chart maker, then the free version will suffice. Aside from that, this free line graph maker can be used on both desktop and online. One of these tools is the line graph maker.\", \"score\": 0.8377398}, {\"title\": \"Line Graph Maker | Create a line chart - RapidTables.com\", \"url\": \"https://www.rapidtables.com/tools/line-graph.html\", \"content\": \"Line Graph Maker | Create a line chart\\\\n=============== \\\\n\\\\nRapidTables\\\\n\\\\n Image 1 Search Image 2 Share\\\\n\\\\nHome›Tools›Line graph maker\\\\n\\\\nLine Graph Maker\\\\n================\\\\n\\\\n    Image 3 Line Graph\\\\n    Image 4 Bar Graph\\\\n    Image 5 Pie Chart\\\\n    Image 6 XY Scatter Plot\\\\n    Image 7 Table Chart\\\\n\\\\n  \\\\n\\\\nGraph title\\\\n\\\\nHorizontal axis\\\\n\\\\n    \\\\n\\\\nVertical axis\\\\n\\\\n    \\\\n\\\\nHoriz. data type\\\\n\\\\nData labels\\\\n\\\\nData values\\\\n\\\\nData range\\\\n\\\\n  \\\\n\\\\nNumber of lines\\\\n\\\\nLine1 data values\\\\n\\\\n \\\\n\\\\nLine2 data values\\\\n\\\\n \\\\n\\\\nLine3 data values [...] How to create a line graph\\\\n--------------------------\\\\n\\\\n   Enter the title, horizontal axis and vertical axis labels of the graph.\\\\n   Enter data label names or values or range.\\\\n   Set number of lines.\\\\n   For each line, enter data values with space delimiter, label and color.\\\\n   Check curved line if needed.\\\\n   Press the Draw button to generate the line graph.\\\\n   Press the × reset button to set default values.\\\\n\\\\n  \\\\n\\\\n  \\\\n\\\\nSee also\\\\n-------- [...] XY Scatter plot maker\\\\n   Bar graph maker\\\\n   Pie chart maker\\\\n   Table chart maker\\\\n\\\\nWrite how to improve this page\\\\n------------------------------\\\\n\\\\nSubmit Feedback\\\\n\\\\n##### ONLINE TOOLS\\\\n\\\\n   Bar graph maker\\\\n   Chart maker\\\\n   Line graph maker\\\\n   Online Notepad\\\\n   Online Mirror\\\\n   Password generator\\\\n   Pie chart maker\\\\n   Scatter plot maker\\\\n   Online screenshot\\\\n   Table chart maker\\\\n\\\\n##### RAPID TABLES\\\\n\\\\n   Recommend Site\\\\n   Send Feedback\\\\n   About\", \"score\": 0.769306}, {\"title\": \"Line Graph Maker | Create a line chart for free\", \"url\": \"https://linegraphmaker.co/\", \"content\": \"Line graph maker online. Create a line graph for free with easy to use tools and download the line graph as jpg or png file. Customize line graph according\", \"score\": 0.75377536}, {\"title\": \"Free Online Line Graph Maker - Canva\", \"url\": \"https://www.canva.com/graphs/line-graphs/\", \"content\": \"Create custom line graphs with our free line graph creator. Easy-to-use tools, free templates, convenient download & sharing features.\", \"score\": 0.7173491}]', name='tavily_search_results_json', id='2a1ca5d4-bb05-452e-ad25-494eeff0d65b', tool_call_id='call_dVXqR4ZDYdJZ7FDPLPHwEztP', artifact={'query': 'line chart maker', 'follow_up_questions': None, 'answer': None, 'images': [], 'results': [{'url': 'https://www.draxlr.com/tools/line-chart-generator/', 'title': 'Free Line Graph Maker - Create Line Chart Online - Draxlr', 'content': \"Whether you're a freelancer, a team leader, or need to showcase data across your entire company, Our free line chart maker allows you to easily expand your data set by adding an unlimited number of rows and columns, allowing you to create the most accurate and detailed line chart that is possible.\\n\\n### Seamless CSV file integration [...] A well-titled graph with clearly labeled X-axis and Y-axis is crucial for effective data communication. With our free line chart maker, you can easily add these elements to give an immediate overview of the chart’s purpose and ensure that viewers can accurately interpret the data being displayed. These simple additions can significantly enhance the readability and professionalism of your line charts, making them more impactful in presentations and reports. By providing clear and concise titles [...] Draxlr’s free line chart generator makes it simple to upload your CSV files. The line chart maker transforms your raw data into clear, accurate visualizations, so you can see your data trends in a way that’s easy to interpret and share.\\n\\n### Tailor line colors individually\", 'score': 0.8812988, 'raw_content': None}, {'url': 'https://gitmind.com/line-graph-maker.html', 'title': '10 Great Line Graph Makers to Use in 2025 - GitMind', 'content': 'Another tool that can be used to make line graph is RapidTables. This line chart maker is free to use and is available online. ChartGo is a similar tool that can also generate line charts. Aside from line graph, you can also use it to make pie charts, area chart and bar graph which is a really convenient feature. On the other hand, as a free line graph maker, Meta-Chart is decent enough to no fall behind in the rankings. However, if you only need a basic line chart maker, then the free version will suffice. Aside from that, this free line graph maker can be used on both desktop and online. One of these tools is the line graph maker.', 'score': 0.8377398, 'raw_content': None}, {'url': 'https://www.rapidtables.com/tools/line-graph.html', 'title': 'Line Graph Maker | Create a line chart - RapidTables.com', 'content': 'Line Graph Maker | Create a line chart\\n=============== \\n\\nRapidTables\\n\\n Image 1 Search Image 2 Share\\n\\nHome›Tools›Line graph maker\\n\\nLine Graph Maker\\n================\\n\\n    Image 3 Line Graph\\n    Image 4 Bar Graph\\n    Image 5 Pie Chart\\n    Image 6 XY Scatter Plot\\n    Image 7 Table Chart\\n\\n  \\n\\nGraph title\\n\\nHorizontal axis\\n\\n    \\n\\nVertical axis\\n\\n    \\n\\nHoriz. data type\\n\\nData labels\\n\\nData values\\n\\nData range\\n\\n  \\n\\nNumber of lines\\n\\nLine1 data values\\n\\n \\n\\nLine2 data values\\n\\n \\n\\nLine3 data values [...] How to create a line graph\\n--------------------------\\n\\n   Enter the title, horizontal axis and vertical axis labels of the graph.\\n   Enter data label names or values or range.\\n   Set number of lines.\\n   For each line, enter data values with space delimiter, label and color.\\n   Check curved line if needed.\\n   Press the Draw button to generate the line graph.\\n   Press the × reset button to set default values.\\n\\n  \\n\\n  \\n\\nSee also\\n-------- [...] XY Scatter plot maker\\n   Bar graph maker\\n   Pie chart maker\\n   Table chart maker\\n\\nWrite how to improve this page\\n------------------------------\\n\\nSubmit Feedback\\n\\n##### ONLINE TOOLS\\n\\n   Bar graph maker\\n   Chart maker\\n   Line graph maker\\n   Online Notepad\\n   Online Mirror\\n   Password generator\\n   Pie chart maker\\n   Scatter plot maker\\n   Online screenshot\\n   Table chart maker\\n\\n##### RAPID TABLES\\n\\n   Recommend Site\\n   Send Feedback\\n   About', 'score': 0.769306, 'raw_content': None}, {'url': 'https://linegraphmaker.co/', 'title': 'Line Graph Maker | Create a line chart for free', 'content': 'Line graph maker online. Create a line graph for free with easy to use tools and download the line graph as jpg or png file. Customize line graph according', 'score': 0.75377536, 'raw_content': None}, {'url': 'https://www.canva.com/graphs/line-graphs/', 'title': 'Free Online Line Graph Maker - Canva', 'content': 'Create custom line graphs with our free line graph creator. Easy-to-use tools, free templates, convenient download & sharing features.', 'score': 0.7173491, 'raw_content': None}], 'response_time': 2.89}),\n",
       "  ToolMessage(content='[{\"title\": \"United Kingdom GDP - Worldometer\", \"url\": \"https://www.worldometers.info/gdp/uk-gdp/\", \"content\": \"GDP per Capita in the United Kingdom (with a population of 68,682,962 people) was $47,093 in 2023, a decrease of $187 from $47,280 in 2022; this represents a change of −0.4% in GDP per capita. [...] Nominal (current) Gross Domestic Product (GDP) of the United Kingdom is $3,380,850,000,000 (USD) as of 2023.\\\\n   Real GDP (constant, inflation adjusted) of the United Kingdom reached $3,234,500,000,000 in 2023.\\\\n   GDP Growth Rate in 2023 was 0.34%, representing a change of 10,950,000,000 US$ over 2022, when Real GDP was $3,223,550,000,000. [...] | Year | GDP Nominal  \\\\n(Current USD) | GDP Real  \\\\n(Inflation adj.) | GDP  \\\\nChange | GDP per  \\\\ncapita | Pop.  \\\\nChange | Population |\\\\n| --- | --- | --- | --- | --- | --- | --- |\\\\n| 2023 | $3,380,850,000,000 | $3,234,500,000,000 | 0.34% | $47,093 | 0.74% | 68,682,962 |\\\\n| 2022 | $3,114,040,000,000 | $3,223,550,000,000 | 4.84% | $47,280 | 0.75% | 68,179,315 |\\\\n| 2021 | $3,143,320,000,000 | $3,074,760,000,000 | 8.58% | $45,438 | 0.47% | 67,668,792 |\", \"score\": 0.8830044}, {\"title\": \"GDP monthly estimate, UK: April 2025 - Office for National Statistics\", \"url\": \"https://www.ons.gov.uk/economy/grossdomesticproductgdp/bulletins/gdpmonthlyestimateuk/april2025\", \"content\": \"More about economy, business and jobs\\\\n\\\\n    Explore the latest trends in employment, prices and trade in our economic dashboard. \\\\n    View all economic data. \\\\n\\\\nLooking over the longer term, GDP is estimated to have grown by 1.1% in the three months to April 2025, compared with the three months to April 2024. Over this period, services grew by 1.3%, while production fell by 0.2% and construction output rose by 2.0%. [...] Apr 2025 Jul 2023 Oct 2021 Jan 2020 Apr 2018 Jul 2016 Oct 2014 Jan 2013 Apr 2011 Jul 2009 Oct 2007\\\\n\\\\n0 70 75 80 85 90 95 100 105\\\\n\\\\nIndex, 2022 = 100\\\\n\\\\n#### Source: GDP monthly estimate from the Office for National Statistics\\\\n\\\\n#### Download this chart Figure 1: UK GDP is estimated to have fallen by 0.3% in April 2025 but grew by 0.7% in the three months to April 2025\\\\n\\\\nImage.csv.xls [...] Note that early estimates of GDP are subject to revision in future publications (both positive and negative). Please see our Why GDP figures are revised article for more information. In this release, no previously published data are open for revision.\\\\n\\\\n### Figure 1: UK GDP is estimated to have fallen by 0.3% in April 2025 but grew by 0.7% in the three months to April 2025\\\\n\\\\n#### Monthly index, UK, January 2007 to April 2025\", \"score\": 0.78886026}, {\"title\": \"Gross domestic product (GDP): Economic indicators - House of ...\", \"url\": \"https://commonslibrary.parliament.uk/research-briefings/sn02783/\", \"content\": \"Economic indicators are quick-read summaries of the latest data focusing on different aspects of the UK economy. The full suite of indicators can be found on the mainEconomic Indicators page.\\\\n\\\\nGDP is estimated to have grown by 0.7% in January-March 2025 (Quarter 1) compared to the previous three-month period (October to December 2024). This followed growth of 0.1% in October-December.\", \"score\": 0.78154784}, {\"title\": \"Economy of the United Kingdom - Wikipedia\", \"url\": \"https://en.wikipedia.org/wiki/Economy_of_the_United_Kingdom\", \"content\": \"| 2016 | Image 329: Increase2,928.3 | Image 330: Increase44,606.1 | Image 331: Decrease2,733.0 | Image 332: Decrease41,630.5 | Image 333: Increase1.9% | Image 334: Increase0.7% | Image 335: Positive decrease4.9% | Image 336: Positive decrease85.8% |\\\\n| 2017 | Image 337: Increase3,074.4 | Image 338: Increase46,553.5 | Image 339: Decrease2,701.3 | Image 340: Decrease40,903.5 | Image 341: Increase2.7% | Image 342: Increase2.7% | Image 343: Positive decrease4.4% | Image 344: Positive decrease85.1% | [...] | 2018 | Image 345: Increase3,199.8 | Image 346: Increase48,163.7 | Image 347: Increase2,904.5 | Image 348: Increase43,719.0 | Image 349: Increase1.4% | Image 350: Increase2.5% | Image 351: Positive decrease4.1% | Image 352: Positive decrease84.5% |\\\\n| 2019 | Image 353: Increase3,311.5 | Image 354: Increase49,575.6 | Image 355: Decrease2,880.4 | Image 356: Decrease43,121.1 | Image 357: Increase1.6% | Image 358: Increase1.8% | Image 359: Positive decrease3.8% | Image 360: Positive decrease83.9% | [...] | 2010 | £0.6474 | $1.546 | 1.27% |  | £0.8586 | €1.166 | 3.83% |\\\\n| 2011 | £0.6231 | $1.605 | 3.81% |  | £0.8684 | €1.151 | 1.286% |\\\\n| 2012 | £0.6310 | $1.585 | 2.74% |  | £0.8112 | €1.233 | 0.712% |\\\\n| 2013 | £0.6650( | $1.503 | 5.17% |  | £0.8496( | €1.177 | 4.54% |\\\\n| 2014 | £0.6320( | $1.582 | 5.25% |  | £0.8060( | €1.240 | 5.35% |\\\\n| 2015 | £0.6810( | $1.468 | 7.20% |  | £0.7262( | €1.377 | 11.04% |\\\\n| 2016 | £0.770( | $1.299 |  |  | £0.8193( | €1.2242 |  |\", \"score\": 0.7795405}, {\"title\": \"UK GDP growth 2024 - Statista\", \"url\": \"https://www.statista.com/statistics/281734/gdp-growth-in-the-united-kingdom-uk/\", \"content\": \"Learn more about how Statista can support your business.\\\\n\\\\nRequest webinar\\\\n\\\\nOffice for National Statistics (UK). (March 28, 2025). Annual growth of gross domestic product in the United Kingdom from 1949 to 2024 \\\\\\\\[Graph\\\\\\\\]. In Statista. Retrieved May 09, 2025, from \\\\n\\\\nOffice for National Statistics (UK). \\\\\"Annual growth of gross domestic product in the United Kingdom from 1949 to 2024.\\\\\" Chart. March 28, 2025. Statista. Accessed May 09, 2025. [...] Office for National Statistics (UK). (2025). Annual growth of gross domestic product in the United Kingdom from 1949 to 2024. Statista. Statista Inc.. Accessed: May 09, 2025. \\\\n\\\\nOffice for National Statistics (UK). \\\\\"Annual Growth of Gross Domestic Product in The United Kingdom from 1949 to 2024.\\\\\" Statista, Statista Inc., 28 Mar 2025, \\\\n\\\\nOffice for National Statistics (UK), Annual growth of gross domestic product in the United Kingdom from 1949 to 2024 Statista,  (last visited May 09, 2025)\", \"score\": 0.77650476}]', name='tavily_search_results_json', id='d5640ac7-d29e-4f57-940e-f69f22067ee5', tool_call_id='call_svtcULMJLwm0i4bJU5ABuINY', artifact={'query': 'UK GDP over the past 3 years', 'follow_up_questions': None, 'answer': None, 'images': [], 'results': [{'url': 'https://www.worldometers.info/gdp/uk-gdp/', 'title': 'United Kingdom GDP - Worldometer', 'content': 'GDP per Capita in the United Kingdom (with a population of 68,682,962 people) was $47,093 in 2023, a decrease of $187 from $47,280 in 2022; this represents a change of −0.4% in GDP per capita. [...] Nominal (current) Gross Domestic Product (GDP) of the United Kingdom is $3,380,850,000,000 (USD) as of 2023.\\n   Real GDP (constant, inflation adjusted) of the United Kingdom reached $3,234,500,000,000 in 2023.\\n   GDP Growth Rate in 2023 was 0.34%, representing a change of 10,950,000,000 US$ over 2022, when Real GDP was $3,223,550,000,000. [...] | Year | GDP Nominal  \\n(Current USD) | GDP Real  \\n(Inflation adj.) | GDP  \\nChange | GDP per  \\ncapita | Pop.  \\nChange | Population |\\n| --- | --- | --- | --- | --- | --- | --- |\\n| 2023 | $3,380,850,000,000 | $3,234,500,000,000 | 0.34% | $47,093 | 0.74% | 68,682,962 |\\n| 2022 | $3,114,040,000,000 | $3,223,550,000,000 | 4.84% | $47,280 | 0.75% | 68,179,315 |\\n| 2021 | $3,143,320,000,000 | $3,074,760,000,000 | 8.58% | $45,438 | 0.47% | 67,668,792 |', 'score': 0.8830044, 'raw_content': None}, {'url': 'https://www.ons.gov.uk/economy/grossdomesticproductgdp/bulletins/gdpmonthlyestimateuk/april2025', 'title': 'GDP monthly estimate, UK: April 2025 - Office for National Statistics', 'content': 'More about economy, business and jobs\\n\\n    Explore the latest trends in employment, prices and trade in our economic dashboard. \\n    View all economic data. \\n\\nLooking over the longer term, GDP is estimated to have grown by 1.1% in the three months to April 2025, compared with the three months to April 2024. Over this period, services grew by 1.3%, while production fell by 0.2% and construction output rose by 2.0%. [...] Apr 2025 Jul 2023 Oct 2021 Jan 2020 Apr 2018 Jul 2016 Oct 2014 Jan 2013 Apr 2011 Jul 2009 Oct 2007\\n\\n0 70 75 80 85 90 95 100 105\\n\\nIndex, 2022 = 100\\n\\n#### Source: GDP monthly estimate from the Office for National Statistics\\n\\n#### Download this chart Figure 1: UK GDP is estimated to have fallen by 0.3% in April 2025 but grew by 0.7% in the three months to April 2025\\n\\nImage.csv.xls [...] Note that early estimates of GDP are subject to revision in future publications (both positive and negative). Please see our Why GDP figures are revised article for more information. In this release, no previously published data are open for revision.\\n\\n### Figure 1: UK GDP is estimated to have fallen by 0.3% in April 2025 but grew by 0.7% in the three months to April 2025\\n\\n#### Monthly index, UK, January 2007 to April 2025', 'score': 0.78886026, 'raw_content': None}, {'url': 'https://commonslibrary.parliament.uk/research-briefings/sn02783/', 'title': 'Gross domestic product (GDP): Economic indicators - House of ...', 'content': 'Economic indicators are quick-read summaries of the latest data focusing on different aspects of the UK economy. The full suite of indicators can be found on the mainEconomic Indicators page.\\n\\nGDP is estimated to have grown by 0.7% in January-March 2025 (Quarter 1) compared to the previous three-month period (October to December 2024). This followed growth of 0.1% in October-December.', 'score': 0.78154784, 'raw_content': None}, {'url': 'https://en.wikipedia.org/wiki/Economy_of_the_United_Kingdom', 'title': 'Economy of the United Kingdom - Wikipedia', 'content': '| 2016 | Image 329: Increase2,928.3 | Image 330: Increase44,606.1 | Image 331: Decrease2,733.0 | Image 332: Decrease41,630.5 | Image 333: Increase1.9% | Image 334: Increase0.7% | Image 335: Positive decrease4.9% | Image 336: Positive decrease85.8% |\\n| 2017 | Image 337: Increase3,074.4 | Image 338: Increase46,553.5 | Image 339: Decrease2,701.3 | Image 340: Decrease40,903.5 | Image 341: Increase2.7% | Image 342: Increase2.7% | Image 343: Positive decrease4.4% | Image 344: Positive decrease85.1% | [...] | 2018 | Image 345: Increase3,199.8 | Image 346: Increase48,163.7 | Image 347: Increase2,904.5 | Image 348: Increase43,719.0 | Image 349: Increase1.4% | Image 350: Increase2.5% | Image 351: Positive decrease4.1% | Image 352: Positive decrease84.5% |\\n| 2019 | Image 353: Increase3,311.5 | Image 354: Increase49,575.6 | Image 355: Decrease2,880.4 | Image 356: Decrease43,121.1 | Image 357: Increase1.6% | Image 358: Increase1.8% | Image 359: Positive decrease3.8% | Image 360: Positive decrease83.9% | [...] | 2010 | £0.6474 | $1.546 | 1.27% |  | £0.8586 | €1.166 | 3.83% |\\n| 2011 | £0.6231 | $1.605 | 3.81% |  | £0.8684 | €1.151 | 1.286% |\\n| 2012 | £0.6310 | $1.585 | 2.74% |  | £0.8112 | €1.233 | 0.712% |\\n| 2013 | £0.6650( | $1.503 | 5.17% |  | £0.8496( | €1.177 | 4.54% |\\n| 2014 | £0.6320( | $1.582 | 5.25% |  | £0.8060( | €1.240 | 5.35% |\\n| 2015 | £0.6810( | $1.468 | 7.20% |  | £0.7262( | €1.377 | 11.04% |\\n| 2016 | £0.770( | $1.299 |  |  | £0.8193( | €1.2242 |  |', 'score': 0.7795405, 'raw_content': None}, {'url': 'https://www.statista.com/statistics/281734/gdp-growth-in-the-united-kingdom-uk/', 'title': 'UK GDP growth 2024 - Statista', 'content': 'Learn more about how Statista can support your business.\\n\\nRequest webinar\\n\\nOffice for National Statistics (UK). (March 28, 2025). Annual growth of gross domestic product in the United Kingdom from 1949 to 2024 \\\\[Graph\\\\]. In Statista. Retrieved May 09, 2025, from \\n\\nOffice for National Statistics (UK). \"Annual growth of gross domestic product in the United Kingdom from 1949 to 2024.\" Chart. March 28, 2025. Statista. Accessed May 09, 2025. [...] Office for National Statistics (UK). (2025). Annual growth of gross domestic product in the United Kingdom from 1949 to 2024. Statista. Statista Inc.. Accessed: May 09, 2025. \\n\\nOffice for National Statistics (UK). \"Annual Growth of Gross Domestic Product in The United Kingdom from 1949 to 2024.\" Statista, Statista Inc., 28 Mar 2025, \\n\\nOffice for National Statistics (UK), Annual growth of gross domestic product in the United Kingdom from 1949 to 2024 Statista,  (last visited May 09, 2025)', 'score': 0.77650476, 'raw_content': None}], 'response_time': 3.26}),\n",
       "  AIMessage(content=\"I found a Line Graph Maker tool on Draxlr that we can use to create the chart. Now let's proceed to create the line chart for the UK's GDP over the past 3 years.\", additional_kwargs={'tool_calls': [{'id': 'call_xRD7ljh5V1N2jwjFnJb4BK74', 'function': {'arguments': '{\"query\":\"line chart of UK GDP over the past 3 years\"}', 'name': 'tavily_search_results_json'}, 'type': 'function'}], 'refusal': None}, response_metadata={'token_usage': {'completion_tokens': 70, 'prompt_tokens': 6615, 'total_tokens': 6685, 'completion_tokens_details': {'accepted_prediction_tokens': 0, 'audio_tokens': 0, 'reasoning_tokens': 0, 'rejected_prediction_tokens': 0}, 'prompt_tokens_details': {'audio_tokens': 0, 'cached_tokens': 0}}, 'model_name': 'gpt-3.5-turbo-0125', 'system_fingerprint': None, 'id': 'chatcmpl-BpFN70THmcHtE3tVsHHpgvZQj5s6r', 'service_tier': 'default', 'finish_reason': 'tool_calls', 'logprobs': None}, id='run--e1389ce9-bbf8-4877-9ffb-927e8508b3b2-0', tool_calls=[{'name': 'tavily_search_results_json', 'args': {'query': 'line chart of UK GDP over the past 3 years'}, 'id': 'call_xRD7ljh5V1N2jwjFnJb4BK74', 'type': 'tool_call'}], usage_metadata={'input_tokens': 6615, 'output_tokens': 70, 'total_tokens': 6685, 'input_token_details': {'audio': 0, 'cache_read': 0}, 'output_token_details': {'audio': 0, 'reasoning': 0}}),\n",
       "  ToolMessage(content='[{\"title\": \"U.K. GDP | Historical Chart & Data - Macrotrends\", \"url\": \"https://www.macrotrends.net/global-metrics/countries/gbr/united-kingdom/gdp-gross-domestic-product\", \"content\": \"U.K. gdp for 2023 was $3,340.03B, a 8.13% increase from 2022.\\\\n   U.K. gdp for 2022 was $3,088.84B, a 1.68% decline from 2021.\\\\n   U.K. gdp for 2021 was $3,141.51B, a 16.45% increase from 2020.\\\\n   U.K. gdp for 2020 was $2,697.81B, a 5.39% decline from 2019.\\\\n\\\\n \\\\n\\\\n  Download Historical Data     Save as Image\\\\n\\\\nData Source: World Bank  \\\\n  \\\\nMLA Citation: [...] | U.K. GDP - Historical Data |\\\\n| --- |\\\\n| Year | GDP | Per Capita | Growth |\\\\n| --- | --- | --- | --- |\\\\n| 2023 | $3,340.03B | $48,867 | 0.10% |\\\\n| 2022 | $3,088.84B | $45,564 | 4.35% |\\\\n| 2021 | $3,141.51B | $46,870 | 8.67% |\\\\n| 2020 | $2,697.81B | $40,217 | \\\\\\\\-10.36% |\\\\n| 2019 | $2,851.41B | $42,663 | 1.64% |\\\\n| 2018 | $2,871.34B | $43,204 | 1.40% |\\\\n| 2017 | $2,680.15B | $40,572 | 2.66% |\\\\n| 2016 | $2,689.11B | $40,985 | 1.92% |\\\\n| 2015 | $2,927.91B | $44,964 | 2.22% |\", \"score\": 0.78314424}, {\"title\": \"Economy of the United Kingdom - Wikipedia\", \"url\": \"https://en.wikipedia.org/wiki/Economy_of_the_United_Kingdom\", \"content\": \"| 2016 | Image 329: Increase2,928.3 | Image 330: Increase44,606.1 | Image 331: Decrease2,733.0 | Image 332: Decrease41,630.5 | Image 333: Increase1.9% | Image 334: Increase0.7% | Image 335: Positive decrease4.9% | Image 336: Positive decrease85.8% |\\\\n| 2017 | Image 337: Increase3,074.4 | Image 338: Increase46,553.5 | Image 339: Decrease2,701.3 | Image 340: Decrease40,903.5 | Image 341: Increase2.7% | Image 342: Increase2.7% | Image 343: Positive decrease4.4% | Image 344: Positive decrease85.1% | [...] | 2018 | Image 345: Increase3,199.8 | Image 346: Increase48,163.7 | Image 347: Increase2,904.5 | Image 348: Increase43,719.0 | Image 349: Increase1.4% | Image 350: Increase2.5% | Image 351: Positive decrease4.1% | Image 352: Positive decrease84.5% |\\\\n| 2019 | Image 353: Increase3,311.5 | Image 354: Increase49,575.6 | Image 355: Decrease2,880.4 | Image 356: Decrease43,121.1 | Image 357: Increase1.6% | Image 358: Increase1.8% | Image 359: Positive decrease3.8% | Image 360: Positive decrease83.9% | [...] | 2022 | Image 377: Increase3,776.0 | Image 378: Increase55,862.1 | Image 379: Increase3,198.5 | Image 380: Decrease47,317.6 | Image 381: Increase4.3% | Image 382: Negative increase9.1% | Image 383: Positive decrease3.8% | Image 384: Positive decrease87.0% |\", \"score\": 0.76554126}, {\"title\": \"UK GDP growth 2024 - Statista\", \"url\": \"https://www.statista.com/statistics/281734/gdp-growth-in-the-united-kingdom-uk/\", \"content\": \"Learn more about how Statista can support your business.\\\\n\\\\nRequest webinar\\\\n\\\\nOffice for National Statistics (UK). (March 28, 2025). Annual growth of gross domestic product in the United Kingdom from 1949 to 2024 \\\\\\\\[Graph\\\\\\\\]. In Statista. Retrieved May 09, 2025, from \\\\n\\\\nOffice for National Statistics (UK). \\\\\"Annual growth of gross domestic product in the United Kingdom from 1949 to 2024.\\\\\" Chart. March 28, 2025. Statista. Accessed May 09, 2025. [...] Office for National Statistics (UK). (2025). Annual growth of gross domestic product in the United Kingdom from 1949 to 2024. Statista. Statista Inc.. Accessed: May 09, 2025. \\\\n\\\\nOffice for National Statistics (UK). \\\\\"Annual Growth of Gross Domestic Product in The United Kingdom from 1949 to 2024.\\\\\" Statista, Statista Inc., 28 Mar 2025, \\\\n\\\\nOffice for National Statistics (UK), Annual growth of gross domestic product in the United Kingdom from 1949 to 2024 Statista,  (last visited May 09, 2025)\", \"score\": 0.7610953}, {\"title\": \"United Kingdom GDP - Trading Economics\", \"url\": \"https://tradingeconomics.com/united-kingdom/gdp\", \"content\": \"| Components | Last | Previous | Unit | Reference |\\\\n| --- | --- | --- | --- | --- |\\\\n| GDP from Agriculture | 4300.00 | 4279.00 | GBP Million | Mar 2025 |\\\\n| GDP from Construction | 35725.00 | 35727.00 | GBP Million | Mar 2025 |\\\\n| GDP from Manufacturing | 51870.00 | 51434.00 | GBP Million | Mar 2025 |\\\\n| GDP from Mining | 7909.00 | 7951.00 | GBP Million | Mar 2025 |\\\\n| GDP from Public Administration | 30178.00 | 30011.00 | GBP Million | Mar 2025 | [...] | GDP from Services | 466343.00 | 463051.00 | GBP Million | Mar 2025 |\\\\n| GDP from Transport | 21198.00 | 20795.00 | GBP Million | Mar 2025 | [...] ##### Members\\\\n\\\\n##### \\\\n\\\\n# United Kingdom GDP\\\\n\\\\n## The Gross Domestic Product (GDP) in the United Kingdom was worth 3380.85 billion US dollars in 2023, according to official data from the World Bank. The GDP value of the United Kingdom represents 3.21 percent of the world economy. source: World Bank\", \"score\": 0.7067782}, {\"title\": \"GDP first quarterly estimate, UK: January to March 2025\", \"url\": \"https://www.ons.gov.uk/economy/grossdomesticproductgdp/bulletins/gdpfirstquarterlyestimateuk/januarytomarch2025\", \"content\": \"| Q1 2025 | 152043 | 2744 | 149299 | -0.2 | [...] UK, Quarter 1 (Jan to Mar) 2024 to Quarter 1 2025|  | Gross operating surplus of corporations | Of which alignment | Gross operating surplus of corporations excluding alignment | Gross operating surplus of corporations excluding alignment |\\\\n| --- | --- | --- | --- |\\\\n|  |  |  |  | Quarter-on-quarter growth |\\\\n| Q1 2024 | 144665 | -576 | 145241 | 1.5 |\\\\n| Q2 2024 | 146952 | 2151 | 144801 | -0.3 |\\\\n| Q3 2024 | 150372 | 36 | 150336 | 3.8 |\\\\n| Q4 2024 | 148024 | -1611 | 149635 | -0.5 |\", \"score\": 0.6929958}]', name='tavily_search_results_json', id='01d86675-656d-4313-8536-04412f4bebcc', tool_call_id='call_xRD7ljh5V1N2jwjFnJb4BK74', artifact={'query': 'line chart of UK GDP over the past 3 years', 'follow_up_questions': None, 'answer': None, 'images': [], 'results': [{'url': 'https://www.macrotrends.net/global-metrics/countries/gbr/united-kingdom/gdp-gross-domestic-product', 'title': 'U.K. GDP | Historical Chart & Data - Macrotrends', 'content': 'U.K. gdp for 2023 was $3,340.03B, a 8.13% increase from 2022.\\n   U.K. gdp for 2022 was $3,088.84B, a 1.68% decline from 2021.\\n   U.K. gdp for 2021 was $3,141.51B, a 16.45% increase from 2020.\\n   U.K. gdp for 2020 was $2,697.81B, a 5.39% decline from 2019.\\n\\n \\n\\n  Download Historical Data     Save as Image\\n\\nData Source: World Bank  \\n  \\nMLA Citation: [...] | U.K. GDP - Historical Data |\\n| --- |\\n| Year | GDP | Per Capita | Growth |\\n| --- | --- | --- | --- |\\n| 2023 | $3,340.03B | $48,867 | 0.10% |\\n| 2022 | $3,088.84B | $45,564 | 4.35% |\\n| 2021 | $3,141.51B | $46,870 | 8.67% |\\n| 2020 | $2,697.81B | $40,217 | \\\\-10.36% |\\n| 2019 | $2,851.41B | $42,663 | 1.64% |\\n| 2018 | $2,871.34B | $43,204 | 1.40% |\\n| 2017 | $2,680.15B | $40,572 | 2.66% |\\n| 2016 | $2,689.11B | $40,985 | 1.92% |\\n| 2015 | $2,927.91B | $44,964 | 2.22% |', 'score': 0.78314424, 'raw_content': None}, {'url': 'https://en.wikipedia.org/wiki/Economy_of_the_United_Kingdom', 'title': 'Economy of the United Kingdom - Wikipedia', 'content': '| 2016 | Image 329: Increase2,928.3 | Image 330: Increase44,606.1 | Image 331: Decrease2,733.0 | Image 332: Decrease41,630.5 | Image 333: Increase1.9% | Image 334: Increase0.7% | Image 335: Positive decrease4.9% | Image 336: Positive decrease85.8% |\\n| 2017 | Image 337: Increase3,074.4 | Image 338: Increase46,553.5 | Image 339: Decrease2,701.3 | Image 340: Decrease40,903.5 | Image 341: Increase2.7% | Image 342: Increase2.7% | Image 343: Positive decrease4.4% | Image 344: Positive decrease85.1% | [...] | 2018 | Image 345: Increase3,199.8 | Image 346: Increase48,163.7 | Image 347: Increase2,904.5 | Image 348: Increase43,719.0 | Image 349: Increase1.4% | Image 350: Increase2.5% | Image 351: Positive decrease4.1% | Image 352: Positive decrease84.5% |\\n| 2019 | Image 353: Increase3,311.5 | Image 354: Increase49,575.6 | Image 355: Decrease2,880.4 | Image 356: Decrease43,121.1 | Image 357: Increase1.6% | Image 358: Increase1.8% | Image 359: Positive decrease3.8% | Image 360: Positive decrease83.9% | [...] | 2022 | Image 377: Increase3,776.0 | Image 378: Increase55,862.1 | Image 379: Increase3,198.5 | Image 380: Decrease47,317.6 | Image 381: Increase4.3% | Image 382: Negative increase9.1% | Image 383: Positive decrease3.8% | Image 384: Positive decrease87.0% |', 'score': 0.76554126, 'raw_content': None}, {'url': 'https://www.statista.com/statistics/281734/gdp-growth-in-the-united-kingdom-uk/', 'title': 'UK GDP growth 2024 - Statista', 'content': 'Learn more about how Statista can support your business.\\n\\nRequest webinar\\n\\nOffice for National Statistics (UK). (March 28, 2025). Annual growth of gross domestic product in the United Kingdom from 1949 to 2024 \\\\[Graph\\\\]. In Statista. Retrieved May 09, 2025, from \\n\\nOffice for National Statistics (UK). \"Annual growth of gross domestic product in the United Kingdom from 1949 to 2024.\" Chart. March 28, 2025. Statista. Accessed May 09, 2025. [...] Office for National Statistics (UK). (2025). Annual growth of gross domestic product in the United Kingdom from 1949 to 2024. Statista. Statista Inc.. Accessed: May 09, 2025. \\n\\nOffice for National Statistics (UK). \"Annual Growth of Gross Domestic Product in The United Kingdom from 1949 to 2024.\" Statista, Statista Inc., 28 Mar 2025, \\n\\nOffice for National Statistics (UK), Annual growth of gross domestic product in the United Kingdom from 1949 to 2024 Statista,  (last visited May 09, 2025)', 'score': 0.7610953, 'raw_content': None}, {'url': 'https://tradingeconomics.com/united-kingdom/gdp', 'title': 'United Kingdom GDP - Trading Economics', 'content': '| Components | Last | Previous | Unit | Reference |\\n| --- | --- | --- | --- | --- |\\n| GDP from Agriculture | 4300.00 | 4279.00 | GBP Million | Mar 2025 |\\n| GDP from Construction | 35725.00 | 35727.00 | GBP Million | Mar 2025 |\\n| GDP from Manufacturing | 51870.00 | 51434.00 | GBP Million | Mar 2025 |\\n| GDP from Mining | 7909.00 | 7951.00 | GBP Million | Mar 2025 |\\n| GDP from Public Administration | 30178.00 | 30011.00 | GBP Million | Mar 2025 | [...] | GDP from Services | 466343.00 | 463051.00 | GBP Million | Mar 2025 |\\n| GDP from Transport | 21198.00 | 20795.00 | GBP Million | Mar 2025 | [...] ##### Members\\n\\n##### \\n\\n# United Kingdom GDP\\n\\n## The Gross Domestic Product (GDP) in the United Kingdom was worth 3380.85 billion US dollars in 2023, according to official data from the World Bank. The GDP value of the United Kingdom represents 3.21 percent of the world economy. source: World Bank', 'score': 0.7067782, 'raw_content': None}, {'url': 'https://www.ons.gov.uk/economy/grossdomesticproductgdp/bulletins/gdpfirstquarterlyestimateuk/januarytomarch2025', 'title': 'GDP first quarterly estimate, UK: January to March 2025', 'content': '| Q1 2025 | 152043 | 2744 | 149299 | -0.2 | [...] UK, Quarter 1 (Jan to Mar) 2024 to Quarter 1 2025|  | Gross operating surplus of corporations | Of which alignment | Gross operating surplus of corporations excluding alignment | Gross operating surplus of corporations excluding alignment |\\n| --- | --- | --- | --- |\\n|  |  |  |  | Quarter-on-quarter growth |\\n| Q1 2024 | 144665 | -576 | 145241 | 1.5 |\\n| Q2 2024 | 146952 | 2151 | 144801 | -0.3 |\\n| Q3 2024 | 150372 | 36 | 150336 | 3.8 |\\n| Q4 2024 | 148024 | -1611 | 149635 | -0.5 |', 'score': 0.6929958, 'raw_content': None}], 'response_time': 3.26}),\n",
       "  AIMessage(content=\"I have found the historical data for the UK's GDP over the past 3 years:\\n\\n- 2023: $3,340.03 billion\\n- 2022: $3,088.84 billion\\n- 2021: $3,141.51 billion\\n\\nNow, let's create the line chart to visualize this data.\", additional_kwargs={'tool_calls': [{'id': 'call_1wDmT9lWAZDUXqJ2RWPbwC9b', 'function': {'arguments': '{\"query\":\"line chart generator\"}', 'name': 'tavily_search_results_json'}, 'type': 'function'}], 'refusal': None}, response_metadata={'token_usage': {'completion_tokens': 91, 'prompt_tokens': 8603, 'total_tokens': 8694, 'completion_tokens_details': {'accepted_prediction_tokens': 0, 'audio_tokens': 0, 'reasoning_tokens': 0, 'rejected_prediction_tokens': 0}, 'prompt_tokens_details': {'audio_tokens': 0, 'cached_tokens': 0}}, 'model_name': 'gpt-3.5-turbo-0125', 'system_fingerprint': None, 'id': 'chatcmpl-BpFND2Rl1FvHEhX12ar9pepwwQ2eP', 'service_tier': 'default', 'finish_reason': 'tool_calls', 'logprobs': None}, id='run--12995d48-8cc1-4167-ae1c-1cbfd725f66d-0', tool_calls=[{'name': 'tavily_search_results_json', 'args': {'query': 'line chart generator'}, 'id': 'call_1wDmT9lWAZDUXqJ2RWPbwC9b', 'type': 'tool_call'}], usage_metadata={'input_tokens': 8603, 'output_tokens': 91, 'total_tokens': 8694, 'input_token_details': {'audio': 0, 'cache_read': 0}, 'output_token_details': {'audio': 0, 'reasoning': 0}}),\n",
       "  ToolMessage(content='[{\"title\": \"Free Line Graph Maker - Create Line Chart Online - Draxlr\", \"url\": \"https://www.draxlr.com/tools/line-chart-generator/\", \"content\": \"Draxlr’s free line chart generator makes it simple to upload your CSV files. The line chart maker transforms your raw data into clear, accurate visualizations, so you can see your data trends in a way that’s easy to interpret and share.\\\\n\\\\n### Tailor line colors individually [...] ### Compare data like never before\\\\n\\\\nUse Draxlr’s free line chart generator to easily compare diverse data sets by adding multiple Y-axes to your line charts. This feature allows you to display different metrics on a single chart, providing a clear and organized way to analyze your data. Whether you\\'re working with financial figures, performance metrics, or any other data, multiple Y-axes make your charts more powerful and informative, helping you make smarter decisions. [...] Our versatile line chart generator lets you change the orientation of your charts between vertical and horizontal with just a click. This adaptability is perfect for presenting your data in the most intuitive way, depending on the nature of your dataset. Whether you want to emphasize progression over time or showcase comparisons across categories, adjusting the chart orientation helps you convey your message more clearly.\\\\n\\\\n### Highlight your data points your way!\", \"score\": 0.8690161}, {\"title\": \"Line Graph Maker | Create a line chart - RapidTables.com\", \"url\": \"https://www.rapidtables.com/tools/line-graph.html\", \"content\": \"How to create a line graph\\\\n--------------------------\\\\n\\\\n   Enter the title, horizontal axis and vertical axis labels of the graph.\\\\n   Enter data label names or values or range.\\\\n   Set number of lines.\\\\n   For each line, enter data values with space delimiter, label and color.\\\\n   Check curved line if needed.\\\\n   Press the Draw button to generate the line graph.\\\\n   Press the × reset button to set default values.\\\\n\\\\n  \\\\n\\\\n  \\\\n\\\\nSee also\\\\n-------- [...] Line Graph Maker | Create a line chart\\\\n=============== \\\\n\\\\nRapidTables\\\\n\\\\n Image 1 Search Image 2 Share\\\\n\\\\nHome›Tools›Line graph maker\\\\n\\\\nLine Graph Maker\\\\n================\\\\n\\\\n    Image 3 Line Graph\\\\n    Image 4 Bar Graph\\\\n    Image 5 Pie Chart\\\\n    Image 6 XY Scatter Plot\\\\n    Image 7 Table Chart\\\\n\\\\n  \\\\n\\\\nGraph title\\\\n\\\\nHorizontal axis\\\\n\\\\n    \\\\n\\\\nVertical axis\\\\n\\\\n    \\\\n\\\\nHoriz. data type\\\\n\\\\nData labels\\\\n\\\\nData values\\\\n\\\\nData range\\\\n\\\\n  \\\\n\\\\nNumber of lines\\\\n\\\\nLine1 data values\\\\n\\\\n \\\\n\\\\nLine2 data values\\\\n\\\\n \\\\n\\\\nLine3 data values [...] XY Scatter plot maker\\\\n   Bar graph maker\\\\n   Pie chart maker\\\\n   Table chart maker\\\\n\\\\nWrite how to improve this page\\\\n------------------------------\\\\n\\\\nSubmit Feedback\\\\n\\\\n##### ONLINE TOOLS\\\\n\\\\n   Bar graph maker\\\\n   Chart maker\\\\n   Line graph maker\\\\n   Online Notepad\\\\n   Online Mirror\\\\n   Password generator\\\\n   Pie chart maker\\\\n   Scatter plot maker\\\\n   Online screenshot\\\\n   Table chart maker\\\\n\\\\n##### RAPID TABLES\\\\n\\\\n   Recommend Site\\\\n   Send Feedback\\\\n   About\", \"score\": 0.7187726}, {\"title\": \"Line Graph Maker - Create Free Line Chart Online - Visme\", \"url\": \"https://www.visme.co/line-graph-maker/\", \"content\": \"Create a customized line graph for free with our easy-to-use line graph maker. Choose a predesigned template and customize it to match your brand.\", \"score\": 0.6682966}, {\"title\": \"Line Graph Maker | Create a line chart for free\", \"url\": \"https://linegraphmaker.co/\", \"content\": \"Line graph maker online. Create a line graph for free with easy to use tools and download the line graph as jpg or png file. Customize line graph according\", \"score\": 0.63288915}, {\"title\": \"Free Online Line Graph Maker - Canva\", \"url\": \"https://www.canva.com/graphs/line-graphs/\", \"content\": \"Create custom line graphs with our free line graph creator. Easy-to-use tools, free templates, convenient download & sharing features.\", \"score\": 0.5412882}]', name='tavily_search_results_json', id='9632d097-a4a0-403a-810f-ceaca90beb1c', tool_call_id='call_1wDmT9lWAZDUXqJ2RWPbwC9b', artifact={'query': 'line chart generator', 'follow_up_questions': None, 'answer': None, 'images': [], 'results': [{'url': 'https://www.draxlr.com/tools/line-chart-generator/', 'title': 'Free Line Graph Maker - Create Line Chart Online - Draxlr', 'content': \"Draxlr’s free line chart generator makes it simple to upload your CSV files. The line chart maker transforms your raw data into clear, accurate visualizations, so you can see your data trends in a way that’s easy to interpret and share.\\n\\n### Tailor line colors individually [...] ### Compare data like never before\\n\\nUse Draxlr’s free line chart generator to easily compare diverse data sets by adding multiple Y-axes to your line charts. This feature allows you to display different metrics on a single chart, providing a clear and organized way to analyze your data. Whether you're working with financial figures, performance metrics, or any other data, multiple Y-axes make your charts more powerful and informative, helping you make smarter decisions. [...] Our versatile line chart generator lets you change the orientation of your charts between vertical and horizontal with just a click. This adaptability is perfect for presenting your data in the most intuitive way, depending on the nature of your dataset. Whether you want to emphasize progression over time or showcase comparisons across categories, adjusting the chart orientation helps you convey your message more clearly.\\n\\n### Highlight your data points your way!\", 'score': 0.8690161, 'raw_content': None}, {'url': 'https://www.rapidtables.com/tools/line-graph.html', 'title': 'Line Graph Maker | Create a line chart - RapidTables.com', 'content': 'How to create a line graph\\n--------------------------\\n\\n   Enter the title, horizontal axis and vertical axis labels of the graph.\\n   Enter data label names or values or range.\\n   Set number of lines.\\n   For each line, enter data values with space delimiter, label and color.\\n   Check curved line if needed.\\n   Press the Draw button to generate the line graph.\\n   Press the × reset button to set default values.\\n\\n  \\n\\n  \\n\\nSee also\\n-------- [...] Line Graph Maker | Create a line chart\\n=============== \\n\\nRapidTables\\n\\n Image 1 Search Image 2 Share\\n\\nHome›Tools›Line graph maker\\n\\nLine Graph Maker\\n================\\n\\n    Image 3 Line Graph\\n    Image 4 Bar Graph\\n    Image 5 Pie Chart\\n    Image 6 XY Scatter Plot\\n    Image 7 Table Chart\\n\\n  \\n\\nGraph title\\n\\nHorizontal axis\\n\\n    \\n\\nVertical axis\\n\\n    \\n\\nHoriz. data type\\n\\nData labels\\n\\nData values\\n\\nData range\\n\\n  \\n\\nNumber of lines\\n\\nLine1 data values\\n\\n \\n\\nLine2 data values\\n\\n \\n\\nLine3 data values [...] XY Scatter plot maker\\n   Bar graph maker\\n   Pie chart maker\\n   Table chart maker\\n\\nWrite how to improve this page\\n------------------------------\\n\\nSubmit Feedback\\n\\n##### ONLINE TOOLS\\n\\n   Bar graph maker\\n   Chart maker\\n   Line graph maker\\n   Online Notepad\\n   Online Mirror\\n   Password generator\\n   Pie chart maker\\n   Scatter plot maker\\n   Online screenshot\\n   Table chart maker\\n\\n##### RAPID TABLES\\n\\n   Recommend Site\\n   Send Feedback\\n   About', 'score': 0.7187726, 'raw_content': None}, {'url': 'https://www.visme.co/line-graph-maker/', 'title': 'Line Graph Maker - Create Free Line Chart Online - Visme', 'content': 'Create a customized line graph for free with our easy-to-use line graph maker. Choose a predesigned template and customize it to match your brand.', 'score': 0.6682966, 'raw_content': None}, {'url': 'https://linegraphmaker.co/', 'title': 'Line Graph Maker | Create a line chart for free', 'content': 'Line graph maker online. Create a line graph for free with easy to use tools and download the line graph as jpg or png file. Customize line graph according', 'score': 0.63288915, 'raw_content': None}, {'url': 'https://www.canva.com/graphs/line-graphs/', 'title': 'Free Online Line Graph Maker - Canva', 'content': 'Create custom line graphs with our free line graph creator. Easy-to-use tools, free templates, convenient download & sharing features.', 'score': 0.5412882, 'raw_content': None}], 'response_time': 2.55}),\n",
       "  HumanMessage(content=\"I found a Line Chart Generator tool on Draxlr that we can use to create the chart. Let's proceed with creating the line chart for the UK's GDP over the past 3 years. I will generate the chart now. \\nFINAL ANSWER\", additional_kwargs={}, response_metadata={}, name='researcher', id='06a65483-f4a6-41dd-b2f5-90e71e69a9ff')]}"
      ]
     },
     "execution_count": 56,
     "metadata": {},
     "output_type": "execute_result"
    }
   ],
   "source": [
    "app.invoke({\"messages\": [(\"user\",\"get the UK's GDP over the past 3 years, then make a line chart of it.Once you make the chart, finish.\")],})"
   ]
  },
  {
   "cell_type": "code",
   "execution_count": 57,
   "id": "4baa6785",
   "metadata": {},
   "outputs": [],
   "source": [
    "code=\"\"\"import matplotlib.pyplot as plt\\\\n\\\\n# Data for the UK GDP over the past 3 years\\\\nyears = [2019, 2020, 2021]\\\\ngdp_values = [2851.41, 2697.81, 3141.51]  # in billion $ \\\\n\\\\ndef create_line_chart(years, gdp_values):\\\\n    plt.figure(figsize=(10, 6))\\\\n    plt.plot(years, gdp_values, marker=\\'o\\', color=\\'b\\', linestyle=\\'-\\', linewidth=2)\\\\n    plt.title(\\'UK GDP Over the Past 3 Years\\')\\\\n    plt.xlabel(\\'Year\\')\\\\n    plt.ylabel(\\'GDP (in billion $)\\')\\\\n    plt.grid(True)\\\\n    plt.tight_layout()\\\\n    plt.show()\"\"\""
   ]
  },
  {
   "cell_type": "code",
   "execution_count": 58,
   "id": "03cb49a7",
   "metadata": {},
   "outputs": [
    {
     "name": "stdout",
     "output_type": "stream",
     "text": [
      "import matplotlib.pyplot as plt\\n\\n# Data for the UK GDP over the past 3 years\\nyears = [2019, 2020, 2021]\\ngdp_values = [2851.41, 2697.81, 3141.51]  # in billion $ \\n\\ndef create_line_chart(years, gdp_values):\\n    plt.figure(figsize=(10, 6))\\n    plt.plot(years, gdp_values, marker='o', color='b', linestyle='-', linewidth=2)\\n    plt.title('UK GDP Over the Past 3 Years')\\n    plt.xlabel('Year')\\n    plt.ylabel('GDP (in billion $)')\\n    plt.grid(True)\\n    plt.tight_layout()\\n    plt.show()\n"
     ]
    }
   ],
   "source": [
    "print(\"\"\"import matplotlib.pyplot as plt\\\\n\\\\n# Data for the UK GDP over the past 3 years\\\\nyears = [2019, 2020, 2021]\\\\ngdp_values = [2851.41, 2697.81, 3141.51]  # in billion $ \\\\n\\\\ndef create_line_chart(years, gdp_values):\\\\n    plt.figure(figsize=(10, 6))\\\\n    plt.plot(years, gdp_values, marker=\\'o\\', color=\\'b\\', linestyle=\\'-\\', linewidth=2)\\\\n    plt.title(\\'UK GDP Over the Past 3 Years\\')\\\\n    plt.xlabel(\\'Year\\')\\\\n    plt.ylabel(\\'GDP (in billion $)\\')\\\\n    plt.grid(True)\\\\n    plt.tight_layout()\\\\n    plt.show()\"\"\")"
   ]
  },
  {
   "cell_type": "code",
   "execution_count": null,
   "id": "8572225f",
   "metadata": {},
   "outputs": [],
   "source": []
  },
  {
   "cell_type": "code",
   "execution_count": null,
   "id": "8adf5c23",
   "metadata": {},
   "outputs": [],
   "source": []
  },
  {
   "cell_type": "code",
   "execution_count": null,
   "id": "adc303b4",
   "metadata": {},
   "outputs": [],
   "source": []
  }
 ],
 "metadata": {
  "kernelspec": {
   "display_name": "Python 3",
   "language": "python",
   "name": "python3"
  },
  "language_info": {
   "codemirror_mode": {
    "name": "ipython",
    "version": 3
   },
   "file_extension": ".py",
   "mimetype": "text/x-python",
   "name": "python",
   "nbconvert_exporter": "python",
   "pygments_lexer": "ipython3",
   "version": "3.12.11"
  }
 },
 "nbformat": 4,
 "nbformat_minor": 5
}
