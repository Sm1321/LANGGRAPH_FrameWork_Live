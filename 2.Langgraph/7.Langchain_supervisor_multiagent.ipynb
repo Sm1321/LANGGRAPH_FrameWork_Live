{
 "cells": [
  {
   "cell_type": "code",
   "execution_count": 52,
   "id": "ca5571ee",
   "metadata": {},
   "outputs": [],
   "source": [
    "import os"
   ]
  },
  {
   "cell_type": "code",
   "execution_count": 53,
   "id": "6094612a",
   "metadata": {},
   "outputs": [
    {
     "data": {
      "text/plain": [
       "True"
      ]
     },
     "execution_count": 53,
     "metadata": {},
     "output_type": "execute_result"
    }
   ],
   "source": [
    "from dotenv import load_dotenv\n",
    "load_dotenv()"
   ]
  },
  {
   "cell_type": "code",
   "execution_count": 54,
   "id": "4e1c2f97",
   "metadata": {},
   "outputs": [],
   "source": [
    "from langchain_openai import ChatOpenAI\n",
    "llm = ChatOpenAI(model=\"gpt-4o-2024-08-06\")\n"
   ]
  },
  {
   "cell_type": "code",
   "execution_count": 56,
   "id": "8a4d1ffd",
   "metadata": {},
   "outputs": [
    {
     "data": {
      "text/plain": [
       "'Hello! How can I assist you today?'"
      ]
     },
     "execution_count": 56,
     "metadata": {},
     "output_type": "execute_result"
    }
   ],
   "source": [
    "llm.invoke(\"hi\").content"
   ]
  },
  {
   "cell_type": "code",
   "execution_count": 57,
   "id": "cb7b88a1",
   "metadata": {},
   "outputs": [
    {
     "name": "stdout",
     "output_type": "stream",
     "text": [
      "The capital of India is New Delhi. It serves as the seat of all three branches of the government of India, which includes the Executive, the Legislature, and the Judiciary. The President of India, the Prime Minister, and the Parliament are all located in New Delhi.\n",
      "\n",
      "### Historical Background\n",
      "\n",
      "- **Foundation**: New Delhi was inaugurated as the capital of India in 1931, replacing Kolkata (Calcutta) as the administrative center.\n",
      "- **Design**: The city was designed by British architects Sir Edwin Lutyens and Herbert Baker, leading to the area being called \"Lutyens' Delhi\" after the main architect.\n",
      "- **Historical Sites**: It is home to numerous historical landmarks and monuments, such as India Gate, Rashtrapati Bhavan (the President's House), and the Parliament House.\n",
      "\n",
      "### Geography\n",
      "\n",
      "- **Location**: New Delhi is situated within the National Capital Territory of Delhi, a large metropolitan area that includes the older city of Delhi and surrounding regions.\n",
      "- **Climate**: The climate is characterized by extreme variations, with hot summers, a monsoon season, and relatively cold winters.\n",
      "\n",
      "### Significance\n",
      "\n",
      "- **Political Hub**: As the capital, New Delhi holds great political significance, hosting important government offices, including the Supreme Court of India.\n",
      "- **Cultural Importance**: It serves as a cultural hub with diverse languages, traditions, and cuisines. It boasts numerous museums, galleries, and cultural festivals.\n",
      "- **Economic Role**: It plays a key role in the national economy, with various industries and service sectors flourishing in the region.\n",
      "\n",
      "### Urban Design\n",
      "\n",
      "- **Architecture**: The city is known for its impressive colonial architecture alongside modern developments. Lutyens' New Delhi is known for its wide boulevards, lush gardens, and grand government edifices.\n",
      "- **Administration**: While many governmental functions are centralized in New Delhi, governance extends across the entire Delhi metropolitan area.\n",
      "\n",
      "New Delhi is not just the political nerve center of India but also a city that represents the diverse and vibrant culture of a rapidly developing nation.\n"
     ]
    }
   ],
   "source": [
    "print(llm.invoke(\"What is the capital of india tell me in detail?\").content)"
   ]
  },
  {
   "cell_type": "code",
   "execution_count": 58,
   "id": "b9c7d64b",
   "metadata": {},
   "outputs": [],
   "source": [
    "import os\n",
    "from langchain_community.tools.tavily_search import TavilySearchResults\n",
    "TAVILY_API_KEY =  os.getenv(\"TAVILY_API_KEY\")\n",
    "search_tool = TavilySearchResults(tavily_api_key=TAVILY_API_KEY)"
   ]
  },
  {
   "cell_type": "code",
   "execution_count": 59,
   "id": "57303bd0",
   "metadata": {},
   "outputs": [
    {
     "data": {
      "text/plain": [
       "[{'title': 'List of capitals of France - Wikipedia',\n",
       "  'url': 'https://en.wikipedia.org/wiki/List_of_capitals_of_France',\n",
       "  'content': 'This is a chronological list of capitals of France. The capital of France has been Paris since its liberation in 1944.\\n\\n## Chronology\\n\\n[edit] [...] - Tours (10–13 June 1940), the city served as the temporary capital of France during World War II after the government fled Paris due to the German advance.\\n- Bordeaux (June 1940), the government was relocated from Paris to Tours then Bordeaux very briefly during World War II, when it became apparent that Paris would soon fall into German hands. [...] - Paris (1789–1871), on 5 and 6 October 1789, a throng from Paris invaded the castle and forced the royal family to move back to Paris. The National Constituent Assembly \"National Constituent Assembly (France)\") followed the King to Paris soon afterward; Versailles lost its role of capital city.',\n",
       "  'score': 0.8993429},\n",
       " {'title': 'Paris facts: the capital of France in history',\n",
       "  'url': 'https://home.adelphi.edu/~ca19535/page%204.html',\n",
       "  'content': 'page 4\\n\\n===============\\n\\nHomeSpainSydneySan FranciscoParisLas VegasMaui\\n\\n Paris, France\\n\\nImage 1\\n\\nParis facts: Paris, the capital of France\\n---------------------------------------------\\n\\nParis is the capital of France, the largest country of Europe with 550 000 km2 (65 millions inhabitants).\\n\\nParis has 2.234 million inhabitants end 2011. She is the core of Ile de France region (12 million people). [...] Before Paris, the capital of France was Lyon (under the Romans). Paris first became the capital of France in 508 under King Clovis. After centuries with no unique capital of France, Paris retrieved its status of capital of France under King Philippe Auguste, who reigned between 1180 and 1223. You can see remains of the Philippe August Paris walls in the passageway between the Louvre parking and Louvre Museum [...] Paris remained the capital of France until today, with one four year interruption. During German occupation (WW2 , 1940-1944), the capital of France was Vichy.\\n\\ngo to top\\n\\nReference:',\n",
       "  'score': 0.89166987},\n",
       " {'title': 'Paris - Wikipedia',\n",
       "  'url': 'https://en.wikipedia.org/wiki/Paris',\n",
       "  'content': 'As the capital of France, Paris is the seat of France\\'s national government. For the executive, the two chief officers each have their own official residences, which also serve as their offices. The President of the French Republic resides at the Élysée Palace.( The Prime Minister\\'s seat is at the Hôtel Matignon.( Government ministries are located in various parts of the city, many near the Hôtel Matignon.( [...] Appearance\\n\\nmove to sidebar hide\\n\\nCoordinates: 48°51′24″N 2°21′8″E / 48.85667°N 2.35222°E / 48.85667; 2.35222_region:FR-75C)\\n\\nImage 4: This is a good article. Click here for more information.\\n\\nImage 5: Page semi-protected\\n\\nFrom Wikipedia, the free encyclopedia\\n\\nCapital and largest city of France\\n\\nThis article is about the capital city of France. For other uses, see Paris (disambiguation) \"Paris (disambiguation)\"). [...] Paris (French pronunciation:( \"Help:IPA/French\")ⓘ) is the capital and largest city of France. With an estimated population of 2,048,472 residents in January 2025( in an area of more than 105 km 2 (41 sq mi),( Paris is the fourth-most populous city in the European Union and the 30th most densely populated city in the world in 2022.( Since the 17th century, Paris has been one of the world\\'s major centres of finance, diplomacy, commerce, culture, fashion, and gastronomy. Because of its leading',\n",
       "  'score': 0.8815438},\n",
       " {'title': 'What is the Capital of France? - WorldAtlas',\n",
       "  'url': 'https://www.worldatlas.com/articles/what-is-the-capital-of-france.html',\n",
       "  'content': 'Paris is the capital city of France. The city has an approximate area of 41 square miles with a population of 2,206,488 people as of 2018. Contrary to popular belief, the name of the city did not come from the Paris in Greek myths. Instead, the name Paris is derived from the city’s initial inhabitants who were part of the Celtic Parisii tribe. Sometimes, the city is called the City of Light for two reasons; it was among the first cities to adopt gas for lighting the streets and its role during [...] What is the Capital of France? - WorldAtlas\\n\\n# What is the Capital of France?\\n\\nTourism has always been a major source of income for Paris. \\n\\nTourism has always been a major source of income for Paris. [...] As the capital city of France, the city plays host to the national government of France. Even the official residence of the president is in the city at the Élysée Palace while the Prime Minister is housed at the Hôtel Matignon. The Senate or the upper house meets at the Palais du Luxembourg while the Palais Bourbon is the meeting point for the Assemblée Nationale. The second highest public official after the President of France, the President of the Senate, stays at the Petit Luxembourg.',\n",
       "  'score': 0.87807417},\n",
       " {'title': 'France | History, Maps, Flag, Population, Cities, Capital, & Facts',\n",
       "  'url': 'https://www.britannica.com/place/France',\n",
       "  'content': 'The capital and by far the most important city of France is Paris, one of the world’s preeminent cultural and commercial centres. A majestic city known as the ville lumière, or “city of light,” Paris has often been remade, most famously in the mid-19th century under the command of Georges-Eugène, Baron Haussman, who was committed to Napoleon III’s vision of a modern city free of the choleric swamps and congested alleys of old, with broad avenues and a regular plan. Paris is now a sprawling [...] Quick Facts\\n\\nFrance\\n\\nSee article: flag of France\\n\\nAudio File:\\nAnthem of France (see article)\\n\\nHead Of Government:\\n:   Prime minister: François Bayrou\\n\\n(Show more)\\n\\nCapital:\\n:   Paris\\n\\n(Show more)\\n\\nPopulation:\\n:   (2025 est.) 66,607,000\\n\\n(Show more)\\n\\nCurrency Exchange Rate:\\n:   1 USD equals 0.886 euro\\n\\n(Show more)\\n\\nHead Of State:\\n:   President: Emmanuel Macron\\n\\n(Show more)\\n\\nForm Of Government:\\n:   republic with two legislative houses (Parliament; Senate , National Assembly )\\n\\n(Show more) [...] Among France’s other major cities are Lyon, located along an ancient Rhône valley trade route linking the North Sea and the Mediterranean; Marseille, a multiethnic port on the Mediterranean founded as an entrepôt for Greek and Carthaginian traders in the 6th century bce; Nantes, an industrial centre and deepwater harbour along the Atlantic coast; and Bordeaux, located in southwestern France along the Garonne River.\\n\\nBritannica Chatbot logo\\n\\n# Britannica Chatbot',\n",
       "  'score': 0.8729662}]"
      ]
     },
     "execution_count": 59,
     "metadata": {},
     "output_type": "execute_result"
    }
   ],
   "source": [
    "search_tool.invoke(\"What is the capital of France?\")"
   ]
  },
  {
   "cell_type": "code",
   "execution_count": 60,
   "id": "b1583651",
   "metadata": {},
   "outputs": [],
   "source": [
    "my_code = \"\"\"\n",
    "x=10\n",
    "y=x+10\n",
    "print(y)\n",
    "\"\"\""
   ]
  },
  {
   "cell_type": "code",
   "execution_count": 61,
   "id": "ced31452",
   "metadata": {},
   "outputs": [],
   "source": [
    "from langchain_experimental.utilities import PythonREPL"
   ]
  },
  {
   "cell_type": "markdown",
   "id": "8e0b3c6b",
   "metadata": {},
   "source": [
    "- It simulates a Python shell:\n",
    "\n",
    "- Accepts a Python code string (like \"2 + 2\" or \"import math; math.sqrt(16)\")\n",
    "\n",
    "- Executes the code\n",
    "\n",
    "- Returns the output (as a string)"
   ]
  },
  {
   "cell_type": "code",
   "execution_count": 62,
   "id": "d6d9a3bc",
   "metadata": {},
   "outputs": [
    {
     "name": "stdout",
     "output_type": "stream",
     "text": [
      "''\n",
      "\n"
     ]
    }
   ],
   "source": [
    "from langchain_experimental.utilities import PythonREPL\n",
    "\n",
    "repl = PythonREPL()\n",
    "result = repl.run(\"2 + 3 * 4\")\n",
    "print(repr(result))  # <- use repr to inspect exact value\n",
    "print(result.strip())  # Output: 14\n"
   ]
  },
  {
   "cell_type": "code",
   "execution_count": 63,
   "id": "914358f7",
   "metadata": {},
   "outputs": [],
   "source": [
    "repl = PythonREPL()"
   ]
  },
  {
   "cell_type": "code",
   "execution_count": 64,
   "id": "0b306711",
   "metadata": {},
   "outputs": [
    {
     "data": {
      "text/plain": [
       "'20\\n'"
      ]
     },
     "execution_count": 64,
     "metadata": {},
     "output_type": "execute_result"
    }
   ],
   "source": [
    "repl.run(my_code)"
   ]
  },
  {
   "cell_type": "code",
   "execution_count": 65,
   "id": "9c3d6d6d",
   "metadata": {},
   "outputs": [],
   "source": [
    "# repl.invoke(my_code)"
   ]
  },
  {
   "cell_type": "code",
   "execution_count": 66,
   "id": "9798dd1f",
   "metadata": {},
   "outputs": [],
   "source": [
    "from typing import Annotated\n",
    "from langchain_core.tools import tool"
   ]
  },
  {
   "cell_type": "code",
   "execution_count": 67,
   "id": "0c6db7d7",
   "metadata": {},
   "outputs": [
    {
     "name": "stderr",
     "output_type": "stream",
     "text": [
      "<>:11: SyntaxWarning: invalid escape sequence '\\`'\n",
      "<>:11: SyntaxWarning: invalid escape sequence '\\`'\n",
      "<>:11: SyntaxWarning: invalid escape sequence '\\`'\n",
      "<>:11: SyntaxWarning: invalid escape sequence '\\`'\n",
      "C:\\Users\\Mohan\\AppData\\Local\\Temp\\ipykernel_10636\\2860116823.py:11: SyntaxWarning: invalid escape sequence '\\`'\n",
      "  result_str = f\"Successfully executed:\\n\\`\\`\\`python\\n{code}\\n\\`\\`\\`\\nStdout: {result}\"\n",
      "C:\\Users\\Mohan\\AppData\\Local\\Temp\\ipykernel_10636\\2860116823.py:11: SyntaxWarning: invalid escape sequence '\\`'\n",
      "  result_str = f\"Successfully executed:\\n\\`\\`\\`python\\n{code}\\n\\`\\`\\`\\nStdout: {result}\"\n"
     ]
    }
   ],
   "source": [
    "@tool\n",
    "def python_repl_tool(code: Annotated[str, \"The python code to execute to generate your chart.\"]):\n",
    "    \"\"\"Use this to execute python code and do math. If you want to see the output of a value,\n",
    "    you should print it out with `print(...)`. This is visible to the user.\"\"\"\n",
    "    \n",
    "    try:\n",
    "        result = repl.run(code)\n",
    "    except BaseException as e:\n",
    "        return f\"Failed to execute. Error: {repr(e)}\"\n",
    "    \n",
    "    result_str = f\"Successfully executed:\\n\\`\\`\\`python\\n{code}\\n\\`\\`\\`\\nStdout: {result}\"\n",
    "    return result_str"
   ]
  },
  {
   "cell_type": "code",
   "execution_count": 68,
   "id": "0a4fdde7",
   "metadata": {},
   "outputs": [
    {
     "data": {
      "text/plain": [
       "'Successfully executed:\\n\\\\`\\\\`\\\\`python\\nx=10\\ny=x+10\\nprint(y)\\n\\\\`\\\\`\\\\`\\nStdout: 20\\n'"
      ]
     },
     "execution_count": 68,
     "metadata": {},
     "output_type": "execute_result"
    }
   ],
   "source": [
    "python_repl_tool.invoke(\"x=10\\ny=x+10\\nprint(y)\")"
   ]
  },
  {
   "cell_type": "code",
   "execution_count": 69,
   "id": "24f29569",
   "metadata": {},
   "outputs": [
    {
     "data": {
      "text/plain": [
       "'Successfully executed:\\n\\\\`\\\\`\\\\`python\\n\\nx=10\\ny=x+10\\nprint(y)\\n\\n\\\\`\\\\`\\\\`\\nStdout: 20\\n'"
      ]
     },
     "execution_count": 69,
     "metadata": {},
     "output_type": "execute_result"
    }
   ],
   "source": [
    "python_repl_tool.invoke(my_code)"
   ]
  },
  {
   "cell_type": "markdown",
   "id": "356f915f",
   "metadata": {},
   "source": [
    "### WE HAVE TWO SUB AGENT \n",
    "1. RESEARCHER- internet\n",
    "2. CODER- executing the code"
   ]
  },
  {
   "cell_type": "code",
   "execution_count": 70,
   "id": "472b1394",
   "metadata": {},
   "outputs": [],
   "source": [
    "members = [\"researcher\",\"coder\"]"
   ]
  },
  {
   "cell_type": "code",
   "execution_count": 71,
   "id": "503b9370",
   "metadata": {},
   "outputs": [
    {
     "data": {
      "text/plain": [
       "['researcher', 'coder']"
      ]
     },
     "execution_count": 71,
     "metadata": {},
     "output_type": "execute_result"
    }
   ],
   "source": [
    "members"
   ]
  },
  {
   "cell_type": "code",
   "execution_count": 72,
   "id": "e1ab9493",
   "metadata": {},
   "outputs": [],
   "source": [
    "options = members + [\"FINISH\"]"
   ]
  },
  {
   "cell_type": "code",
   "execution_count": 73,
   "id": "de0f4c88",
   "metadata": {},
   "outputs": [
    {
     "data": {
      "text/plain": [
       "['researcher', 'coder', 'FINISH']"
      ]
     },
     "execution_count": 73,
     "metadata": {},
     "output_type": "execute_result"
    }
   ],
   "source": [
    "options"
   ]
  },
  {
   "cell_type": "code",
   "execution_count": 74,
   "id": "22c273cd",
   "metadata": {},
   "outputs": [],
   "source": [
    "from typing import Literal"
   ]
  },
  {
   "cell_type": "code",
   "execution_count": 75,
   "id": "e2e94be6",
   "metadata": {},
   "outputs": [],
   "source": [
    "from typing_extensions import TypedDict"
   ]
  },
  {
   "cell_type": "markdown",
   "id": "ccd8c6ab",
   "metadata": {},
   "source": [
    "### There is no routing logic\n",
    "-  it is simply going to return the next candidate(next_agent)\n",
    "-  this next is containig the next candidate name"
   ]
  },
  {
   "cell_type": "code",
   "execution_count": 76,
   "id": "66480743",
   "metadata": {},
   "outputs": [],
   "source": [
    "class Router(TypedDict):\n",
    "    next: Literal['researcher', 'coder', 'FINISH']"
   ]
  },
  {
   "cell_type": "code",
   "execution_count": 77,
   "id": "df9c87ea",
   "metadata": {},
   "outputs": [],
   "source": [
    "\n",
    "from langgraph.graph import MessagesState,StateGraph,START, END"
   ]
  },
  {
   "cell_type": "markdown",
   "id": "c8656cf4",
   "metadata": {},
   "source": [
    "#### this is a messagesstate which we are loading from the langgraph(inbuilt message state)"
   ]
  },
  {
   "cell_type": "code",
   "execution_count": 78,
   "id": "d083636a",
   "metadata": {},
   "outputs": [],
   "source": [
    "# class MessagesState(TypedDict):\n",
    "#     messages: Annotated[list[AnyMessage], add_messages]"
   ]
  },
  {
   "cell_type": "code",
   "execution_count": 79,
   "id": "c2e6af7b",
   "metadata": {},
   "outputs": [],
   "source": [
    "##### this is how my state will be looking like"
   ]
  },
  {
   "cell_type": "code",
   "execution_count": null,
   "id": "2461e3c8",
   "metadata": {},
   "outputs": [],
   "source": [
    "class State(MessagesState):\n",
    "    next:str"
   ]
  },
  {
   "cell_type": "code",
   "execution_count": null,
   "id": "e3c5567e",
   "metadata": {},
   "outputs": [],
   "source": [
    "# This is how the state will be looking like\n",
    "state  = {\"messages\": [\"hi\"], \"next\": \"research_agent\"}"
   ]
  },
  {
   "cell_type": "code",
   "execution_count": 81,
   "id": "6c721f67",
   "metadata": {},
   "outputs": [],
   "source": [
    "system_prompt = f\"\"\"\"\n",
    "You are a supervisor, tasked with managing a conversation between the following workers: {members}. \n",
    "Given the following user request, respond with the worker to act next. \n",
    "Each worker will perform a task and respond with their results and status. \n",
    "When finished, respond with FINISH.\n",
    "\"\"\""
   ]
  },
  {
   "cell_type": "code",
   "execution_count": 82,
   "id": "7fa1c716",
   "metadata": {},
   "outputs": [],
   "source": [
    "# system_prompt = f\"\"\"\"\n",
    "# You are a supervisor, tasked with managing a conversation between the following workers: {members}. \n",
    "# Given the following user request, respond with the worker to act next. \n",
    "# Each worker will perform a task and respond with their results and status. \n",
    "# When finished, respond with FINISH.\n",
    "# **Strict Guidelines:**\n",
    "# if there is any common messages like hi, hello, how are you, greetings etc then,respond with FINISH.\n",
    "# \"\"\""
   ]
  },
  {
   "cell_type": "code",
   "execution_count": 83,
   "id": "ca7e1854",
   "metadata": {},
   "outputs": [
    {
     "name": "stdout",
     "output_type": "stream",
     "text": [
      "\"\n",
      "You are a supervisor, tasked with managing a conversation between the following workers: ['researcher', 'coder']. \n",
      "Given the following user request, respond with the worker to act next. \n",
      "Each worker will perform a task and respond with their results and status. \n",
      "When finished, respond with FINISH.\n",
      "\n"
     ]
    }
   ],
   "source": [
    "print(system_prompt)"
   ]
  },
  {
   "cell_type": "code",
   "execution_count": 84,
   "id": "401c8a3e",
   "metadata": {},
   "outputs": [
    {
     "data": {
      "text/plain": [
       "['hi']"
      ]
     },
     "execution_count": 84,
     "metadata": {},
     "output_type": "execute_result"
    }
   ],
   "source": [
    "state[\"messages\"]"
   ]
  },
  {
   "cell_type": "code",
   "execution_count": 85,
   "id": "4dba9f75",
   "metadata": {},
   "outputs": [],
   "source": [
    "messages = [{\"role\": \"system\", \"content\": system_prompt},] + state[\"messages\"]"
   ]
  },
  {
   "cell_type": "code",
   "execution_count": 86,
   "id": "0b20bb16",
   "metadata": {},
   "outputs": [
    {
     "data": {
      "text/plain": [
       "[{'role': 'system',\n",
       "  'content': '\"\\nYou are a supervisor, tasked with managing a conversation between the following workers: [\\'researcher\\', \\'coder\\']. \\nGiven the following user request, respond with the worker to act next. \\nEach worker will perform a task and respond with their results and status. \\nWhen finished, respond with FINISH.\\n'},\n",
       " 'hi']"
      ]
     },
     "execution_count": 86,
     "metadata": {},
     "output_type": "execute_result"
    }
   ],
   "source": [
    "messages"
   ]
  },
  {
   "cell_type": "code",
   "execution_count": 87,
   "id": "92002020",
   "metadata": {},
   "outputs": [],
   "source": [
    "from langgraph.types import Command"
   ]
  },
  {
   "cell_type": "markdown",
   "id": "03e33090",
   "metadata": {},
   "source": [
    "-  `Command` is a class used to control execution flow between different nodes in the graph."
   ]
  },
  {
   "cell_type": "code",
   "execution_count": 88,
   "id": "6368c851",
   "metadata": {},
   "outputs": [],
   "source": [
    "# state[\"messages\"]"
   ]
  },
  {
   "cell_type": "code",
   "execution_count": 89,
   "id": "3983b705",
   "metadata": {},
   "outputs": [],
   "source": [
    "def supervisor_agent(state:State)->Command[Literal['researcher', 'coder', '__end__']]:\n",
    "    \n",
    "    messages = [{\"role\": \"system\", \"content\": system_prompt},] + state[\"messages\"]\n",
    "    \n",
    "    llm_with_structure_output = llm.with_structured_output(Router)\n",
    "    \n",
    "    response = llm_with_structure_output.invoke(messages)\n",
    "    \n",
    "    #this is my response {'next': 'researcher'}\n",
    "    \n",
    "    #this is my next worker agent\n",
    "    goto = response[\"next\"]\n",
    "    \n",
    "    print(\"**********BELOW IS MY GOTO***************\")\n",
    "    \n",
    "    print(goto)\n",
    "    \n",
    "    if goto == \"FINISH\":\n",
    "        goto=END\n",
    "    \n",
    "    # class State(MessagesState):\n",
    "    #   next:str\n",
    "    # output of the state: state={\"messages\": [\"hi\"], \"next\": \"researcher\"}\n",
    "    \n",
    "    return Command(goto=goto, update={\"next\":goto})"
   ]
  },
  {
   "cell_type": "code",
   "execution_count": 90,
   "id": "bea3c59c",
   "metadata": {},
   "outputs": [],
   "source": [
    "from langgraph.prebuilt import create_react_agent"
   ]
  },
  {
   "cell_type": "code",
   "execution_count": 91,
   "id": "b20c538b",
   "metadata": {},
   "outputs": [],
   "source": [
    "from langchain_core.messages import AIMessage, HumanMessage"
   ]
  },
  {
   "cell_type": "code",
   "execution_count": 92,
   "id": "4accc8e4",
   "metadata": {},
   "outputs": [],
   "source": [
    "def research_agent(state: State) -> Command[Literal[\"supervisor\"]]:\n",
    "    \n",
    "    research_agent = create_react_agent(llm, tools  = [search_tool], prompt=\"You are a researcher. DO NOT do any math.\")\n",
    "    \n",
    "    result = research_agent.invoke(state)\n",
    "    \n",
    "    return Command(\n",
    "        update = {\n",
    "            \"messages\": [\n",
    "                HumanMessage(content=result[\"messages\"][-1].content, name=\"researcher\")\n",
    "            ]\n",
    "        },\n",
    "        goto=\"supervisor\",\n",
    "    )\n",
    "    "
   ]
  },
  {
   "cell_type": "code",
   "execution_count": 93,
   "id": "27fa3519",
   "metadata": {},
   "outputs": [],
   "source": [
    "def coder_agent(state:State)->Command[Literal['supervisor']]:\n",
    "    code_agent = create_react_agent(llm,tools=[python_repl_tool], prompt=\"You are a coder. DO NOT do any research.\")\n",
    "    result = code_agent.invoke(state)\n",
    "    \n",
    "    return Command(\n",
    "        update={\n",
    "            \"messages\": [\n",
    "                HumanMessage(content=result[\"messages\"][-1].content, name=\"coder\")\n",
    "            ]\n",
    "        },\n",
    "        goto=\"supervisor\",\n",
    "    )\n",
    "    "
   ]
  },
  {
   "cell_type": "markdown",
   "id": "6016ba5f",
   "metadata": {},
   "source": [
    "#### this is my orchestration flow with langgraph"
   ]
  },
  {
   "cell_type": "code",
   "execution_count": 94,
   "id": "32eac75f",
   "metadata": {},
   "outputs": [],
   "source": [
    "#Workflow\n",
    "graph = StateGraph(State)\n",
    "graph.add_node(\"supervisor\", supervisor_agent)\n",
    "graph.add_node(\"researcher\", research_agent)\n",
    "graph.add_node(\"coder\", coder_agent)\n",
    "\n",
    "graph.add_edge(START, \"supervisor\")\n",
    "app=graph.compile()"
   ]
  },
  {
   "cell_type": "code",
   "execution_count": 95,
   "id": "cce287d1",
   "metadata": {},
   "outputs": [
    {
     "data": {
      "image/png": "[encoded data removed]",
      "text/plain": [
       "<IPython.core.display.Image object>"
      ]
     },
     "metadata": {},
     "output_type": "display_data"
    }
   ],
   "source": [
    "from IPython.display import display,Image\n",
    "display(Image(app.get_graph().draw_mermaid_png()))"
   ]
  },
  {
   "cell_type": "code",
   "execution_count": 96,
   "id": "a8439ed4",
   "metadata": {},
   "outputs": [
    {
     "name": "stdout",
     "output_type": "stream",
     "text": [
      "**********BELOW IS MY GOTO***************\n",
      "coder\n",
      "((), {'supervisor': {'next': 'coder'}})\n",
      "**********BELOW IS MY STATE***************\n",
      "(('coder:326dceb5-f6a3-5c3f-7ef1-1de022835643',), {'agent': {'messages': [AIMessage(content='', additional_kwargs={'tool_calls': [{'id': 'call_AEv8C8sxVtBPSKkIeEG7QTAy', 'function': {'arguments': '{\"code\":\"import math\\\\nmath.sqrt(42)\"}', 'name': 'python_repl_tool'}, 'type': 'function'}], 'refusal': None}, response_metadata={'token_usage': {'completion_tokens': 23, 'prompt_tokens': 107, 'total_tokens': 130, 'completion_tokens_details': {'accepted_prediction_tokens': 0, 'audio_tokens': 0, 'reasoning_tokens': 0, 'rejected_prediction_tokens': 0}, 'prompt_tokens_details': {'audio_tokens': 0, 'cached_tokens': 0}}, 'model_name': 'gpt-4o-2024-08-06', 'system_fingerprint': 'fp_07871e2ad8', 'id': 'chatcmpl-Bpt3pNEw84OE0CLZOummBTipmsXyU', 'service_tier': 'default', 'finish_reason': 'tool_calls', 'logprobs': None}, id='run--bbed7d42-d538-4096-bd38-ee3806483e73-0', tool_calls=[{'name': 'python_repl_tool', 'args': {'code': 'import math\\nmath.sqrt(42)'}, 'id': 'call_AEv8C8sxVtBPSKkIeEG7QTAy', 'type': 'tool_call'}], usage_metadata={'input_tokens': 107, 'output_tokens': 23, 'total_tokens': 130, 'input_token_details': {'audio': 0, 'cache_read': 0}, 'output_token_details': {'audio': 0, 'reasoning': 0}})]}})\n",
      "**********BELOW IS MY STATE***************\n",
      "(('coder:326dceb5-f6a3-5c3f-7ef1-1de022835643',), {'tools': {'messages': [ToolMessage(content='Successfully executed:\\n\\\\`\\\\`\\\\`python\\nimport math\\nmath.sqrt(42)\\n\\\\`\\\\`\\\\`\\nStdout: ', name='python_repl_tool', id='2aeff0ff-10a9-44f3-9116-e7d5b0dba497', tool_call_id='call_AEv8C8sxVtBPSKkIeEG7QTAy')]}})\n",
      "**********BELOW IS MY STATE***************\n",
      "(('coder:326dceb5-f6a3-5c3f-7ef1-1de022835643',), {'agent': {'messages': [AIMessage(content='The square root of 42 is approximately 6.48074.', additional_kwargs={'refusal': None}, response_metadata={'token_usage': {'completion_tokens': 15, 'prompt_tokens': 165, 'total_tokens': 180, 'completion_tokens_details': {'accepted_prediction_tokens': 0, 'audio_tokens': 0, 'reasoning_tokens': 0, 'rejected_prediction_tokens': 0}, 'prompt_tokens_details': {'audio_tokens': 0, 'cached_tokens': 0}}, 'model_name': 'gpt-4o-2024-08-06', 'system_fingerprint': 'fp_07871e2ad8', 'id': 'chatcmpl-Bpt3qdpPpOcTy0t3K3itKXJCqfXbh', 'service_tier': 'default', 'finish_reason': 'stop', 'logprobs': None}, id='run--2e59350b-cf68-46b5-9532-7859501d2762-0', usage_metadata={'input_tokens': 165, 'output_tokens': 15, 'total_tokens': 180, 'input_token_details': {'audio': 0, 'cache_read': 0}, 'output_token_details': {'audio': 0, 'reasoning': 0}})]}})\n",
      "**********BELOW IS MY STATE***************\n",
      "((), {'coder': {'messages': [HumanMessage(content='The square root of 42 is approximately 6.48074.', additional_kwargs={}, response_metadata={}, name='coder')]}})\n",
      "**********BELOW IS MY STATE***************\n",
      "**********BELOW IS MY GOTO***************\n",
      "FINISH\n",
      "((), {'supervisor': {'next': '__end__'}})\n",
      "**********BELOW IS MY STATE***************\n"
     ]
    }
   ],
   "source": [
    "for s in app.stream({\"messages\": [(\"user\", \"What's the square root of 42?\")]}, subgraphs=True):\n",
    "    print(s)\n",
    "    print(\"**********BELOW IS MY STATE***************\")"
   ]
  },
  {
   "cell_type": "code",
   "execution_count": 97,
   "id": "b091e4c5",
   "metadata": {},
   "outputs": [
    {
     "name": "stdout",
     "output_type": "stream",
     "text": [
      "**********BELOW IS MY GOTO***************\n",
      "coder\n",
      "**********BELOW IS MY GOTO***************\n",
      "researcher\n",
      "**********BELOW IS MY GOTO***************\n",
      "coder\n",
      "**********BELOW IS MY GOTO***************\n",
      "FINISH\n"
     ]
    }
   ],
   "source": [
    "result = app.invoke({\"messages\": [(\"user\", \"what is an efficent python code to get prime number?\")]}, subgraphs=True)"
   ]
  },
  {
   "cell_type": "code",
   "execution_count": 98,
   "id": "aa3b6106",
   "metadata": {},
   "outputs": [
    {
     "name": "stdout",
     "output_type": "stream",
     "text": [
      "**********BELOW IS MY GOTO***************\n",
      "coder\n",
      "**********BELOW IS MY GOTO***************\n",
      "FINISH\n"
     ]
    }
   ],
   "source": [
    "result = app.invoke({\"messages\": [(\"user\", \"what is an efficent python code to get prime number?\")]}, subgraphs=True)"
   ]
  },
  {
   "cell_type": "code",
   "execution_count": null,
   "id": "cc254f1d",
   "metadata": {},
   "outputs": [],
   "source": []
  },
  {
   "cell_type": "code",
   "execution_count": null,
   "id": "c48909cd",
   "metadata": {},
   "outputs": [],
   "source": []
  },
  {
   "cell_type": "code",
   "execution_count": null,
   "id": "6d22e4d3",
   "metadata": {},
   "outputs": [],
   "source": []
  }
 ],
 "metadata": {
  "kernelspec": {
   "display_name": "Python 3",
   "language": "python",
   "name": "python3"
  },
  "language_info": {
   "codemirror_mode": {
    "name": "ipython",
    "version": 3
   },
   "file_extension": ".py",
   "mimetype": "text/x-python",
   "name": "python",
   "nbconvert_exporter": "python",
   "pygments_lexer": "ipython3",
   "version": "3.12.11"
  }
 },
 "nbformat": 4,
 "nbformat_minor": 5
}
