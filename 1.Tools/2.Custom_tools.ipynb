{
 "cells": [
  {
   "cell_type": "markdown",
   "id": "bcec18a5",
   "metadata": {},
   "source": [
    "#### Custom Tools"
   ]
  },
  {
   "cell_type": "code",
   "execution_count": 2,
   "id": "c9b5128d",
   "metadata": {},
   "outputs": [],
   "source": [
    "def multiply(a : int , b :int)-> int:\n",
    "    return a * b"
   ]
  },
  {
   "cell_type": "code",
   "execution_count": 3,
   "id": "57f1dfd4",
   "metadata": {},
   "outputs": [
    {
     "data": {
      "text/plain": [
       "200"
      ]
     },
     "execution_count": 3,
     "metadata": {},
     "output_type": "execute_result"
    }
   ],
   "source": [
    "multiply(10,20)"
   ]
  },
  {
   "cell_type": "code",
   "execution_count": 4,
   "id": "e396b69f",
   "metadata": {},
   "outputs": [
    {
     "ename": "AttributeError",
     "evalue": "'function' object has no attribute 'run'",
     "output_type": "error",
     "traceback": [
      "\u001b[31m---------------------------------------------------------------------------\u001b[39m",
      "\u001b[31mAttributeError\u001b[39m                            Traceback (most recent call last)",
      "\u001b[36mCell\u001b[39m\u001b[36m \u001b[39m\u001b[32mIn[4]\u001b[39m\u001b[32m, line 1\u001b[39m\n\u001b[32m----> \u001b[39m\u001b[32m1\u001b[39m \u001b[43mmultiply\u001b[49m\u001b[43m.\u001b[49m\u001b[43mrun\u001b[49m(\u001b[32m10\u001b[39m,\u001b[32m20\u001b[39m)\n",
      "\u001b[31mAttributeError\u001b[39m: 'function' object has no attribute 'run'"
     ]
    }
   ],
   "source": [
    "multiply.run(10,20)"
   ]
  },
  {
   "cell_type": "code",
   "execution_count": 5,
   "id": "96ae0732",
   "metadata": {},
   "outputs": [
    {
     "ename": "AttributeError",
     "evalue": "'function' object has no attribute 'invoke'",
     "output_type": "error",
     "traceback": [
      "\u001b[31m---------------------------------------------------------------------------\u001b[39m",
      "\u001b[31mAttributeError\u001b[39m                            Traceback (most recent call last)",
      "\u001b[36mCell\u001b[39m\u001b[36m \u001b[39m\u001b[32mIn[5]\u001b[39m\u001b[32m, line 1\u001b[39m\n\u001b[32m----> \u001b[39m\u001b[32m1\u001b[39m \u001b[43mmultiply\u001b[49m\u001b[43m.\u001b[49m\u001b[43minvoke\u001b[49m(\u001b[32m10\u001b[39m,\u001b[32m20\u001b[39m)\n",
      "\u001b[31mAttributeError\u001b[39m: 'function' object has no attribute 'invoke'"
     ]
    }
   ],
   "source": [
    "multiply.invoke(10,20)"
   ]
  },
  {
   "cell_type": "markdown",
   "id": "0cbf12e8",
   "metadata": {},
   "source": [
    "- The above one is the function and it is not the Tool,\n",
    "- So, we can't use .run() or .invoke() on above"
   ]
  },
  {
   "cell_type": "code",
   "execution_count": 6,
   "id": "730599b0",
   "metadata": {},
   "outputs": [],
   "source": [
    "from langchain.agents import tool"
   ]
  },
  {
   "cell_type": "code",
   "execution_count": 20,
   "id": "4f669f25",
   "metadata": {},
   "outputs": [],
   "source": [
    "@tool \n",
    "def multiply(a : int , b :int)-> int:\n",
    "    \"\"\"\n",
    "    It takes the two argumnets  a , b \n",
    "    it will perform the multiplication between a and b\n",
    "    and result the result a * b\n",
    "    \"\"\"\n",
    "    return a * b"
   ]
  },
  {
   "cell_type": "code",
   "execution_count": 21,
   "id": "b0d3a9e6",
   "metadata": {},
   "outputs": [
    {
     "data": {
      "text/plain": [
       "200"
      ]
     },
     "execution_count": 21,
     "metadata": {},
     "output_type": "execute_result"
    }
   ],
   "source": [
    "multiply.invoke({\"a\":10,\"b\":20})   #Use invoke "
   ]
  },
  {
   "cell_type": "code",
   "execution_count": 22,
   "id": "e2747632",
   "metadata": {},
   "outputs": [
    {
     "data": {
      "text/plain": [
       "200"
      ]
     },
     "execution_count": 22,
     "metadata": {},
     "output_type": "execute_result"
    }
   ],
   "source": [
    "multiply.run({\"a\":10,\"b\":20})"
   ]
  },
  {
   "cell_type": "code",
   "execution_count": 23,
   "id": "695eded3",
   "metadata": {},
   "outputs": [
    {
     "data": {
      "text/plain": [
       "'multiply'"
      ]
     },
     "execution_count": 23,
     "metadata": {},
     "output_type": "execute_result"
    }
   ],
   "source": [
    "multiply.name"
   ]
  },
  {
   "cell_type": "code",
   "execution_count": 24,
   "id": "a80f29f0",
   "metadata": {},
   "outputs": [
    {
     "data": {
      "text/plain": [
       "{'a': {'title': 'A', 'type': 'integer'},\n",
       " 'b': {'title': 'B', 'type': 'integer'}}"
      ]
     },
     "execution_count": 24,
     "metadata": {},
     "output_type": "execute_result"
    }
   ],
   "source": [
    "multiply.args"
   ]
  },
  {
   "cell_type": "code",
   "execution_count": 25,
   "id": "fc83afd2",
   "metadata": {},
   "outputs": [
    {
     "data": {
      "text/plain": [
       "'It takes the two argumnets  a , b \\nit will perform the multiplication between a and b\\nand result the result a * b'"
      ]
     },
     "execution_count": 25,
     "metadata": {},
     "output_type": "execute_result"
    }
   ],
   "source": [
    "multiply.description"
   ]
  },
  {
   "cell_type": "code",
   "execution_count": 26,
   "id": "3c906d35",
   "metadata": {},
   "outputs": [],
   "source": [
    "def get_word_length(word:str)->int:\n",
    "    return len(word)"
   ]
  },
  {
   "cell_type": "code",
   "execution_count": 27,
   "id": "14e08f89",
   "metadata": {},
   "outputs": [
    {
     "data": {
      "text/plain": [
       "5"
      ]
     },
     "execution_count": 27,
     "metadata": {},
     "output_type": "execute_result"
    }
   ],
   "source": [
    "get_word_length(\"Mohan\")"
   ]
  },
  {
   "cell_type": "code",
   "execution_count": 28,
   "id": "fec7111f",
   "metadata": {},
   "outputs": [
    {
     "data": {
      "text/plain": [
       "15"
      ]
     },
     "execution_count": 28,
     "metadata": {},
     "output_type": "execute_result"
    }
   ],
   "source": [
    "get_word_length(\"this is my Area\")"
   ]
  },
  {
   "cell_type": "code",
   "execution_count": 29,
   "id": "d569458f",
   "metadata": {},
   "outputs": [],
   "source": [
    "#Make it as the tool\n",
    "@tool\n",
    "def get_word_length(word:str)->int:\n",
    "    \"\"\"\n",
    "    This Function takes the string input and return the length of the string as int\n",
    "    \"\"\"\n",
    "    return len(word)"
   ]
  },
  {
   "cell_type": "code",
   "execution_count": 33,
   "id": "6322a3f7",
   "metadata": {},
   "outputs": [
    {
     "name": "stdout",
     "output_type": "stream",
     "text": [
      "get_word_length\n",
      "------------------------------------------------------------\n",
      "{'word': {'title': 'Word', 'type': 'string'}}\n",
      "------------------------------------------------------------\n",
      "This Function takes the string input and return the length of the string as int\n"
     ]
    }
   ],
   "source": [
    "print(get_word_length.name)\n",
    "print('--'*30)\n",
    "print(get_word_length.args)\n",
    "print('--'*30)\n",
    "print(get_word_length.description)"
   ]
  },
  {
   "cell_type": "code",
   "execution_count": 39,
   "id": "585d5346",
   "metadata": {},
   "outputs": [
    {
     "name": "stdout",
     "output_type": "stream",
     "text": [
      "5\n",
      "9\n",
      "12\n"
     ]
    }
   ],
   "source": [
    "print(get_word_length.invoke(\"Mohan\"))\n",
    "print(get_word_length.invoke(\"Hare Rama\"))\n",
    "print(get_word_length.invoke(\"Hare Krishna\"))"
   ]
  },
  {
   "cell_type": "code",
   "execution_count": null,
   "id": "5da58229",
   "metadata": {},
   "outputs": [],
   "source": []
  },
  {
   "cell_type": "code",
   "execution_count": null,
   "id": "9618dfed",
   "metadata": {},
   "outputs": [],
   "source": []
  },
  {
   "cell_type": "code",
   "execution_count": null,
   "id": "e9bcd0b7",
   "metadata": {},
   "outputs": [],
   "source": []
  },
  {
   "cell_type": "code",
   "execution_count": null,
   "id": "f6619fe3",
   "metadata": {},
   "outputs": [],
   "source": []
  },
  {
   "cell_type": "code",
   "execution_count": null,
   "id": "6949785a",
   "metadata": {},
   "outputs": [],
   "source": []
  },
  {
   "cell_type": "code",
   "execution_count": null,
   "id": "dd2e4542",
   "metadata": {},
   "outputs": [],
   "source": []
  }
 ],
 "metadata": {
  "kernelspec": {
   "display_name": "Python 3",
   "language": "python",
   "name": "python3"
  },
  "language_info": {
   "codemirror_mode": {
    "name": "ipython",
    "version": 3
   },
   "file_extension": ".py",
   "mimetype": "text/x-python",
   "name": "python",
   "nbconvert_exporter": "python",
   "pygments_lexer": "ipython3",
   "version": "3.12.11"
  }
 },
 "nbformat": 4,
 "nbformat_minor": 5
}
