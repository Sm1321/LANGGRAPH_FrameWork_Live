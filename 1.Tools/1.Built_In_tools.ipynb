{
 "cells": [
  {
   "cell_type": "markdown",
   "id": "5ab025f3",
   "metadata": {},
   "source": [
    "### Built in Tools"
   ]
  },
  {
   "cell_type": "markdown",
   "id": "f3caa844",
   "metadata": {},
   "source": [
    "### WikiPedia Tool"
   ]
  },
  {
   "cell_type": "code",
   "execution_count": 30,
   "id": "418e3eee",
   "metadata": {},
   "outputs": [],
   "source": [
    "from langchain_community.tools import WikipediaQueryRun"
   ]
  },
  {
   "cell_type": "code",
   "execution_count": 31,
   "id": "b5b65b33",
   "metadata": {},
   "outputs": [],
   "source": [
    "from langchain_community.utilities import WikipediaAPIWrapper"
   ]
  },
  {
   "cell_type": "code",
   "execution_count": 32,
   "id": "06d71fcf",
   "metadata": {},
   "outputs": [],
   "source": [
    "api_wrapper = WikipediaAPIWrapper(\n",
    "    top_k_results = 5,\n",
    "    doc_content_chars_max = 500)"
   ]
  },
  {
   "cell_type": "code",
   "execution_count": 33,
   "id": "a184e7a5",
   "metadata": {},
   "outputs": [],
   "source": [
    "wiki_tool = WikipediaQueryRun(api_wrapper = api_wrapper)"
   ]
  },
  {
   "cell_type": "code",
   "execution_count": 34,
   "id": "31a22f7f",
   "metadata": {},
   "outputs": [
    {
     "data": {
      "text/plain": [
       "WikipediaQueryRun(api_wrapper=WikipediaAPIWrapper(wiki_client=<module 'wikipedia' from 'c:\\\\MY_Folder\\\\Git_Folders\\\\LANGGRAPH_FrameWork_Live\\\\mvenv\\\\Lib\\\\site-packages\\\\wikipedia\\\\__init__.py'>, top_k_results=5, lang='en', load_all_available_meta=False, doc_content_chars_max=500))"
      ]
     },
     "execution_count": 34,
     "metadata": {},
     "output_type": "execute_result"
    }
   ],
   "source": [
    "wiki_tool"
   ]
  },
  {
   "cell_type": "code",
   "execution_count": 35,
   "id": "a146e334",
   "metadata": {},
   "outputs": [
    {
     "data": {
      "text/plain": [
       "'A wrapper around Wikipedia. Useful for when you need to answer general questions about people, places, companies, facts, historical events, or other subjects. Input should be a search query.'"
      ]
     },
     "execution_count": 35,
     "metadata": {},
     "output_type": "execute_result"
    }
   ],
   "source": [
    "wiki_tool.description"
   ]
  },
  {
   "cell_type": "code",
   "execution_count": 36,
   "id": "03c254f7",
   "metadata": {},
   "outputs": [
    {
     "data": {
      "text/plain": [
       "{'query': {'description': 'query to look up on wikipedia',\n",
       "  'title': 'Query',\n",
       "  'type': 'string'}}"
      ]
     },
     "execution_count": 36,
     "metadata": {},
     "output_type": "execute_result"
    }
   ],
   "source": [
    "wiki_tool.args"
   ]
  },
  {
   "cell_type": "code",
   "execution_count": 37,
   "id": "93d136b6",
   "metadata": {},
   "outputs": [
    {
     "data": {
      "text/plain": [
       "\"Page: Sanju Samson\\nSummary: Sanju Viswanath Samson ( ;  born 11 November 1994) is an Indian international cricketer, who is a member of the white-ball formats of Indian national team. A right-handed wicket-keeper-batter, he captains Rajasthan Royals in the Indian Premier League and Kerala in domestic. He made his international debut in 2015 in a T20 international against Zimbabwe, though didn't feature in any of the matches. He is the only player to score three centuries in T20 internationals in\""
      ]
     },
     "execution_count": 37,
     "metadata": {},
     "output_type": "execute_result"
    }
   ],
   "source": [
    "wiki_tool.run({\"query\":\"Sanju samson\"})"
   ]
  },
  {
   "cell_type": "code",
   "execution_count": 38,
   "id": "b31433d8",
   "metadata": {},
   "outputs": [
    {
     "name": "stderr",
     "output_type": "stream",
     "text": [
      "c:\\MY_Folder\\Git_Folders\\LANGGRAPH_FrameWork_Live\\mvenv\\Lib\\site-packages\\wikipedia\\wikipedia.py:389: GuessedAtParserWarning: No parser was explicitly specified, so I'm using the best available HTML parser for this system (\"html.parser\"). This usually isn't a problem, but if you run this code on another system, or in a different virtual environment, it may use a different parser and behave differently.\n",
      "\n",
      "The code that caused this warning is on line 389 of the file c:\\MY_Folder\\Git_Folders\\LANGGRAPH_FrameWork_Live\\mvenv\\Lib\\site-packages\\wikipedia\\wikipedia.py. To get rid of this warning, pass the additional argument 'features=\"html.parser\"' to the BeautifulSoup constructor.\n",
      "\n",
      "  lis = BeautifulSoup(html).find_all('li')\n"
     ]
    },
    {
     "data": {
      "text/plain": [
       "'Page: Indian Premier League\\nSummary: The Indian Premier League (IPL) is a professional Twenty20 (T20) cricket league in India, organised by the Board of Control for Cricket in India (BCCI). Founded in 2007, it features ten city-based franchise teams. The IPL is the most popular and richest cricket league, and the second-richest sports league in the world. It is held annually between March and May. It has an exclusive window in the Future Tours Programme of the International Cricket Council, resu'"
      ]
     },
     "execution_count": 38,
     "metadata": {},
     "output_type": "execute_result"
    }
   ],
   "source": [
    "wiki_tool.run(\"IPL\")"
   ]
  },
  {
   "cell_type": "markdown",
   "id": "0f798c0e",
   "metadata": {},
   "source": [
    "### Youtube Search Tool"
   ]
  },
  {
   "cell_type": "code",
   "execution_count": 39,
   "id": "265ed99b",
   "metadata": {},
   "outputs": [
    {
     "data": {
      "text/plain": [
       "'youtube_search'"
      ]
     },
     "execution_count": 39,
     "metadata": {},
     "output_type": "execute_result"
    }
   ],
   "source": [
    "from langchain_community.tools import YouTubeSearchTool\n",
    "y_tool = YouTubeSearchTool()\n",
    "y_tool.name"
   ]
  },
  {
   "cell_type": "code",
   "execution_count": 40,
   "id": "645ea690",
   "metadata": {},
   "outputs": [
    {
     "data": {
      "text/plain": [
       "'search for youtube videos associated with a person. the input to this tool should be a comma separated list, the first part contains a person name and the second a number that is the maximum number of video results to return aka num_results. the second part is optional'"
      ]
     },
     "execution_count": 40,
     "metadata": {},
     "output_type": "execute_result"
    }
   ],
   "source": [
    "y_tool.description"
   ]
  },
  {
   "cell_type": "code",
   "execution_count": 41,
   "id": "75e1dfe2",
   "metadata": {},
   "outputs": [
    {
     "data": {
      "text/plain": [
       "{'query': {'title': 'Query', 'type': 'string'}}"
      ]
     },
     "execution_count": 41,
     "metadata": {},
     "output_type": "execute_result"
    }
   ],
   "source": [
    "y_tool.args"
   ]
  },
  {
   "cell_type": "code",
   "execution_count": 42,
   "id": "0faad58d",
   "metadata": {},
   "outputs": [
    {
     "data": {
      "text/plain": [
       "\"['https://www.youtube.com/shorts/y9XnfQdOMRQ', 'https://www.youtube.com/shorts/dMBVuRYzAKs']\""
      ]
     },
     "execution_count": 42,
     "metadata": {},
     "output_type": "execute_result"
    }
   ],
   "source": [
    "y_tool.run(\"CampusX\")"
   ]
  },
  {
   "cell_type": "code",
   "execution_count": 43,
   "id": "d3b8cc72",
   "metadata": {},
   "outputs": [
    {
     "data": {
      "text/plain": [
       "\"['https://www.youtube.com/watch?v=_kpxLkH5vY0&pp=ygUMU3Vubnkgc2F2aXRh', 'https://www.youtube.com/watch?v=NED-dKEbtAQ&pp=ygUMU3Vubnkgc2F2aXRh']\""
      ]
     },
     "execution_count": 43,
     "metadata": {},
     "output_type": "execute_result"
    }
   ],
   "source": [
    "y_tool.run(\"Sunny savita\")"
   ]
  },
  {
   "cell_type": "code",
   "execution_count": 44,
   "id": "d4a82597",
   "metadata": {},
   "outputs": [
    {
     "data": {
      "text/plain": [
       "True"
      ]
     },
     "execution_count": 44,
     "metadata": {},
     "output_type": "execute_result"
    }
   ],
   "source": [
    "from dotenv import load_dotenv\n",
    "load_dotenv()"
   ]
  },
  {
   "cell_type": "code",
   "execution_count": 54,
   "id": "f924075d",
   "metadata": {},
   "outputs": [],
   "source": [
    "# import os  \n",
    "# os.environ['TAVILY_API_KEY'] = os.getenv('TAVILY_API_KEY')"
   ]
  },
  {
   "cell_type": "markdown",
   "id": "43100ed7",
   "metadata": {},
   "source": [
    "### Tavily Search Tool"
   ]
  },
  {
   "cell_type": "code",
   "execution_count": 55,
   "id": "c46ae387",
   "metadata": {},
   "outputs": [
    {
     "name": "stdout",
     "output_type": "stream",
     "text": [
      "API key loaded successfully\n"
     ]
    }
   ],
   "source": [
    "import os\n",
    "\n",
    "# Get the API key from environment variables\n",
    "api_key = os.getenv('TAVILY_API_KEY')\n",
    "\n",
    "# Optional: Check if the key exists\n",
    "if api_key is None:\n",
    "    print(\"Warning: TAVILY_API_KEY not found in environment variables\")\n",
    "else:\n",
    "    print(\"API key loaded successfully\")"
   ]
  },
  {
   "cell_type": "code",
   "execution_count": 56,
   "id": "f0f32b99",
   "metadata": {},
   "outputs": [
    {
     "data": {
      "text/plain": [
       "'tavily_search_results_json'"
      ]
     },
     "execution_count": 56,
     "metadata": {},
     "output_type": "execute_result"
    }
   ],
   "source": [
    "from langchain_community.tools.tavily_search import TavilySearchResults\n",
    "ts_tool = TavilySearchResults(api_key = api_key )\n",
    "ts_tool.name"
   ]
  },
  {
   "cell_type": "code",
   "execution_count": 57,
   "id": "c019dcdb",
   "metadata": {},
   "outputs": [
    {
     "data": {
      "text/plain": [
       "{'query': {'description': 'search query to look up',\n",
       "  'title': 'Query',\n",
       "  'type': 'string'}}"
      ]
     },
     "execution_count": 57,
     "metadata": {},
     "output_type": "execute_result"
    }
   ],
   "source": [
    "ts_tool.args"
   ]
  },
  {
   "cell_type": "code",
   "execution_count": 58,
   "id": "8b550982",
   "metadata": {},
   "outputs": [
    {
     "data": {
      "text/plain": [
       "'A search engine optimized for comprehensive, accurate, and trusted results. Useful for when you need to answer questions about current events. Input should be a search query.'"
      ]
     },
     "execution_count": 58,
     "metadata": {},
     "output_type": "execute_result"
    }
   ],
   "source": [
    "ts_tool.description"
   ]
  },
  {
   "cell_type": "code",
   "execution_count": 59,
   "id": "4e0feaf9",
   "metadata": {},
   "outputs": [
    {
     "data": {
      "text/plain": [
       "[{'title': 'What is Data Science? - AWS',\n",
       "  'url': 'https://aws.amazon.com/what-is/data-science/',\n",
       "  'content': '# What is Data Science?\\n\\n## What is data science?\\n\\nData science is the study of data to extract meaningful insights for business. It is a multidisciplinary approach that combines principles and practices from the fields of mathematics, statistics, artificial intelligence, and computer engineering to analyze large amounts of data. This analysis helps data scientists to ask and answer questions like what happened, why it happened, what will happen, and what can be done with the results. [...] While the terms may be used interchangeably, data analytics is a subset of data science. Data science is an umbrella term for all aspects of data processing—from the collection to modeling to insights. On the other hand, data analytics is mainly concerned with statistics, mathematics, and statistical analysis. It focuses on only data analysis, while data science is related to the bigger picture around organizational data.In most workplaces, data scientists and data analysts work together [...] ### What is the difference between data science and statistics?\\n\\nStatistics is a mathematically-based field that seeks to collect and interpret quantitative data. In contrast, data science is a multidisciplinary field that uses scientific methods, processes, and systems to extract knowledge from data in various forms. Data scientists use methods from many disciplines, including statistics. However, the fields differ in their processes and the problems they study.',\n",
       "  'score': 0.94326943},\n",
       " {'title': 'What Is Data Science? Definition, Skills, Applications & More',\n",
       "  'url': 'https://seas.harvard.edu/news/what-data-science-definition-skills-applications-more',\n",
       "  'content': 'The [U.S. Census Bureau](https://www.census.gov/topics/research/data-science.html) defines data science as \"a field of study that uses scientific methods, processes, and systems to extract knowledge and insights from data.\" So, this is a field that works with data that doesn\\'t fit neatly into rows and columns—and, in the end, derives relevant information from it. [...] Data science is inherently interdisciplinary as it combines expertise from statistics, computer science, mathematics, and domain-specific knowledge. This makes it incredibly versatile, with applications spanning healthcare, finance, marketing, and even environmental research. [...] Data science is often considered the intersection between statistics and computer science because its history is rooted in these two fields, and they share many of the same principles.',\n",
       "  'score': 0.9145431},\n",
       " {'title': 'What is Data Science? - GeeksforGeeks',\n",
       "  'url': 'https://www.geeksforgeeks.org/data-science/data-science/',\n",
       "  'content': 'Data science is the study of data that helps us derive useful insight for business decision making. Data Science is all about using tools,',\n",
       "  'score': 0.91362286},\n",
       " {'title': 'Data science - Wikipedia',\n",
       "  'url': 'https://en.wikipedia.org/wiki/Data_science',\n",
       "  'content': '**Data science** is an [interdisciplinary](https://en.wikipedia.org/wiki/Interdisciplinary \"Interdisciplinary\") academic field[\\\\[1\\\\]](https://en.wikipedia.org/wiki/Data_science#cite_note-1) that uses [statistics](https://en.wikipedia.org/wiki/Statistics \"Statistics\"), [scientific computing](https://en.wikipedia.org/wiki/Scientific_computing \"Scientific computing\"), [scientific methods](https://en.wikipedia.org/wiki/Scientific_method \"Scientific method\"), processing, [scientific [...] Data science is \"a concept to unify [statistics](https://en.wikipedia.org/wiki/Statistics \"Statistics\"), [data analysis](https://en.wikipedia.org/wiki/Data_analysis \"Data analysis\"), [informatics](https://en.wikipedia.org/wiki/Informatics \"Informatics\"), and their related [methods](https://en.wikipedia.org/wiki/Scientific_method \"Scientific method\")\" to \"understand and analyze actual [phenomena](https://en.wikipedia.org/wiki/Phenomena \"Phenomena\")\" with [data](https://en.wikipedia.org/wiki/Data [...] Data science is an [interdisciplinary](https://en.wikipedia.org/wiki/Interdisciplinarity \"Interdisciplinarity\") [field](https://en.wikipedia.org/wiki/Academic_discipline \"Academic discipline\")[\\\\[10\\\\]](https://en.wikipedia.org/wiki/Data_science#cite_note-10) focused on [extracting knowledge](https://en.wikipedia.org/wiki/Knowledge_extraction \"Knowledge extraction\") from typically [large](https://en.wikipedia.org/wiki/Big_data \"Big data\") [data sets](https://en.wikipedia.org/wiki/Data_set \"Data',\n",
       "  'score': 0.90102744},\n",
       " {'title': 'Data Science | NNLM',\n",
       "  'url': 'https://www.nnlm.gov/guides/data-glossary/data-science',\n",
       "  'content': 'Data Science is an interdisciplinary field which uses statistics, computer science, programming, and domain knowledge to collect, process,',\n",
       "  'score': 0.9006087}]"
      ]
     },
     "execution_count": 59,
     "metadata": {},
     "output_type": "execute_result"
    }
   ],
   "source": [
    "ts_tool.run(\"What is Data Science\")"
   ]
  },
  {
   "cell_type": "code",
   "execution_count": 61,
   "id": "0deffcb6",
   "metadata": {},
   "outputs": [
    {
     "data": {
      "text/plain": [
       "[{'title': 'India Latest News: Top National Headlines Today ... - The Hindu',\n",
       "  'url': 'https://www.thehindu.com/news/national/',\n",
       "  'content': '### [**Nitish Katara murder case: Supreme Court grants 3-month furlough to Sukhdev Yadav**](https://www.thehindu.com/news/national/nitish-katara-murder-case-supreme-court-grants-3-month-furlough-to-sukhdev-yadav/article69734964.ece)\\n\\n### [**Uttarakhand: NDRF resumes search for missing pilgrims**](https://www.thehindu.com/news/national/uttarakhand/uttarakhand-ndrf-resumes-search-for-missing-pilgrims/article69734977.ece) [...] ![Search and rescue operation underway for missing pilgrims, days after a landslide on the trek route to Yamunotri, in Uttarkashi district, Uttarakhand, Wednesday, June 25, 2025. ](https://www.thehindu.com/theme/images/th-online/1x1_spacer.png \"Search and rescue operation underway for missing pilgrims, days after a landslide on the trek route to Yamunotri, in Uttarkashi district, Uttarakhand, Wednesday, June 25, 2025. \")\\n\\n#### More stories from India [...] ### [Dangerous flow of mud submerges Attamala road in Kerala’s Wayanad after heavy rains](https://www.thehindu.com/news/national/kerala/dangerous-flow-of-mud-submerges-attamala-road-in-keralas-wayanad-after-heavy-rains/article69734827.ece)\\n\\n### [BJP staging drama on Emergency to hide governance failure: Kharge](https://www.thehindu.com/news/national/bjp-staging-drama-on-emergency-to-hide-governance-failure-kharge/article69735239.ece)',\n",
       "  'score': 0.69845337},\n",
       " {'title': 'Latest News Today: Breaking News and Top Headlines from India ...',\n",
       "  'url': 'https://indianexpress.com/',\n",
       "  'content': \"## [Top News](https://indianexpress.com/section/india/)\\n\\n### [Social media love affair ends in brutal murder of Hyderabad woman ‘by teen daughter, her boyfriend’](https://indianexpress.com/article/india/social-media-love-affair-brutal-murder-hyderabad-woman-teen-daughter-boyfriend-10087210/)\\n\\n![hyderabad woman murder over social media love affair](https://indianexpress.com/wp-content/themes/indianexpress/images/default-ie.jpg) [...] ### [FM Nirmala Sitharaman rejects 'tariff king' charge, says India has just 8 tariff rates](https://indianexpress.com/article/business/india-not-a-tariff-king-has-reduced-tariff-rates-to-eight-fm-sitharaman-10085286/)\\n\\n![Mumbai airport](//images.indianexpress.com/2025/06/Mumbai-airport-1_20250607153136_20250623062539.jpg?w=210) [...] ### [Jagan Reddy’s bulletproof Toyota Fortuner seized in YSRCP supporter’s death case](https://indianexpress.com/article/india/jagan-reddy-bulletproof-toyota-fortuner-seized-ysrcp-supporter-death-case-10087104/)\\n\\n![Y S Jagan Mohan Reddy’s vehicle allegedly ran over a YSRCP supporter in Guntur on June 18.](https://indianexpress.com/wp-content/themes/indianexpress/images/default-ie.jpg)\",\n",
       "  'score': 0.6765563},\n",
       " {'title': 'India | Latest News & Updates - BBC',\n",
       "  'url': 'https://www.bbc.com/news/world/asia/india',\n",
       "  'content': \"India will not change from their plan to play star bowler Jasprit Bumrah in only three of the five Tests against England this summer, says coach Gautam Gambhir.\\n\\n## Remembering India's iconic crocodile-hunting tigress\\n\\nArrowhead, also known as T-84, died last week in India's Ranthambore national park.\\n\\n## 'Tourists are our lifeline': Picking up the pieces in Kashmir after April killings\\n\\nTwenty-six people were killed in an attack on tourists visiting a meadow near Pahalgam town in April.\",\n",
       "  'score': 0.6690754},\n",
       " {'title': 'India Today: Latest News, Breaking News Today - Entertainment ...',\n",
       "  'url': 'https://www.indiatoday.in/',\n",
       "  'content': \"A wave of joy and pride swept through Lucknow as Group Captain Shubhanshu Shukla made history with the Axiom-4 mission, launching from NASA's Kennedy Space Centre on Wednesday.\\nHailing from Uttar Pradesh's capital, the Indian Air Force officer is set to travel to the International Space Station (ISS) as part of the historic mission.\\nShukla's father, Shambhu Dayal, said his son's journey is a moment of immense pride, not just for Lucknow, but for the entire nation.\\n\\n## LATEST STORIES\",\n",
       "  'score': 0.63397753},\n",
       " {'title': 'India news - breaking news, video and headlines and opinion - CNN',\n",
       "  'url': 'https://www.cnn.com/world/india',\n",
       "  'content': '![Rescue officials work at the site where Air India flight 171 crashed in a residential area near the airport in Ahmedabad on June 12, 2025. A London-bound passenger plane crashed in the Indian city of Ahmedabad on June 12 and all 242 people on board were believed killed, with the jet smashing into buildings housing doctors and their families.](https://media.cnn.com/api/v1/images/stellar/prod/gettyimages-2219155922.jpg?c=16x9&q=h_438,w_780,c_fill)',\n",
       "  'score': 0.62852204}]"
      ]
     },
     "execution_count": 61,
     "metadata": {},
     "output_type": "execute_result"
    }
   ],
   "source": [
    "ts_tool.invoke(\"What is the latest news in India\")"
   ]
  },
  {
   "cell_type": "code",
   "execution_count": null,
   "id": "24312652",
   "metadata": {},
   "outputs": [],
   "source": []
  },
  {
   "cell_type": "code",
   "execution_count": null,
   "id": "16ae9216",
   "metadata": {},
   "outputs": [],
   "source": []
  }
 ],
 "metadata": {
  "kernelspec": {
   "display_name": "Python 3",
   "language": "python",
   "name": "python3"
  },
  "language_info": {
   "codemirror_mode": {
    "name": "ipython",
    "version": 3
   },
   "file_extension": ".py",
   "mimetype": "text/x-python",
   "name": "python",
   "nbconvert_exporter": "python",
   "pygments_lexer": "ipython3",
   "version": "3.12.11"
  }
 },
 "nbformat": 4,
 "nbformat_minor": 5
}
